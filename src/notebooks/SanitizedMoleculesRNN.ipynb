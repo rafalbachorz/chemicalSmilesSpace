{
 "cells": [
  {
   "cell_type": "code",
   "execution_count": 1,
   "metadata": {},
   "outputs": [],
   "source": [
    "import pandas as pd\n",
    "import numpy as np\n",
    "import matplotlib.pyplot as plt\n",
    "from rdkit import Chem\n",
    "import math\n",
    "%matplotlib inline"
   ]
  },
  {
   "cell_type": "code",
   "execution_count": 2,
   "metadata": {},
   "outputs": [],
   "source": [
    "DF_smiles = pd.read_csv('DF_GI50_IC50_groupedSanitizedChosen.csv')"
   ]
  },
  {
   "cell_type": "code",
   "execution_count": 3,
   "metadata": {},
   "outputs": [
    {
     "data": {
      "image/png": "[encoded data removed]",
      "text/plain": [
       "<matplotlib.figure.Figure at 0x1417d0d5da0>"
      ]
     },
     "metadata": {},
     "output_type": "display_data"
    }
   ],
   "source": [
    "plt.hist(DF_smiles.loc[:, 'smilesLength'], bins = 50)\n",
    "plt.grid()\n",
    "plt.show()"
   ]
  },
  {
   "cell_type": "code",
   "execution_count": 4,
   "metadata": {},
   "outputs": [
    {
     "data": {
      "text/html": [
       "<div>\n",
       "<style scoped>\n",
       "    .dataframe tbody tr th:only-of-type {\n",
       "        vertical-align: middle;\n",
       "    }\n",
       "\n",
       "    .dataframe tbody tr th {\n",
       "        vertical-align: top;\n",
       "    }\n",
       "\n",
       "    .dataframe thead th {\n",
       "        text-align: right;\n",
       "    }\n",
       "</style>\n",
       "<table border=\"1\" class=\"dataframe\">\n",
       "  <thead>\n",
       "    <tr style=\"text-align: right;\">\n",
       "      <th></th>\n",
       "      <th>molregNoMin</th>\n",
       "      <th>molregNoCount</th>\n",
       "      <th>chemblSmiles</th>\n",
       "      <th>standardMin</th>\n",
       "      <th>standardMax</th>\n",
       "      <th>standardMean</th>\n",
       "      <th>publishedMain</th>\n",
       "      <th>publishedMax</th>\n",
       "      <th>publishedMean</th>\n",
       "      <th>canonicalSmiles</th>\n",
       "      <th>negativeCharged</th>\n",
       "      <th>positiveCharged</th>\n",
       "      <th>elementsSet</th>\n",
       "      <th>numberOfRings</th>\n",
       "      <th>organicChemistryElementsOnly</th>\n",
       "      <th>smilesLength</th>\n",
       "      <th>encodedSmiles</th>\n",
       "    </tr>\n",
       "  </thead>\n",
       "  <tbody>\n",
       "    <tr>\n",
       "      <th>496157</th>\n",
       "      <td>1976555</td>\n",
       "      <td>1</td>\n",
       "      <td>CNC(=O)c1cc2cc(Nc3nccc(n3)c4cc(COC)ccn4)cc(Cl)...</td>\n",
       "      <td>34.40</td>\n",
       "      <td>34.40</td>\n",
       "      <td>34.40</td>\n",
       "      <td>34.40</td>\n",
       "      <td>34.40</td>\n",
       "      <td>34.40</td>\n",
       "      <td>CNC(=O)c1cc2cc(Nc3nccc(-c4cc(COC)ccn4)n3)cc(Cl...</td>\n",
       "      <td>0.0</td>\n",
       "      <td>0.0</td>\n",
       "      <td>['Cl', 'N', 'C', 'O']</td>\n",
       "      <td>4.0</td>\n",
       "      <td>True</td>\n",
       "      <td>54</td>\n",
       "      <td>CNC(=O)c1cc2cc(Nc3nccc(-c4cc(COC)ccn4)n3)cc(U)...</td>\n",
       "    </tr>\n",
       "    <tr>\n",
       "      <th>496158</th>\n",
       "      <td>1976556</td>\n",
       "      <td>1</td>\n",
       "      <td>CNC(=O)c1cc2cc(Nc3nccc(n3)c4cc(COC)ccn4)cc(C)c...</td>\n",
       "      <td>7.20</td>\n",
       "      <td>7.20</td>\n",
       "      <td>7.20</td>\n",
       "      <td>7.20</td>\n",
       "      <td>7.20</td>\n",
       "      <td>7.20</td>\n",
       "      <td>CNC(=O)c1cc2cc(Nc3nccc(-c4cc(COC)ccn4)n3)cc(C)...</td>\n",
       "      <td>0.0</td>\n",
       "      <td>0.0</td>\n",
       "      <td>['N', 'C', 'O']</td>\n",
       "      <td>4.0</td>\n",
       "      <td>True</td>\n",
       "      <td>53</td>\n",
       "      <td>CNC(=O)c1cc2cc(Nc3nccc(-c4cc(COC)ccn4)n3)cc(C)...</td>\n",
       "    </tr>\n",
       "    <tr>\n",
       "      <th>496159</th>\n",
       "      <td>1976557</td>\n",
       "      <td>1</td>\n",
       "      <td>COC1=CC2=C(C)NC(=O)C(=C2C=C1OC)Cc3cccc(Oc4cccc...</td>\n",
       "      <td>140.00</td>\n",
       "      <td>140.00</td>\n",
       "      <td>140.00</td>\n",
       "      <td>140.00</td>\n",
       "      <td>140.00</td>\n",
       "      <td>140.00</td>\n",
       "      <td>COc1cc2c(C)[nH]c(=O)c(Cc3cccc(Oc4ccccc4)c3)c2c...</td>\n",
       "      <td>0.0</td>\n",
       "      <td>0.0</td>\n",
       "      <td>['N', 'C', 'O']</td>\n",
       "      <td>4.0</td>\n",
       "      <td>True</td>\n",
       "      <td>50</td>\n",
       "      <td>COc1cc2c(C)Wc(=O)c(Cc3cccc(Oc4ccccc4)c3)c2cc1OC</td>\n",
       "    </tr>\n",
       "    <tr>\n",
       "      <th>496160</th>\n",
       "      <td>1976558</td>\n",
       "      <td>1</td>\n",
       "      <td>CCC1=C2C=C(OC)C(=CC2=C(Cc3ccc4oc5ccccc5c4c3)C(...</td>\n",
       "      <td>0.12</td>\n",
       "      <td>0.12</td>\n",
       "      <td>0.12</td>\n",
       "      <td>0.12</td>\n",
       "      <td>0.12</td>\n",
       "      <td>0.12</td>\n",
       "      <td>CCc1[nH]c(=O)c(Cc2ccc3oc4ccccc4c3c2)c2cc(OC)c(...</td>\n",
       "      <td>0.0</td>\n",
       "      <td>0.0</td>\n",
       "      <td>['N', 'C', 'O']</td>\n",
       "      <td>5.0</td>\n",
       "      <td>True</td>\n",
       "      <td>53</td>\n",
       "      <td>CCc1Wc(=O)c(Cc2ccc3oc4ccccc4c3c2)c2cc(OC)c(OC)...</td>\n",
       "    </tr>\n",
       "    <tr>\n",
       "      <th>496161</th>\n",
       "      <td>1976559</td>\n",
       "      <td>1</td>\n",
       "      <td>CCCC1=C2C=C(OC)C(=CC2=C(Cc3ccc4oc5ccccc5c4c3)C...</td>\n",
       "      <td>0.50</td>\n",
       "      <td>0.50</td>\n",
       "      <td>0.50</td>\n",
       "      <td>0.50</td>\n",
       "      <td>0.50</td>\n",
       "      <td>0.50</td>\n",
       "      <td>CCCc1[nH]c(=O)c(Cc2ccc3oc4ccccc4c3c2)c2cc(OC)c...</td>\n",
       "      <td>0.0</td>\n",
       "      <td>0.0</td>\n",
       "      <td>['N', 'C', 'O']</td>\n",
       "      <td>5.0</td>\n",
       "      <td>True</td>\n",
       "      <td>54</td>\n",
       "      <td>CCCc1Wc(=O)c(Cc2ccc3oc4ccccc4c3c2)c2cc(OC)c(OC...</td>\n",
       "    </tr>\n",
       "  </tbody>\n",
       "</table>\n",
       "</div>"
      ],
      "text/plain": [
       "        molregNoMin  molregNoCount  \\\n",
       "496157      1976555              1   \n",
       "496158      1976556              1   \n",
       "496159      1976557              1   \n",
       "496160      1976558              1   \n",
       "496161      1976559              1   \n",
       "\n",
       "                                             chemblSmiles  standardMin  \\\n",
       "496157  CNC(=O)c1cc2cc(Nc3nccc(n3)c4cc(COC)ccn4)cc(Cl)...        34.40   \n",
       "496158  CNC(=O)c1cc2cc(Nc3nccc(n3)c4cc(COC)ccn4)cc(C)c...         7.20   \n",
       "496159  COC1=CC2=C(C)NC(=O)C(=C2C=C1OC)Cc3cccc(Oc4cccc...       140.00   \n",
       "496160  CCC1=C2C=C(OC)C(=CC2=C(Cc3ccc4oc5ccccc5c4c3)C(...         0.12   \n",
       "496161  CCCC1=C2C=C(OC)C(=CC2=C(Cc3ccc4oc5ccccc5c4c3)C...         0.50   \n",
       "\n",
       "        standardMax  standardMean  publishedMain  publishedMax  publishedMean  \\\n",
       "496157        34.40         34.40          34.40         34.40          34.40   \n",
       "496158         7.20          7.20           7.20          7.20           7.20   \n",
       "496159       140.00        140.00         140.00        140.00         140.00   \n",
       "496160         0.12          0.12           0.12          0.12           0.12   \n",
       "496161         0.50          0.50           0.50          0.50           0.50   \n",
       "\n",
       "                                          canonicalSmiles  negativeCharged  \\\n",
       "496157  CNC(=O)c1cc2cc(Nc3nccc(-c4cc(COC)ccn4)n3)cc(Cl...              0.0   \n",
       "496158  CNC(=O)c1cc2cc(Nc3nccc(-c4cc(COC)ccn4)n3)cc(C)...              0.0   \n",
       "496159  COc1cc2c(C)[nH]c(=O)c(Cc3cccc(Oc4ccccc4)c3)c2c...              0.0   \n",
       "496160  CCc1[nH]c(=O)c(Cc2ccc3oc4ccccc4c3c2)c2cc(OC)c(...              0.0   \n",
       "496161  CCCc1[nH]c(=O)c(Cc2ccc3oc4ccccc4c3c2)c2cc(OC)c...              0.0   \n",
       "\n",
       "        positiveCharged            elementsSet  numberOfRings  \\\n",
       "496157              0.0  ['Cl', 'N', 'C', 'O']            4.0   \n",
       "496158              0.0        ['N', 'C', 'O']            4.0   \n",
       "496159              0.0        ['N', 'C', 'O']            4.0   \n",
       "496160              0.0        ['N', 'C', 'O']            5.0   \n",
       "496161              0.0        ['N', 'C', 'O']            5.0   \n",
       "\n",
       "        organicChemistryElementsOnly  smilesLength  \\\n",
       "496157                          True            54   \n",
       "496158                          True            53   \n",
       "496159                          True            50   \n",
       "496160                          True            53   \n",
       "496161                          True            54   \n",
       "\n",
       "                                            encodedSmiles  \n",
       "496157  CNC(=O)c1cc2cc(Nc3nccc(-c4cc(COC)ccn4)n3)cc(U)...  \n",
       "496158  CNC(=O)c1cc2cc(Nc3nccc(-c4cc(COC)ccn4)n3)cc(C)...  \n",
       "496159    COc1cc2c(C)Wc(=O)c(Cc3cccc(Oc4ccccc4)c3)c2cc1OC  \n",
       "496160  CCc1Wc(=O)c(Cc2ccc3oc4ccccc4c3c2)c2cc(OC)c(OC)...  \n",
       "496161  CCCc1Wc(=O)c(Cc2ccc3oc4ccccc4c3c2)c2cc(OC)c(OC...  "
      ]
     },
     "execution_count": 4,
     "metadata": {},
     "output_type": "execute_result"
    }
   ],
   "source": [
    "DF_smiles.tail(5)"
   ]
  },
  {
   "cell_type": "code",
   "execution_count": 5,
   "metadata": {},
   "outputs": [],
   "source": [
    "DF_smiles.loc[:, 'encodedSmilesPostprocessed'] = DF_smiles.loc[:, 'encodedSmiles'].map(lambda x: x+'Q')"
   ]
  },
  {
   "cell_type": "code",
   "execution_count": 6,
   "metadata": {},
   "outputs": [
    {
     "data": {
      "text/html": [
       "<div>\n",
       "<style scoped>\n",
       "    .dataframe tbody tr th:only-of-type {\n",
       "        vertical-align: middle;\n",
       "    }\n",
       "\n",
       "    .dataframe tbody tr th {\n",
       "        vertical-align: top;\n",
       "    }\n",
       "\n",
       "    .dataframe thead th {\n",
       "        text-align: right;\n",
       "    }\n",
       "</style>\n",
       "<table border=\"1\" class=\"dataframe\">\n",
       "  <thead>\n",
       "    <tr style=\"text-align: right;\">\n",
       "      <th></th>\n",
       "      <th>molregNoMin</th>\n",
       "      <th>molregNoCount</th>\n",
       "      <th>chemblSmiles</th>\n",
       "      <th>standardMin</th>\n",
       "      <th>standardMax</th>\n",
       "      <th>standardMean</th>\n",
       "      <th>publishedMain</th>\n",
       "      <th>publishedMax</th>\n",
       "      <th>publishedMean</th>\n",
       "      <th>canonicalSmiles</th>\n",
       "      <th>negativeCharged</th>\n",
       "      <th>positiveCharged</th>\n",
       "      <th>elementsSet</th>\n",
       "      <th>numberOfRings</th>\n",
       "      <th>organicChemistryElementsOnly</th>\n",
       "      <th>smilesLength</th>\n",
       "      <th>encodedSmiles</th>\n",
       "      <th>encodedSmilesPostprocessed</th>\n",
       "    </tr>\n",
       "  </thead>\n",
       "  <tbody>\n",
       "    <tr>\n",
       "      <th>0</th>\n",
       "      <td>23</td>\n",
       "      <td>12</td>\n",
       "      <td>Br\\C=C\\1/CCC(C(=O)O1)c2cccc3ccccc23</td>\n",
       "      <td>100.0000</td>\n",
       "      <td>34000.0000</td>\n",
       "      <td>10724.0775</td>\n",
       "      <td>-5.00</td>\n",
       "      <td>140.00</td>\n",
       "      <td>27.733333</td>\n",
       "      <td>O=C1OC(=CBr)CCC1c1cccc2ccccc12</td>\n",
       "      <td>0.0</td>\n",
       "      <td>0.0</td>\n",
       "      <td>['C', 'Br', 'O']</td>\n",
       "      <td>3.0</td>\n",
       "      <td>True</td>\n",
       "      <td>30</td>\n",
       "      <td>O=C1OC(=CG)CCC1c1cccc2ccccc12</td>\n",
       "      <td>O=C1OC(=CG)CCC1c1cccc2ccccc12Q</td>\n",
       "    </tr>\n",
       "    <tr>\n",
       "      <th>1</th>\n",
       "      <td>24</td>\n",
       "      <td>1</td>\n",
       "      <td>I\\C=C\\1/CCC(C(=O)O1)c2cccc3ccccc23</td>\n",
       "      <td>30.0000</td>\n",
       "      <td>30.0000</td>\n",
       "      <td>30.0000</td>\n",
       "      <td>30.00</td>\n",
       "      <td>30.00</td>\n",
       "      <td>30.000000</td>\n",
       "      <td>O=C1OC(=CI)CCC1c1cccc2ccccc12</td>\n",
       "      <td>0.0</td>\n",
       "      <td>0.0</td>\n",
       "      <td>['O', 'C', 'I']</td>\n",
       "      <td>3.0</td>\n",
       "      <td>True</td>\n",
       "      <td>29</td>\n",
       "      <td>O=C1OC(=CI)CCC1c1cccc2ccccc12</td>\n",
       "      <td>O=C1OC(=CI)CCC1c1cccc2ccccc12Q</td>\n",
       "    </tr>\n",
       "    <tr>\n",
       "      <th>2</th>\n",
       "      <td>25</td>\n",
       "      <td>1</td>\n",
       "      <td>O=C1O\\C(=C\\C#C)\\CCC1c2cccc3ccccc23</td>\n",
       "      <td>95.0000</td>\n",
       "      <td>95.0000</td>\n",
       "      <td>95.0000</td>\n",
       "      <td>95.00</td>\n",
       "      <td>95.00</td>\n",
       "      <td>95.000000</td>\n",
       "      <td>C#CC=C1CCC(c2cccc3ccccc23)C(=O)O1</td>\n",
       "      <td>0.0</td>\n",
       "      <td>0.0</td>\n",
       "      <td>['C', 'O']</td>\n",
       "      <td>3.0</td>\n",
       "      <td>True</td>\n",
       "      <td>33</td>\n",
       "      <td>C#CC=C1CCC(c2cccc3ccccc23)C(=O)O1</td>\n",
       "      <td>C#CC=C1CCC(c2cccc3ccccc23)C(=O)O1Q</td>\n",
       "    </tr>\n",
       "    <tr>\n",
       "      <th>3</th>\n",
       "      <td>26</td>\n",
       "      <td>1</td>\n",
       "      <td>I\\C=C/1\\CCC(C(=O)O1)c2cccc3ccccc23</td>\n",
       "      <td>190.0000</td>\n",
       "      <td>190.0000</td>\n",
       "      <td>190.0000</td>\n",
       "      <td>190.00</td>\n",
       "      <td>190.00</td>\n",
       "      <td>190.000000</td>\n",
       "      <td>O=C1OC(=CI)CCC1c1cccc2ccccc12</td>\n",
       "      <td>0.0</td>\n",
       "      <td>0.0</td>\n",
       "      <td>['O', 'C', 'I']</td>\n",
       "      <td>3.0</td>\n",
       "      <td>True</td>\n",
       "      <td>29</td>\n",
       "      <td>O=C1OC(=CI)CCC1c1cccc2ccccc12</td>\n",
       "      <td>O=C1OC(=CI)CCC1c1cccc2ccccc12Q</td>\n",
       "    </tr>\n",
       "    <tr>\n",
       "      <th>4</th>\n",
       "      <td>31</td>\n",
       "      <td>1</td>\n",
       "      <td>COc1cc2nc(nc(N)c2cc1OC)N3CCN(CC3)C(=O)C4CC4c5c...</td>\n",
       "      <td>0.5129</td>\n",
       "      <td>0.5129</td>\n",
       "      <td>0.5129</td>\n",
       "      <td>9.29</td>\n",
       "      <td>9.29</td>\n",
       "      <td>9.290000</td>\n",
       "      <td>COc1cc2nc(N3CCN(C(=O)C4CC4c4ccccc4)CC3)nc(N)c2...</td>\n",
       "      <td>0.0</td>\n",
       "      <td>0.0</td>\n",
       "      <td>['N', 'C', 'O']</td>\n",
       "      <td>5.0</td>\n",
       "      <td>True</td>\n",
       "      <td>51</td>\n",
       "      <td>COc1cc2nc(N3CCN(C(=O)C4CC4c4ccccc4)CC3)nc(N)c2...</td>\n",
       "      <td>COc1cc2nc(N3CCN(C(=O)C4CC4c4ccccc4)CC3)nc(N)c2...</td>\n",
       "    </tr>\n",
       "    <tr>\n",
       "      <th>5</th>\n",
       "      <td>33</td>\n",
       "      <td>1</td>\n",
       "      <td>COc1cc2nc(nc(N)c2cc1OC)N3CCN(CC3)S(=O)(=O)c4cccs4</td>\n",
       "      <td>33.8800</td>\n",
       "      <td>33.8800</td>\n",
       "      <td>33.8800</td>\n",
       "      <td>7.47</td>\n",
       "      <td>7.47</td>\n",
       "      <td>7.470000</td>\n",
       "      <td>COc1cc2nc(N3CCN(S(=O)(=O)c4cccs4)CC3)nc(N)c2cc1OC</td>\n",
       "      <td>0.0</td>\n",
       "      <td>0.0</td>\n",
       "      <td>['S', 'N', 'C', 'O']</td>\n",
       "      <td>4.0</td>\n",
       "      <td>True</td>\n",
       "      <td>49</td>\n",
       "      <td>COc1cc2nc(N3CCN(S(=O)(=O)c4cccs4)CC3)nc(N)c2cc1OC</td>\n",
       "      <td>COc1cc2nc(N3CCN(S(=O)(=O)c4cccs4)CC3)nc(N)c2cc...</td>\n",
       "    </tr>\n",
       "    <tr>\n",
       "      <th>6</th>\n",
       "      <td>58</td>\n",
       "      <td>1</td>\n",
       "      <td>COC(=O)\\C=C\\C(=O)Nc1ccc(CCCCC(=O)N2CCN(CC2)c3n...</td>\n",
       "      <td>4.4670</td>\n",
       "      <td>4.4670</td>\n",
       "      <td>4.4670</td>\n",
       "      <td>8.35</td>\n",
       "      <td>8.35</td>\n",
       "      <td>8.350000</td>\n",
       "      <td>COC(=O)C=CC(=O)Nc1ccc(CCCCC(=O)N2CCN(c3nc(N)c4...</td>\n",
       "      <td>0.0</td>\n",
       "      <td>0.0</td>\n",
       "      <td>['N', 'C', 'O']</td>\n",
       "      <td>4.0</td>\n",
       "      <td>True</td>\n",
       "      <td>70</td>\n",
       "      <td>COC(=O)C=CC(=O)Nc1ccc(CCCCC(=O)N2CCN(c3nc(N)c4...</td>\n",
       "      <td>COC(=O)C=CC(=O)Nc1ccc(CCCCC(=O)N2CCN(c3nc(N)c4...</td>\n",
       "    </tr>\n",
       "    <tr>\n",
       "      <th>7</th>\n",
       "      <td>59</td>\n",
       "      <td>1</td>\n",
       "      <td>COc1cc2nc(nc(N)c2cc1OC)N3CCN(CC3)C(=O)CCc4ccccc4</td>\n",
       "      <td>3.3880</td>\n",
       "      <td>3.3880</td>\n",
       "      <td>3.3880</td>\n",
       "      <td>8.47</td>\n",
       "      <td>8.47</td>\n",
       "      <td>8.470000</td>\n",
       "      <td>COc1cc2nc(N3CCN(C(=O)CCc4ccccc4)CC3)nc(N)c2cc1OC</td>\n",
       "      <td>0.0</td>\n",
       "      <td>0.0</td>\n",
       "      <td>['N', 'C', 'O']</td>\n",
       "      <td>4.0</td>\n",
       "      <td>True</td>\n",
       "      <td>48</td>\n",
       "      <td>COc1cc2nc(N3CCN(C(=O)CCc4ccccc4)CC3)nc(N)c2cc1OC</td>\n",
       "      <td>COc1cc2nc(N3CCN(C(=O)CCc4ccccc4)CC3)nc(N)c2cc1OCQ</td>\n",
       "    </tr>\n",
       "    <tr>\n",
       "      <th>8</th>\n",
       "      <td>60</td>\n",
       "      <td>1</td>\n",
       "      <td>COc1ccc(\\C=C\\C(=O)N2CCN(CC2)c3nc(N)c4cc(OC)c(O...</td>\n",
       "      <td>3.3880</td>\n",
       "      <td>3.3880</td>\n",
       "      <td>3.3880</td>\n",
       "      <td>8.47</td>\n",
       "      <td>8.47</td>\n",
       "      <td>8.470000</td>\n",
       "      <td>COc1ccc(C=CC(=O)N2CCN(c3nc(N)c4cc(OC)c(OC)cc4n...</td>\n",
       "      <td>0.0</td>\n",
       "      <td>0.0</td>\n",
       "      <td>['N', 'C', 'O']</td>\n",
       "      <td>4.0</td>\n",
       "      <td>True</td>\n",
       "      <td>55</td>\n",
       "      <td>COc1ccc(C=CC(=O)N2CCN(c3nc(N)c4cc(OC)c(OC)cc4n...</td>\n",
       "      <td>COc1ccc(C=CC(=O)N2CCN(c3nc(N)c4cc(OC)c(OC)cc4n...</td>\n",
       "    </tr>\n",
       "    <tr>\n",
       "      <th>9</th>\n",
       "      <td>61</td>\n",
       "      <td>1</td>\n",
       "      <td>COc1cc2nc(nc(N)c2cc1OC)N3CCN(CC3)C(=O)\\C=C\\c4c...</td>\n",
       "      <td>20.8900</td>\n",
       "      <td>20.8900</td>\n",
       "      <td>20.8900</td>\n",
       "      <td>7.68</td>\n",
       "      <td>7.68</td>\n",
       "      <td>7.680000</td>\n",
       "      <td>COc1cc2nc(N3CCN(C(=O)C=Cc4cccc(F)c4)CC3)nc(N)c...</td>\n",
       "      <td>0.0</td>\n",
       "      <td>0.0</td>\n",
       "      <td>['F', 'N', 'C', 'O']</td>\n",
       "      <td>4.0</td>\n",
       "      <td>True</td>\n",
       "      <td>52</td>\n",
       "      <td>COc1cc2nc(N3CCN(C(=O)C=Cc4cccc(F)c4)CC3)nc(N)c...</td>\n",
       "      <td>COc1cc2nc(N3CCN(C(=O)C=Cc4cccc(F)c4)CC3)nc(N)c...</td>\n",
       "    </tr>\n",
       "  </tbody>\n",
       "</table>\n",
       "</div>"
      ],
      "text/plain": [
       "   molregNoMin  molregNoCount  \\\n",
       "0           23             12   \n",
       "1           24              1   \n",
       "2           25              1   \n",
       "3           26              1   \n",
       "4           31              1   \n",
       "5           33              1   \n",
       "6           58              1   \n",
       "7           59              1   \n",
       "8           60              1   \n",
       "9           61              1   \n",
       "\n",
       "                                        chemblSmiles  standardMin  \\\n",
       "0                Br\\C=C\\1/CCC(C(=O)O1)c2cccc3ccccc23     100.0000   \n",
       "1                 I\\C=C\\1/CCC(C(=O)O1)c2cccc3ccccc23      30.0000   \n",
       "2                 O=C1O\\C(=C\\C#C)\\CCC1c2cccc3ccccc23      95.0000   \n",
       "3                 I\\C=C/1\\CCC(C(=O)O1)c2cccc3ccccc23     190.0000   \n",
       "4  COc1cc2nc(nc(N)c2cc1OC)N3CCN(CC3)C(=O)C4CC4c5c...       0.5129   \n",
       "5  COc1cc2nc(nc(N)c2cc1OC)N3CCN(CC3)S(=O)(=O)c4cccs4      33.8800   \n",
       "6  COC(=O)\\C=C\\C(=O)Nc1ccc(CCCCC(=O)N2CCN(CC2)c3n...       4.4670   \n",
       "7   COc1cc2nc(nc(N)c2cc1OC)N3CCN(CC3)C(=O)CCc4ccccc4       3.3880   \n",
       "8  COc1ccc(\\C=C\\C(=O)N2CCN(CC2)c3nc(N)c4cc(OC)c(O...       3.3880   \n",
       "9  COc1cc2nc(nc(N)c2cc1OC)N3CCN(CC3)C(=O)\\C=C\\c4c...      20.8900   \n",
       "\n",
       "   standardMax  standardMean  publishedMain  publishedMax  publishedMean  \\\n",
       "0   34000.0000    10724.0775          -5.00        140.00      27.733333   \n",
       "1      30.0000       30.0000          30.00         30.00      30.000000   \n",
       "2      95.0000       95.0000          95.00         95.00      95.000000   \n",
       "3     190.0000      190.0000         190.00        190.00     190.000000   \n",
       "4       0.5129        0.5129           9.29          9.29       9.290000   \n",
       "5      33.8800       33.8800           7.47          7.47       7.470000   \n",
       "6       4.4670        4.4670           8.35          8.35       8.350000   \n",
       "7       3.3880        3.3880           8.47          8.47       8.470000   \n",
       "8       3.3880        3.3880           8.47          8.47       8.470000   \n",
       "9      20.8900       20.8900           7.68          7.68       7.680000   \n",
       "\n",
       "                                     canonicalSmiles  negativeCharged  \\\n",
       "0                     O=C1OC(=CBr)CCC1c1cccc2ccccc12              0.0   \n",
       "1                      O=C1OC(=CI)CCC1c1cccc2ccccc12              0.0   \n",
       "2                  C#CC=C1CCC(c2cccc3ccccc23)C(=O)O1              0.0   \n",
       "3                      O=C1OC(=CI)CCC1c1cccc2ccccc12              0.0   \n",
       "4  COc1cc2nc(N3CCN(C(=O)C4CC4c4ccccc4)CC3)nc(N)c2...              0.0   \n",
       "5  COc1cc2nc(N3CCN(S(=O)(=O)c4cccs4)CC3)nc(N)c2cc1OC              0.0   \n",
       "6  COC(=O)C=CC(=O)Nc1ccc(CCCCC(=O)N2CCN(c3nc(N)c4...              0.0   \n",
       "7   COc1cc2nc(N3CCN(C(=O)CCc4ccccc4)CC3)nc(N)c2cc1OC              0.0   \n",
       "8  COc1ccc(C=CC(=O)N2CCN(c3nc(N)c4cc(OC)c(OC)cc4n...              0.0   \n",
       "9  COc1cc2nc(N3CCN(C(=O)C=Cc4cccc(F)c4)CC3)nc(N)c...              0.0   \n",
       "\n",
       "   positiveCharged           elementsSet  numberOfRings  \\\n",
       "0              0.0      ['C', 'Br', 'O']            3.0   \n",
       "1              0.0       ['O', 'C', 'I']            3.0   \n",
       "2              0.0            ['C', 'O']            3.0   \n",
       "3              0.0       ['O', 'C', 'I']            3.0   \n",
       "4              0.0       ['N', 'C', 'O']            5.0   \n",
       "5              0.0  ['S', 'N', 'C', 'O']            4.0   \n",
       "6              0.0       ['N', 'C', 'O']            4.0   \n",
       "7              0.0       ['N', 'C', 'O']            4.0   \n",
       "8              0.0       ['N', 'C', 'O']            4.0   \n",
       "9              0.0  ['F', 'N', 'C', 'O']            4.0   \n",
       "\n",
       "   organicChemistryElementsOnly  smilesLength  \\\n",
       "0                          True            30   \n",
       "1                          True            29   \n",
       "2                          True            33   \n",
       "3                          True            29   \n",
       "4                          True            51   \n",
       "5                          True            49   \n",
       "6                          True            70   \n",
       "7                          True            48   \n",
       "8                          True            55   \n",
       "9                          True            52   \n",
       "\n",
       "                                       encodedSmiles  \\\n",
       "0                      O=C1OC(=CG)CCC1c1cccc2ccccc12   \n",
       "1                      O=C1OC(=CI)CCC1c1cccc2ccccc12   \n",
       "2                  C#CC=C1CCC(c2cccc3ccccc23)C(=O)O1   \n",
       "3                      O=C1OC(=CI)CCC1c1cccc2ccccc12   \n",
       "4  COc1cc2nc(N3CCN(C(=O)C4CC4c4ccccc4)CC3)nc(N)c2...   \n",
       "5  COc1cc2nc(N3CCN(S(=O)(=O)c4cccs4)CC3)nc(N)c2cc1OC   \n",
       "6  COC(=O)C=CC(=O)Nc1ccc(CCCCC(=O)N2CCN(c3nc(N)c4...   \n",
       "7   COc1cc2nc(N3CCN(C(=O)CCc4ccccc4)CC3)nc(N)c2cc1OC   \n",
       "8  COc1ccc(C=CC(=O)N2CCN(c3nc(N)c4cc(OC)c(OC)cc4n...   \n",
       "9  COc1cc2nc(N3CCN(C(=O)C=Cc4cccc(F)c4)CC3)nc(N)c...   \n",
       "\n",
       "                          encodedSmilesPostprocessed  \n",
       "0                     O=C1OC(=CG)CCC1c1cccc2ccccc12Q  \n",
       "1                     O=C1OC(=CI)CCC1c1cccc2ccccc12Q  \n",
       "2                 C#CC=C1CCC(c2cccc3ccccc23)C(=O)O1Q  \n",
       "3                     O=C1OC(=CI)CCC1c1cccc2ccccc12Q  \n",
       "4  COc1cc2nc(N3CCN(C(=O)C4CC4c4ccccc4)CC3)nc(N)c2...  \n",
       "5  COc1cc2nc(N3CCN(S(=O)(=O)c4cccs4)CC3)nc(N)c2cc...  \n",
       "6  COC(=O)C=CC(=O)Nc1ccc(CCCCC(=O)N2CCN(c3nc(N)c4...  \n",
       "7  COc1cc2nc(N3CCN(C(=O)CCc4ccccc4)CC3)nc(N)c2cc1OCQ  \n",
       "8  COc1ccc(C=CC(=O)N2CCN(c3nc(N)c4cc(OC)c(OC)cc4n...  \n",
       "9  COc1cc2nc(N3CCN(C(=O)C=Cc4cccc(F)c4)CC3)nc(N)c...  "
      ]
     },
     "execution_count": 6,
     "metadata": {},
     "output_type": "execute_result"
    }
   ],
   "source": [
    "DF_smiles.head(10)"
   ]
  },
  {
   "cell_type": "code",
   "execution_count": 7,
   "metadata": {},
   "outputs": [],
   "source": [
    "from functools import reduce\n",
    "def provideSampleCharset(data):\n",
    "    structures = data.tolist()\n",
    "    charset = list(reduce(lambda x, y: set(y) | x, structures, set()))\n",
    "    return(charset)"
   ]
  },
  {
   "cell_type": "code",
   "execution_count": 8,
   "metadata": {},
   "outputs": [
    {
     "name": "stdout",
     "output_type": "stream",
     "text": [
      "['Q', 'U', '5', '-', 'W', 'N', ']', 's', '.', 'P', 'C', '#', '(', 'S', 'H', 'o', 'G', 'O', 'B', 'F', '1', 'c', '3', '[', 'n', '=', 'I', '2', '4', ')']\n"
     ]
    }
   ],
   "source": [
    "print(provideSampleCharset(DF_smiles.loc[:, 'encodedSmilesPostprocessed']))"
   ]
  },
  {
   "cell_type": "markdown",
   "metadata": {},
   "source": [
    "## Sample the Data Frame and concatenate the smiles into single string"
   ]
  },
  {
   "cell_type": "code",
   "execution_count": 10,
   "metadata": {},
   "outputs": [],
   "source": [
    "import random\n",
    "nSample = 10000\n",
    "corpus = DF_smiles.loc[random.sample(list(DF_smiles.index), nSample), 'encodedSmilesPostprocessed'].str.cat(sep = '')\n",
    "#corpus = DF_smiles.loc[1000:2000, 'encodedSmilesPostprocessed'].str.cat(sep = '')"
   ]
  },
  {
   "cell_type": "code",
   "execution_count": 11,
   "metadata": {},
   "outputs": [
    {
     "name": "stdout",
     "output_type": "stream",
     "text": [
      "Length of corpus  476910\n"
     ]
    }
   ],
   "source": [
    "print('Length of corpus ', len(corpus))"
   ]
  },
  {
   "cell_type": "markdown",
   "metadata": {},
   "source": [
    "### Sanity check"
   ]
  },
  {
   "cell_type": "code",
   "execution_count": null,
   "metadata": {},
   "outputs": [],
   "source": [
    "corpus[:200]"
   ]
  },
  {
   "cell_type": "code",
   "execution_count": null,
   "metadata": {},
   "outputs": [],
   "source": [
    "print(DF_smiles.loc[1000, 'encodedSmilesPostprocessed'])\n",
    "print(DF_smiles.loc[1001, 'encodedSmilesPostprocessed'])\n",
    "print(DF_smiles.loc[1002, 'encodedSmilesPostprocessed'])"
   ]
  },
  {
   "cell_type": "markdown",
   "metadata": {},
   "source": [
    "## Create the input for RNN"
   ]
  },
  {
   "cell_type": "code",
   "execution_count": 12,
   "metadata": {},
   "outputs": [
    {
     "name": "stdout",
     "output_type": "stream",
     "text": [
      "total chars: 30\n"
     ]
    }
   ],
   "source": [
    "chars = sorted(list(set(corpus)))\n",
    "print('total chars:', len(chars))\n",
    "charToIndices = dict((c, i) for i, c in enumerate(chars))\n",
    "indicesToChar = dict((i, c) for i, c in enumerate(chars))"
   ]
  },
  {
   "cell_type": "code",
   "execution_count": 13,
   "metadata": {},
   "outputs": [
    {
     "name": "stdout",
     "output_type": "stream",
     "text": [
      "['#', '(', ')', '-', '.', '1', '2', '3', '4', '5', '=', 'B', 'C', 'F', 'G', 'H', 'I', 'N', 'O', 'P', 'Q', 'S', 'U', 'W', '[', ']', 'c', 'n', 'o', 's']\n"
     ]
    }
   ],
   "source": [
    "print(chars)"
   ]
  },
  {
   "cell_type": "markdown",
   "metadata": {},
   "source": [
    "### Predictors/response preparation"
   ]
  },
  {
   "cell_type": "code",
   "execution_count": 14,
   "metadata": {},
   "outputs": [
    {
     "name": "stdout",
     "output_type": "stream",
     "text": [
      "number of sequences: 158957\n"
     ]
    }
   ],
   "source": [
    "# cut the text in semi-redundant sequences of maxlen characters\n",
    "maxlen = 40\n",
    "step = 3\n",
    "sentences = []\n",
    "nextChars = []\n",
    "for iii in range(0, len(corpus) - maxlen, step):\n",
    "    sentences.append(corpus[iii: iii + maxlen])\n",
    "    nextChars.append(corpus[iii + maxlen])\n",
    "print('number of sequences:', len(sentences))"
   ]
  },
  {
   "cell_type": "markdown",
   "metadata": {},
   "source": [
    "#### Sanity check"
   ]
  },
  {
   "cell_type": "code",
   "execution_count": null,
   "metadata": {},
   "outputs": [],
   "source": [
    "for iii in range(10):\n",
    "    print(sentences[iii])\n",
    "    print(nextChars[iii])"
   ]
  },
  {
   "cell_type": "code",
   "execution_count": null,
   "metadata": {},
   "outputs": [],
   "source": [
    "corpus[:200]"
   ]
  },
  {
   "cell_type": "markdown",
   "metadata": {},
   "source": [
    "### Vectorization"
   ]
  },
  {
   "cell_type": "code",
   "execution_count": 15,
   "metadata": {},
   "outputs": [
    {
     "name": "stdout",
     "output_type": "stream",
     "text": [
      "Vectorization...\n"
     ]
    }
   ],
   "source": [
    "print('Vectorization...')\n",
    "predictors = np.zeros((len(sentences), maxlen, len(chars)), dtype=np.bool)\n",
    "response = np.zeros((len(sentences), len(chars)), dtype=np.bool)\n",
    "for iii, sentence in enumerate(sentences):\n",
    "    for jjj, char in enumerate(sentence):\n",
    "        predictors[iii, jjj, charToIndices[char]] = 1\n",
    "    response[iii, charToIndices[nextChars[iii]]] = 1"
   ]
  },
  {
   "cell_type": "markdown",
   "metadata": {},
   "source": [
    "#### Sanity check"
   ]
  },
  {
   "cell_type": "code",
   "execution_count": null,
   "metadata": {},
   "outputs": [],
   "source": [
    "for iii in range(maxlen):\n",
    "    print(iii, predictors[0, iii, :], indicesToChar[np.argmax(predictors[0, iii, :])])"
   ]
  },
  {
   "cell_type": "code",
   "execution_count": null,
   "metadata": {},
   "outputs": [],
   "source": [
    "sample = 2\n",
    "print(iii, response[sample, :], indicesToChar[np.argmax(response[sample, :])])"
   ]
  },
  {
   "cell_type": "code",
   "execution_count": 16,
   "metadata": {},
   "outputs": [
    {
     "name": "stderr",
     "output_type": "stream",
     "text": [
      "Using TensorFlow backend.\n"
     ]
    }
   ],
   "source": [
    "from keras.callbacks import LambdaCallback\n",
    "from keras.models import Sequential\n",
    "from keras.layers import Dense, Activation, Dropout\n",
    "from keras.layers import LSTM\n",
    "from keras.optimizers import RMSprop, Adam\n",
    "from keras.utils.data_utils import get_file\n",
    "import sys"
   ]
  },
  {
   "cell_type": "code",
   "execution_count": 17,
   "metadata": {},
   "outputs": [
    {
     "name": "stdout",
     "output_type": "stream",
     "text": [
      "40 30\n"
     ]
    }
   ],
   "source": [
    "print(maxlen, len(chars))"
   ]
  },
  {
   "cell_type": "code",
   "execution_count": 18,
   "metadata": {},
   "outputs": [
    {
     "name": "stdout",
     "output_type": "stream",
     "text": [
      "Build model...\n"
     ]
    }
   ],
   "source": [
    "print('Build model...')\n",
    "model = Sequential()\n",
    "model.add(LSTM(128, input_shape=(maxlen, len(chars)), return_sequences = True))\n",
    "#model.add(LSTM(40, input_shape=(maxlen, len(chars)), return_sequences = True))\n",
    "#model.add(Dropout(0.1))\n",
    "model.add(LSTM(40, return_sequences = False))\n",
    "#model.add(Dropout(0.2))\n",
    "#model.add(LSTM(128, input_shape=(maxlen, len(chars))))\n",
    "model.add(Dense(len(chars)))\n",
    "model.add(Activation('softmax'))"
   ]
  },
  {
   "cell_type": "code",
   "execution_count": 19,
   "metadata": {},
   "outputs": [],
   "source": [
    "optimizer = RMSprop(lr=0.002)\n",
    "#optimizer = Adam(lr=0.005)\n",
    "model.compile(loss='categorical_crossentropy', optimizer=optimizer, metrics = ['accuracy'])"
   ]
  },
  {
   "cell_type": "code",
   "execution_count": 20,
   "metadata": {},
   "outputs": [
    {
     "name": "stdout",
     "output_type": "stream",
     "text": [
      "_________________________________________________________________\n",
      "Layer (type)                 Output Shape              Param #   \n",
      "=================================================================\n",
      "lstm_1 (LSTM)                (None, 40, 128)           81408     \n",
      "_________________________________________________________________\n",
      "lstm_2 (LSTM)                (None, 40)                27040     \n",
      "_________________________________________________________________\n",
      "dense_1 (Dense)              (None, 30)                1230      \n",
      "_________________________________________________________________\n",
      "activation_1 (Activation)    (None, 30)                0         \n",
      "=================================================================\n",
      "Total params: 109,678\n",
      "Trainable params: 109,678\n",
      "Non-trainable params: 0\n",
      "_________________________________________________________________\n"
     ]
    }
   ],
   "source": [
    "model.summary()"
   ]
  },
  {
   "cell_type": "code",
   "execution_count": 21,
   "metadata": {},
   "outputs": [],
   "source": [
    "def sample(preds, temperature=1.0):\n",
    "    # helper function to sample an index from a probability array\n",
    "    preds = np.asarray(preds).astype('float64')\n",
    "    preds = np.log(preds) / temperature\n",
    "    exp_preds = np.exp(preds)\n",
    "    preds = exp_preds / np.sum(exp_preds)\n",
    "    probas = np.random.multinomial(1, preds, 1)\n",
    "    return np.argmax(probas)"
   ]
  },
  {
   "cell_type": "code",
   "execution_count": 22,
   "metadata": {},
   "outputs": [],
   "source": [
    "def on_epoch_end(epoch, logs):\n",
    "    # Function invoked at end of each epoch. Prints generated text.\n",
    "    print()\n",
    "    print('----- Generating text after Epoch: %d' % epoch)\n",
    "\n",
    "    #start_index = random.randint(0, len(corpus) - maxlen - 1)\n",
    "    start_index = 0\n",
    "    seedSize = 10\n",
    "    for diversity in [0.0, 0.5, 1.0, 1.2]:\n",
    "        print('----- diversity:', diversity)\n",
    "\n",
    "        generated = ''\n",
    "        sentence = corpus[start_index: start_index + seedSize]\n",
    "        generated += sentence\n",
    "        print('----- Generating with seed: \"' + sentence + '\"')\n",
    "        sys.stdout.write(generated)\n",
    "\n",
    "        foundTerminatingCharacter = False\n",
    "        iii = 0\n",
    "        maxPredictionLength = 150\n",
    "        while (not foundTerminatingCharacter):\n",
    "            x_pred = np.zeros((1, maxlen, len(chars)))\n",
    "            for t, char in enumerate(sentence):\n",
    "                x_pred[0, t, charToIndices[char]] = 1.\n",
    "            \n",
    "            preds = model.predict(x_pred, verbose=0)[0]\n",
    "            next_index = sample(preds, diversity)\n",
    "            next_char = indicesToChar[next_index]\n",
    "            \n",
    "            generated += next_char\n",
    "            sentence = sentence[1:] + next_char\n",
    "            \n",
    "            iii += 1\n",
    "            if (next_char == 'Y' or len(generated) == 150):\n",
    "                foundTerminatingCharacter = True\n",
    "            \n",
    "            sys.stdout.write(next_char)\n",
    "            sys.stdout.flush()\n",
    "        \n",
    "        print()"
   ]
  },
  {
   "cell_type": "code",
   "execution_count": 23,
   "metadata": {},
   "outputs": [],
   "source": [
    "print_callback = LambdaCallback(on_epoch_end=on_epoch_end)"
   ]
  },
  {
   "cell_type": "code",
   "execution_count": 25,
   "metadata": {},
   "outputs": [],
   "source": [
    "def step_decay(epoch):\n",
    "    initial_lrate = 0.002\n",
    "    # 0.7 sounds like an optimal choice\n",
    "    drop = 0.7\n",
    "    epochs_drop = 10.0\n",
    "    lrate = initial_lrate * math.pow(drop, math.floor((1+epoch)/epochs_drop))\n",
    "    return lrate"
   ]
  },
  {
   "cell_type": "code",
   "execution_count": 26,
   "metadata": {},
   "outputs": [],
   "source": [
    "def exp_decay(epoch):\n",
    "   initial_lrate = 0.01\n",
    "   k = 0.05\n",
    "   lrate = initial_lrate * np.exp(-k*epoch)\n",
    "   return lrate"
   ]
  },
  {
   "cell_type": "code",
   "execution_count": 27,
   "metadata": {},
   "outputs": [
    {
     "data": {
      "image/png": "[encoded data removed]",
      "text/plain": [
       "<matplotlib.figure.Figure at 0x26e279bbf60>"
      ]
     },
     "metadata": {},
     "output_type": "display_data"
    }
   ],
   "source": [
    "domain = np.linspace(start=0, stop=30, num=30, endpoint=False)\n",
    "funcValuesExp = exp_decay(domain)\n",
    "funcValuesStep = [step_decay(item) for item in domain]\n",
    "plt.plot(domain, funcValuesStep)\n",
    "plt.plot(domain, funcValuesExp)\n",
    "plt.grid()\n",
    "plt.show()\n"
   ]
  },
  {
   "cell_type": "code",
   "execution_count": 28,
   "metadata": {},
   "outputs": [],
   "source": [
    "from keras.callbacks import LearningRateScheduler\n",
    "lrate = LearningRateScheduler(step_decay)"
   ]
  },
  {
   "cell_type": "code",
   "execution_count": 29,
   "metadata": {},
   "outputs": [],
   "source": [
    "import keras\n",
    "import keras.backend as K\n",
    "\n",
    "class Histories(keras.callbacks.Callback):\n",
    "    def on_train_begin(self, logs={}):\n",
    "        self.aucs = []\n",
    "        self.losses = []\n",
    "\n",
    "    def on_train_end(self, logs={}):\n",
    "        return\n",
    "\n",
    "    def on_epoch_begin(self, epoch, logs={}):\n",
    "        #lr = optimizer.lr\n",
    "        #print('\\nLR epoch beg: {:.6f}\\n'.format(lr))\n",
    "        optimizer = self.model.optimizer\n",
    "        lr = K.eval(optimizer.lr)\n",
    "        print('\\nLR before the epoch: {:.6f}\\n'.format(lr))\n",
    "        return\n",
    "\n",
    "    def on_epoch_end(self, epoch, logs={}):\n",
    "        optimizer = self.model.optimizer\n",
    "        #self.model.optimizer.lr = self._step_decay(epoch)\n",
    "        lr = K.eval(optimizer.lr)\n",
    "        print('\\nLR just set up: {:.6f}\\n'.format(lr))\n",
    "        return\n",
    "        \n",
    "    def on_batch_begin(self, batch, logs={}):\n",
    "        return\n",
    "\n",
    "    def on_batch_end(self, batch, logs={}):\n",
    "        return\n",
    "    \n",
    "    def _step_decay(self, epoch):\n",
    "        initial_lrate = 0.01\n",
    "        drop = 0.5\n",
    "        epochs_drop = 5.0\n",
    "        lrate = initial_lrate * math.pow(drop, math.floor((1+epoch)/epochs_drop))\n",
    "        return lrate"
   ]
  },
  {
   "cell_type": "code",
   "execution_count": 30,
   "metadata": {},
   "outputs": [],
   "source": [
    "histories = Histories()"
   ]
  },
  {
   "cell_type": "code",
   "execution_count": 31,
   "metadata": {},
   "outputs": [],
   "source": [
    "callbacks_list = [histories, lrate]"
   ]
  },
  {
   "cell_type": "code",
   "execution_count": 32,
   "metadata": {},
   "outputs": [
    {
     "name": "stdout",
     "output_type": "stream",
     "text": [
      "\n",
      "LR before the epoch: 0.002000\n",
      "\n",
      "Epoch 1/40\n",
      "158720/158957 [============================>.] - ETA: 0s - loss: 1.7350 - acc: 0.4599\n",
      "LR just set up: 0.002000\n",
      "\n",
      "158957/158957 [==============================] - 365s - loss: 1.7342 - acc: 0.4602   \n",
      "\n",
      "LR before the epoch: 0.002000\n",
      "\n",
      "Epoch 2/40\n",
      "158720/158957 [============================>.] - ETA: 0s - loss: 1.2357 - acc: 0.5994\n",
      "LR just set up: 0.002000\n",
      "\n",
      "158957/158957 [==============================] - 360s - loss: 1.2357 - acc: 0.5994   \n",
      "\n",
      "LR before the epoch: 0.002000\n",
      "\n",
      "Epoch 3/40\n",
      "158720/158957 [============================>.] - ETA: 0s - loss: 1.1000 - acc: 0.6380\n",
      "LR just set up: 0.002000\n",
      "\n",
      "158957/158957 [==============================] - 359s - loss: 1.1000 - acc: 0.6380   \n",
      "\n",
      "LR before the epoch: 0.002000\n",
      "\n",
      "Epoch 4/40\n",
      "158720/158957 [============================>.] - ETA: 0s - loss: 1.0266 - acc: 0.6578\n",
      "LR just set up: 0.002000\n",
      "\n",
      "158957/158957 [==============================] - 373s - loss: 1.0266 - acc: 0.6579   \n",
      "\n",
      "LR before the epoch: 0.002000\n",
      "\n",
      "Epoch 5/40\n",
      "158720/158957 [============================>.] - ETA: 0s - loss: 0.9937 - acc: 0.6675\n",
      "LR just set up: 0.002000\n",
      "\n",
      "158957/158957 [==============================] - 357s - loss: 0.9938 - acc: 0.6674   \n",
      "\n",
      "LR before the epoch: 0.002000\n",
      "\n",
      "Epoch 6/40\n",
      "158720/158957 [============================>.] - ETA: 0s - loss: 0.9796 - acc: 0.6710\n",
      "LR just set up: 0.002000\n",
      "\n",
      "158957/158957 [==============================] - 377s - loss: 0.9795 - acc: 0.6710   \n",
      "\n",
      "LR before the epoch: 0.002000\n",
      "\n",
      "Epoch 7/40\n",
      "158720/158957 [============================>.] - ETA: 0s - loss: 0.9213 - acc: 0.6878\n",
      "LR just set up: 0.002000\n",
      "\n",
      "158957/158957 [==============================] - 376s - loss: 0.9213 - acc: 0.6879   \n",
      "\n",
      "LR before the epoch: 0.002000\n",
      "\n",
      "Epoch 8/40\n",
      "158720/158957 [============================>.] - ETA: 0s - loss: 0.9153 - acc: 0.6902\n",
      "LR just set up: 0.002000\n",
      "\n",
      "158957/158957 [==============================] - 368s - loss: 0.9153 - acc: 0.6902   \n",
      "\n",
      "LR before the epoch: 0.002000\n",
      "\n",
      "Epoch 9/40\n",
      "158720/158957 [============================>.] - ETA: 0s - loss: 0.9086 - acc: 0.6921\n",
      "LR just set up: 0.002000\n",
      "\n",
      "158957/158957 [==============================] - 415s - loss: 0.9084 - acc: 0.6922   \n",
      "\n",
      "LR before the epoch: 0.002000\n",
      "\n",
      "Epoch 10/40\n",
      "158720/158957 [============================>.] - ETA: 0s - loss: 0.8542 - acc: 0.7085\n",
      "LR just set up: 0.001400\n",
      "\n",
      "158957/158957 [==============================] - 429s - loss: 0.8541 - acc: 0.7085   \n",
      "\n",
      "LR before the epoch: 0.001400\n",
      "\n",
      "Epoch 11/40\n",
      "158720/158957 [============================>.] - ETA: 0s - loss: 0.8309 - acc: 0.7154\n",
      "LR just set up: 0.001400\n",
      "\n",
      "158957/158957 [==============================] - 370s - loss: 0.8309 - acc: 0.7155   \n",
      "\n",
      "LR before the epoch: 0.001400\n",
      "\n",
      "Epoch 12/40\n",
      "158720/158957 [============================>.] - ETA: 0s - loss: 0.8180 - acc: 0.7186\n",
      "LR just set up: 0.001400\n",
      "\n",
      "158957/158957 [==============================] - 350s - loss: 0.8179 - acc: 0.7186   \n",
      "\n",
      "LR before the epoch: 0.001400\n",
      "\n",
      "Epoch 13/40\n",
      "158720/158957 [============================>.] - ETA: 0s - loss: 0.8081 - acc: 0.7219\n",
      "LR just set up: 0.001400\n",
      "\n",
      "158957/158957 [==============================] - 360s - loss: 0.8081 - acc: 0.7220   \n",
      "\n",
      "LR before the epoch: 0.001400\n",
      "\n",
      "Epoch 14/40\n",
      "158720/158957 [============================>.] - ETA: 0s - loss: 0.8203 - acc: 0.7183\n",
      "LR just set up: 0.001400\n",
      "\n",
      "158957/158957 [==============================] - 341s - loss: 0.8203 - acc: 0.7183   \n",
      "\n",
      "LR before the epoch: 0.001400\n",
      "\n",
      "Epoch 15/40\n",
      "158720/158957 [============================>.] - ETA: 0s - loss: 0.7900 - acc: 0.7274\n",
      "LR just set up: 0.001400\n",
      "\n",
      "158957/158957 [==============================] - 339s - loss: 0.7901 - acc: 0.7274   \n",
      "\n",
      "LR before the epoch: 0.001400\n",
      "\n",
      "Epoch 16/40\n",
      "158720/158957 [============================>.] - ETA: 0s - loss: 0.7701 - acc: 0.7336\n",
      "LR just set up: 0.001400\n",
      "\n",
      "158957/158957 [==============================] - 339s - loss: 0.7701 - acc: 0.7336   \n",
      "\n",
      "LR before the epoch: 0.001400\n",
      "\n",
      "Epoch 17/40\n",
      "158720/158957 [============================>.] - ETA: 0s - loss: 0.7583 - acc: 0.7369\n",
      "LR just set up: 0.001400\n",
      "\n",
      "158957/158957 [==============================] - 338s - loss: 0.7582 - acc: 0.7369   \n",
      "\n",
      "LR before the epoch: 0.001400\n",
      "\n",
      "Epoch 18/40\n",
      "158720/158957 [============================>.] - ETA: 0s - loss: 0.7506 - acc: 0.7395\n",
      "LR just set up: 0.001400\n",
      "\n",
      "158957/158957 [==============================] - 336s - loss: 0.7506 - acc: 0.7395   \n",
      "\n",
      "LR before the epoch: 0.001400\n",
      "\n",
      "Epoch 19/40\n",
      "158720/158957 [============================>.] - ETA: 0s - loss: 0.7351 - acc: 0.7446\n",
      "LR just set up: 0.001400\n",
      "\n",
      "158957/158957 [==============================] - 336s - loss: 0.7351 - acc: 0.7446   \n",
      "\n",
      "LR before the epoch: 0.001400\n",
      "\n",
      "Epoch 20/40\n",
      "158720/158957 [============================>.] - ETA: 0s - loss: 0.7118 - acc: 0.7541\n",
      "LR just set up: 0.000980\n",
      "\n",
      "158957/158957 [==============================] - 336s - loss: 0.7119 - acc: 0.7541   \n",
      "\n",
      "LR before the epoch: 0.000980\n",
      "\n",
      "Epoch 21/40\n",
      "158720/158957 [============================>.] - ETA: 0s - loss: 0.7006 - acc: 0.7574\n",
      "LR just set up: 0.000980\n",
      "\n",
      "158957/158957 [==============================] - 337s - loss: 0.7005 - acc: 0.7574   \n",
      "\n",
      "LR before the epoch: 0.000980\n",
      "\n",
      "Epoch 22/40\n",
      "158720/158957 [============================>.] - ETA: 0s - loss: 0.6902 - acc: 0.7609\n",
      "LR just set up: 0.000980\n",
      "\n",
      "158957/158957 [==============================] - 336s - loss: 0.6903 - acc: 0.7608   \n",
      "\n",
      "LR before the epoch: 0.000980\n",
      "\n",
      "Epoch 23/40\n",
      "158720/158957 [============================>.] - ETA: 0s - loss: 0.6817 - acc: 0.7636\n",
      "LR just set up: 0.000980\n",
      "\n",
      "158957/158957 [==============================] - 336s - loss: 0.6815 - acc: 0.7637   \n",
      "\n",
      "LR before the epoch: 0.000980\n",
      "\n",
      "Epoch 24/40\n",
      "158720/158957 [============================>.] - ETA: 0s - loss: 0.6726 - acc: 0.7663\n",
      "LR just set up: 0.000980\n",
      "\n",
      "158957/158957 [==============================] - 335s - loss: 0.6727 - acc: 0.7663   \n",
      "\n",
      "LR before the epoch: 0.000980\n",
      "\n",
      "Epoch 25/40\n",
      "158720/158957 [============================>.] - ETA: 0s - loss: 0.6635 - acc: 0.7695\n",
      "LR just set up: 0.000980\n",
      "\n",
      "158957/158957 [==============================] - 336s - loss: 0.6636 - acc: 0.7694   \n",
      "\n",
      "LR before the epoch: 0.000980\n",
      "\n",
      "Epoch 26/40\n",
      "158720/158957 [============================>.] - ETA: 0s - loss: 0.6569 - acc: 0.7718\n",
      "LR just set up: 0.000980\n",
      "\n",
      "158957/158957 [==============================] - 336s - loss: 0.6570 - acc: 0.7717   \n",
      "\n",
      "LR before the epoch: 0.000980\n",
      "\n",
      "Epoch 27/40\n",
      "158720/158957 [============================>.] - ETA: 0s - loss: 0.6479 - acc: 0.7752\n",
      "LR just set up: 0.000980\n",
      "\n",
      "158957/158957 [==============================] - 336s - loss: 0.6480 - acc: 0.7752   \n",
      "\n",
      "LR before the epoch: 0.000980\n",
      "\n",
      "Epoch 28/40\n",
      "158720/158957 [============================>.] - ETA: 0s - loss: 0.6410 - acc: 0.7777\n",
      "LR just set up: 0.000980\n",
      "\n",
      "158957/158957 [==============================] - 336s - loss: 0.6411 - acc: 0.7776   \n",
      "\n",
      "LR before the epoch: 0.000980\n",
      "\n",
      "Epoch 29/40\n",
      "158720/158957 [============================>.] - ETA: 0s - loss: 0.6319 - acc: 0.7808\n",
      "LR just set up: 0.000980\n",
      "\n",
      "158957/158957 [==============================] - 336s - loss: 0.6321 - acc: 0.7807   \n",
      "\n",
      "LR before the epoch: 0.000980\n",
      "\n",
      "Epoch 30/40\n",
      "158720/158957 [============================>.] - ETA: 0s - loss: 0.6101 - acc: 0.7886\n",
      "LR just set up: 0.000686\n",
      "\n",
      "158957/158957 [==============================] - 336s - loss: 0.6103 - acc: 0.7886   \n",
      "\n",
      "LR before the epoch: 0.000686\n",
      "\n",
      "Epoch 31/40\n",
      "158720/158957 [============================>.] - ETA: 0s - loss: 0.6011 - acc: 0.7924\n",
      "LR just set up: 0.000686\n",
      "\n",
      "158957/158957 [==============================] - 336s - loss: 0.6010 - acc: 0.7924   \n",
      "\n",
      "LR before the epoch: 0.000686\n",
      "\n",
      "Epoch 32/40\n",
      "158720/158957 [============================>.] - ETA: 0s - loss: 0.5952 - acc: 0.7942\n",
      "LR just set up: 0.000686\n",
      "\n",
      "158957/158957 [==============================] - 338s - loss: 0.5953 - acc: 0.7942   \n",
      "\n",
      "LR before the epoch: 0.000686\n",
      "\n",
      "Epoch 33/40\n",
      "158720/158957 [============================>.] - ETA: 0s - loss: 0.5875 - acc: 0.7972\n",
      "LR just set up: 0.000686\n",
      "\n",
      "158957/158957 [==============================] - 338s - loss: 0.5875 - acc: 0.7972   \n",
      "\n",
      "LR before the epoch: 0.000686\n",
      "\n",
      "Epoch 34/40\n",
      "158720/158957 [============================>.] - ETA: 0s - loss: 0.5813 - acc: 0.7980\n",
      "LR just set up: 0.000686\n",
      "\n",
      "158957/158957 [==============================] - 335s - loss: 0.5812 - acc: 0.7981   \n",
      "\n",
      "LR before the epoch: 0.000686\n",
      "\n",
      "Epoch 35/40\n",
      "158720/158957 [============================>.] - ETA: 0s - loss: 0.5743 - acc: 0.8019\n",
      "LR just set up: 0.000686\n",
      "\n",
      "158957/158957 [==============================] - 335s - loss: 0.5743 - acc: 0.8020   \n",
      "\n",
      "LR before the epoch: 0.000686\n",
      "\n",
      "Epoch 36/40\n",
      "158720/158957 [============================>.] - ETA: 0s - loss: 0.5675 - acc: 0.8045\n",
      "LR just set up: 0.000686\n",
      "\n",
      "158957/158957 [==============================] - 336s - loss: 0.5676 - acc: 0.8045   \n",
      "\n",
      "LR before the epoch: 0.000686\n",
      "\n",
      "Epoch 37/40\n",
      "158720/158957 [============================>.] - ETA: 0s - loss: 0.5616 - acc: 0.8070\n",
      "LR just set up: 0.000686\n",
      "\n",
      "158957/158957 [==============================] - 335s - loss: 0.5617 - acc: 0.8069   \n",
      "\n",
      "LR before the epoch: 0.000686\n",
      "\n",
      "Epoch 38/40\n",
      "158720/158957 [============================>.] - ETA: 0s - loss: 0.5550 - acc: 0.8086\n",
      "LR just set up: 0.000686\n",
      "\n",
      "158957/158957 [==============================] - 336s - loss: 0.5551 - acc: 0.8086   \n",
      "\n",
      "LR before the epoch: 0.000686\n",
      "\n",
      "Epoch 39/40\n",
      "158720/158957 [============================>.] - ETA: 0s - loss: 0.5488 - acc: 0.8118\n",
      "LR just set up: 0.000686\n",
      "\n",
      "158957/158957 [==============================] - 336s - loss: 0.5488 - acc: 0.8118   \n",
      "\n",
      "LR before the epoch: 0.000686\n",
      "\n",
      "Epoch 40/40\n",
      "158720/158957 [============================>.] - ETA: 0s - loss: 0.5309 - acc: 0.8190\n",
      "LR just set up: 0.000480\n",
      "\n",
      "158957/158957 [==============================] - 335s - loss: 0.5309 - acc: 0.8190   \n"
     ]
    }
   ],
   "source": [
    "history = model.fit(predictors, response,\n",
    "          batch_size=256,\n",
    "          epochs=40,\n",
    "          callbacks=callbacks_list)"
   ]
  },
  {
   "cell_type": "code",
   "execution_count": 38,
   "metadata": {},
   "outputs": [
    {
     "data": {
      "text/plain": [
       "array([False, False, False, False, False, False, False, False, False,\n",
       "       False, False, False,  True, False, False, False, False, False,\n",
       "       False, False, False, False, False, False, False, False, False,\n",
       "       False, False, False], dtype=bool)"
      ]
     },
     "execution_count": 38,
     "metadata": {},
     "output_type": "execute_result"
    }
   ],
   "source": []
  },
  {
   "cell_type": "markdown",
   "metadata": {},
   "source": [
    "### Save model"
   ]
  },
  {
   "cell_type": "code",
   "execution_count": 33,
   "metadata": {},
   "outputs": [],
   "source": [
    "modelName = 'sample_5000_after40_loss_0.5309_acc_0.8190'"
   ]
  },
  {
   "cell_type": "code",
   "execution_count": 34,
   "metadata": {},
   "outputs": [
    {
     "name": "stdout",
     "output_type": "stream",
     "text": [
      "Saved model to disk\n"
     ]
    }
   ],
   "source": [
    "# serialize model to JSON\n",
    "model_json = model.to_json()\n",
    "with open(modelName+'.json', \"w\") as json_file:\n",
    "    json_file.write(model_json)\n",
    "# serialize weights to HDF5\n",
    "model.save_weights(modelName+'.h5')\n",
    "print(\"Saved model to disk\")"
   ]
  },
  {
   "cell_type": "markdown",
   "metadata": {},
   "source": [
    "### Read model"
   ]
  },
  {
   "cell_type": "code",
   "execution_count": null,
   "metadata": {},
   "outputs": [],
   "source": [
    "from keras.models import model_from_json\n",
    "json_file = open(modelName+'.json', 'r')\n",
    "loaded_model_json = json_file.read()\n",
    "json_file.close()\n",
    "loaded_model = model_from_json(loaded_model_json)\n",
    "# load weights into new model\n",
    "loaded_model.load_weights(modelName+'.h5')\n",
    "print(\"Loaded model from disk\")"
   ]
  },
  {
   "cell_type": "code",
   "execution_count": 35,
   "metadata": {},
   "outputs": [
    {
     "data": {
      "image/png": "[encoded data removed]",
      "text/plain": [
       "<matplotlib.figure.Figure at 0x26e2a41da58>"
      ]
     },
     "metadata": {},
     "output_type": "display_data"
    }
   ],
   "source": [
    "# summarize history for accuracy\n",
    "plt.plot(history.history['acc'])\n",
    "plt.plot(history.history['loss'])\n",
    "plt.title('model accuracy after 30 epochs (nbatch: 64, nSm: 500, lr: decreasing)')\n",
    "plt.ylabel('accuracy')\n",
    "plt.xlabel('epoch')\n",
    "plt.legend(['accuracy', 'loss'], loc='upper left')\n",
    "plt.grid()\n",
    "plt.show()"
   ]
  },
  {
   "cell_type": "code",
   "execution_count": 36,
   "metadata": {},
   "outputs": [],
   "source": [
    "def generateStringFromModel(model, seed, maxLength, chars, terminatingChar, diversity):\n",
    "    foundTerminatingCharacter = False\n",
    "    iii = 0\n",
    "    generated = seed\n",
    "    while (not foundTerminatingCharacter):\n",
    "        \n",
    "        x_pred = np.zeros((1, maxlen, len(chars)))\n",
    "        for t, char in enumerate(seed):\n",
    "            x_pred[0, t, charToIndices[char]] = 1.\n",
    "            \n",
    "        preds = model.predict(x_pred, verbose=0)[0]\n",
    "        next_index = sample(preds, 1.0)\n",
    "        next_char = indicesToChar[next_index]\n",
    "            \n",
    "        generated += next_char\n",
    "        #seed = seed[1:] + next_char\n",
    "        if (len(seed) < 40):\n",
    "            seed = seed + next_char\n",
    "        else:\n",
    "            seed = seed[1:] + next_char\n",
    "            \n",
    "        iii += 1\n",
    "        if (next_char == terminatingChar or len(generated) == maxLength):\n",
    "            foundTerminatingCharacter = True\n",
    "     \n",
    "    return generated\n",
    "    #sys.stdout.write(next_char)\n",
    "    #sys.stdout.flush()           "
   ]
  },
  {
   "cell_type": "code",
   "execution_count": 39,
   "metadata": {},
   "outputs": [],
   "source": [
    "predictedSmiles = generateStringFromModel(model, 'O=C1OC(=CG)CCC1c1cccc2ccccc12', 100, chars, 'Q', 1.4)"
   ]
  },
  {
   "cell_type": "code",
   "execution_count": null,
   "metadata": {},
   "outputs": [],
   "source": []
  },
  {
   "cell_type": "code",
   "execution_count": 40,
   "metadata": {},
   "outputs": [
    {
     "data": {
      "text/plain": [
       "'O=C1OC(=CBr)CCC1c1cccc2ccccc12CCcO(C(FFFF)F)c1ccc(F)cc1'"
      ]
     },
     "execution_count": 40,
     "metadata": {},
     "output_type": "execute_result"
    }
   ],
   "source": [
    "predictedSmilesClean = predictedSmiles.replace('G', 'Br').replace('U', 'Cl').replace('W', '[nH]').replace('Q', '')\n",
    "predictedSmilesClean"
   ]
  },
  {
   "cell_type": "code",
   "execution_count": null,
   "metadata": {},
   "outputs": [],
   "source": [
    "import random\n",
    "seedLength = 30\n",
    "randPoint = random.randint(0, len(corpus) - seedLength)\n",
    "seed = corpus[randPoint:(randPoint + seedLength)]"
   ]
  },
  {
   "cell_type": "code",
   "execution_count": null,
   "metadata": {},
   "outputs": [],
   "source": [
    "seed\n"
   ]
  },
  {
   "cell_type": "code",
   "execution_count": null,
   "metadata": {},
   "outputs": [],
   "source": [
    "for iii in range(20):\n",
    "    predictedSmiles = generateStringFromModel(model, 'O=C1OC(=CG)C', 100, chars, 'Q', 1)\n",
    "    predictedSmilesClean = predictedSmiles.replace('G', 'Br').replace('U', 'Cl').replace('W', '[nH]').replace('Q', '')\n",
    "    mol = Chem.MolFromSmiles(predictedSmilesClean)\n",
    "    if mol is not None:\n",
    "        print('CORRECT!!!: '+predictedSmilesClean+' '+str(mol.GetNumAtoms()))\n",
    "    else:\n",
    "        print('WRONG!!!: '+predictedSmilesClean)"
   ]
  },
  {
   "cell_type": "code",
   "execution_count": null,
   "metadata": {},
   "outputs": [],
   "source": [
    "model.optimizer.lr.value()"
   ]
  },
  {
   "cell_type": "code",
   "execution_count": null,
   "metadata": {},
   "outputs": [],
   "source": [
    "import keras"
   ]
  },
  {
   "cell_type": "code",
   "execution_count": null,
   "metadata": {},
   "outputs": [],
   "source": [
    "keras.l"
   ]
  },
  {
   "cell_type": "code",
   "execution_count": null,
   "metadata": {},
   "outputs": [],
   "source": [
    "class LrReducer(Callback):\n",
    "    def __init__(self, patience=0, reduce_rate=0.5, reduce_nb=10, verbose=1):\n",
    "        super(Callback, self).__init__()\n",
    "        self.patience = patience\n",
    "        self.wait = 0\n",
    "        self.best_score = -1.\n",
    "        self.reduce_rate = reduce_rate\n",
    "        self.current_reduce_nb = 0\n",
    "        self.reduce_nb = reduce_nb\n",
    "        self.verbose = verbose\n",
    "\n",
    "    def on_epoch_end(self, epoch, logs={}):\n",
    "        current_score = logs.get('val_acc')\n",
    "        if current_score > self.best_score:\n",
    "            self.best_score = current_score\n",
    "            self.wait = 0\n",
    "            if self.verbose > 0:\n",
    "                print('---current best val accuracy: %.3f' % current_score)\n",
    "        else:\n",
    "            if self.wait >= self.patience:\n",
    "                self.current_reduce_nb += 1\n",
    "                if self.current_reduce_nb <= 10:\n",
    "                    lr = self.model.optimizer.lr.get_value()\n",
    "                    self.model.optimizer.lr.set_value(lr*self.reduce_rate)\n",
    "                else:\n",
    "                    if self.verbose > 0:\n",
    "                        print(\"Epoch %d: early stopping\" % (epoch))\n",
    "                    self.model.stop_training = True\n",
    "            self.wait += 1"
   ]
  }
 ],
 "metadata": {
  "kernelspec": {
   "display_name": "Python 3",
   "language": "python",
   "name": "python3"
  },
  "language_info": {
   "codemirror_mode": {
    "name": "ipython",
    "version": 3
   },
   "file_extension": ".py",
   "mimetype": "text/x-python",
   "name": "python",
   "nbconvert_exporter": "python",
   "pygments_lexer": "ipython3",
   "version": "3.8.6"
  }
 },
 "nbformat": 4,
 "nbformat_minor": 2
}
