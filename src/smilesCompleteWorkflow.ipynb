{
 "cells": [
  {
   "cell_type": "code",
   "execution_count": 1,
   "metadata": {},
   "outputs": [
    {
     "name": "stderr",
     "output_type": "stream",
     "text": [
      "RDKit WARNING: [04:26:15] Enabling RDKit 2019.09.3 jupyter extensions\n"
     ]
    }
   ],
   "source": [
    "import psycopg2\n",
    "import pandas as pd\n",
    "import numpy as np\n",
    "import os\n",
    "from rdkit import Chem\n",
    "from rdkit.Chem import AllChem\n",
    "from rdkit import Chem\n",
    "from rdkit.Chem import Draw\n",
    "\n",
    "import pickle\n",
    "\n",
    "import matplotlib.pyplot as plt\n",
    "%matplotlib inline\n",
    "\n",
    "randomState = 42"
   ]
  },
  {
   "cell_type": "markdown",
   "metadata": {},
   "source": [
    "## Data extraction and data preparation helper functions"
   ]
  },
  {
   "cell_type": "code",
   "execution_count": null,
   "metadata": {},
   "outputs": [],
   "source": [
    "def connect2DB(user = 'chembl', password='chembl', host='127.0.0.1', port='5432', database='chembl_25'):\n",
    "    connection = psycopg2.connect(user = user,\n",
    "                    password = password,\n",
    "                    host = host,\n",
    "                    port = port,\n",
    "                    database = database)\n",
    "    return connection\n",
    "\n",
    "def getSmilesWithActivity(connection, nRows = None):\n",
    "    cursor = connection.cursor()\n",
    "    columns = ['molregno', 'canonical_smiles', 'activity_id', \n",
    "           'standard_value', 'standard_units', 'standard_flag', 'standard_type', 'activity_comment',\n",
    "           'alogp', 'hba', 'hbd', 'psa', 'rtb', 'ro3_pass', 'num_ros_violations', 'molecular_species', 'full_mwt', 'aromatic_rings', 'heavy_atoms', 'qed_weighted']\n",
    "\n",
    "    cursor.execute(\"select CS.molregno, \\\n",
    "               CS.canonical_smiles, \\\n",
    "               AC.activity_id, \\\n",
    "               AC.standard_value, \\\n",
    "               AC.standard_units, \\\n",
    "               AC.standard_flag, \\\n",
    "               AC.standard_type, \\\n",
    "               AC.activity_comment, \\\n",
    "               CP.ALOGP, \\\n",
    "               CP.HBA, \\\n",
    "               CP.HBD, \\\n",
    "               CP.PSA, \\\n",
    "               CP.RTB, \\\n",
    "               CP.RO3_PASS, \\\n",
    "               CP.NUM_RO5_VIOLATIONS, \\\n",
    "               CP.MOLECULAR_SPECIES, \\\n",
    "               CP.FULL_MWT, \\\n",
    "               CP.AROMATIC_RINGS, \\\n",
    "               CP.HEAVY_ATOMS, \\\n",
    "               CP.QED_WEIGHTED \\\n",
    "               from COMPOUND_STRUCTURES CS \\\n",
    "               inner join ACTIVITIES AC on CS.molregno = AC.molregno \\\n",
    "               inner join COMPOUND_PROPERTIES CP on CS.molregno = CP.MOLREGNO \\\n",
    "               and (AC.standard_type = 'IC50' or AC.standard_type = 'GI50' or AC.standard_type = 'Potency') \\\n",
    "               and (AC.standard_value IS NOT NULL)\")\n",
    "    if nRows is None:\n",
    "        molData = pd.DataFrame(cursor.fetchall(), columns = columns)\n",
    "    elif nRows > 0:\n",
    "        molData = pd.DataFrame(cursor.fetchmany(nRows), columns = columns)\n",
    "    return molData\n",
    "\n",
    "def provideMoleculeStatistics(smiles):\n",
    "    #print(smiles)\n",
    "    mol = Chem.MolFromSmiles(smiles)\n",
    "    \n",
    "    newSmiles = Chem.MolToSmiles(mol, canonical = True, isomericSmiles = False)\n",
    "    negativeCharged = sum([ item.GetFormalCharge() if item.GetFormalCharge() < 0 else 0 for item in mol.GetAtoms() ])\n",
    "    positiveCharged = sum([ item.GetFormalCharge() if item.GetFormalCharge() > 0 else 0 for item in mol.GetAtoms() ])\n",
    "    \n",
    "    elementsList = list(set([atom.GetSymbol() for atom in mol.GetAtoms()]))\n",
    "    numberOfRings = mol.GetRingInfo().NumRings()\n",
    "    \n",
    "    numberOfAtoms = len(mol.GetAtoms())\n",
    "    \n",
    "    return(newSmiles, negativeCharged, positiveCharged, elementsList, numberOfRings, numberOfAtoms)\n",
    "\n",
    "import codecs\n",
    "encodeToUTF8 = False\n",
    "def canonicalizeSmilesAndProvideDescriptor(smiles):\n",
    "    try:\n",
    "        newSmiles, negativeCharged, positiveCharged, elementsList, numberOfRings, numberOfAtoms = provideMoleculeStatistics(smiles)     \n",
    "    except:\n",
    "        newSmiles, negativeCharged, positiveCharged, elementsList, numberOfRings, numberOfAtoms = (None, None, None, None, None, None)\n",
    "        print('Exception!!! :', smiles)\n",
    "        \n",
    "    if (encodeToUTF8):\n",
    "        return((codecs.encode(newSmiles, 'utf-8'), negativeCharged, positiveCharged, elementsList, numberOfRings, numberOfAtoms))\n",
    "    else:\n",
    "        return((newSmiles, negativeCharged, positiveCharged, elementsList, numberOfRings, numberOfAtoms))"
   ]
  },
  {
   "cell_type": "code",
   "execution_count": null,
   "metadata": {},
   "outputs": [],
   "source": [
    "connection = connect2DB()\n",
    "molData = getSmilesWithActivity(connection)"
   ]
  },
  {
   "cell_type": "markdown",
   "metadata": {},
   "source": [
    "### Imposing some basic restrictions "
   ]
  },
  {
   "cell_type": "code",
   "execution_count": null,
   "metadata": {},
   "outputs": [],
   "source": [
    "molData = molData[molData['standard_units']=='nM'].reset_index()"
   ]
  },
  {
   "cell_type": "code",
   "execution_count": null,
   "metadata": {},
   "outputs": [],
   "source": [
    "molData = molData[molData['aromatic_rings']<=5]"
   ]
  },
  {
   "cell_type": "markdown",
   "metadata": {},
   "source": [
    "### Before aggregation"
   ]
  },
  {
   "cell_type": "code",
   "execution_count": null,
   "metadata": {},
   "outputs": [],
   "source": [
    "molData['aromatic_rings'].hist(bins=5)"
   ]
  },
  {
   "cell_type": "code",
   "execution_count": null,
   "metadata": {},
   "outputs": [],
   "source": [
    "aggFunctions = {\n",
    "            'molregno': ['min', 'count'], 'canonical_smiles': 'min',\n",
    "            'standard_value': ['min', 'max'],\n",
    "            'standard_type': 'min',\n",
    "            'alogp': ['min', 'max'],\n",
    "            'hba': ['min', 'max'],\n",
    "            'hbd': ['min', 'max'],\n",
    "            'psa': ['min', 'max'],\n",
    "            'rtb': ['min', 'max'],\n",
    "            'ro3_pass': 'min',\n",
    "            'num_ros_violations': 'min',\n",
    "            'molecular_species': 'min',\n",
    "            'full_mwt': ['min', 'max'],\n",
    "            'aromatic_rings': 'min',\n",
    "            'heavy_atoms': 'min',\n",
    "            'qed_weighted': ['min', 'max']\n",
    "            }"
   ]
  },
  {
   "cell_type": "code",
   "execution_count": null,
   "metadata": {},
   "outputs": [],
   "source": [
    "grouped = molData.groupby('molregno')\n",
    "molData = grouped.agg(aggFunctions).reset_index()"
   ]
  },
  {
   "cell_type": "markdown",
   "metadata": {},
   "source": [
    "## After aggregation"
   ]
  },
  {
   "cell_type": "code",
   "execution_count": null,
   "metadata": {},
   "outputs": [],
   "source": [
    "molData['aromatic_rings'].hist(bins=5)"
   ]
  },
  {
   "cell_type": "code",
   "execution_count": null,
   "metadata": {},
   "outputs": [],
   "source": [
    "with open('molDataAfterAgg.pickle', 'wb') as f:\n",
    "    pickle.dump(molData, f)"
   ]
  },
  {
   "cell_type": "code",
   "execution_count": null,
   "metadata": {},
   "outputs": [],
   "source": [
    "with open('molDataAfterAgg.pickle', 'rb') as f:\n",
    "    molData = pickle.load(f)"
   ]
  },
  {
   "cell_type": "code",
   "execution_count": null,
   "metadata": {},
   "outputs": [],
   "source": [
    "sourceColumn = ('canonical_smiles', 'min')\n",
    "nTotal = len(molData)\n",
    "nStart = 0\n",
    "nSize = 100000\n",
    "nBatch = np.ceil((nTotal - nStart)/nSize).astype(int)\n",
    "for iii in range(nBatch):\n",
    "    iBeg = nStart + iii * nSize\n",
    "    if (iii == nBatch - 1):\n",
    "        iEnd = nTotal\n",
    "    else:\n",
    "        iEnd = nStart + (iii + 1) * nSize\n",
    "    print('Batch ID: '+str(iii))\n",
    "    result = molData.loc[iBeg:iEnd, sourceColumn].apply(canonicalizeSmilesAndProvideDescriptor)\n",
    "    molData.loc[iBeg:iEnd, 'canonicalSmiles'] = [item[0] for item in result]\n",
    "    molData.loc[iBeg:iEnd, 'negativeCharged'] = [item[1] for item in result]\n",
    "    molData.loc[iBeg:iEnd, 'positiveCharged'] = [item[2] for item in result]\n",
    "    molData.loc[iBeg:iEnd, 'elementsSet'] = [item[3] for item in result]\n",
    "    molData.loc[iBeg:iEnd, 'numberOfRings'] = [item[4] for item in result]\n",
    "    molData.loc[iBeg:iEnd, 'numberOfAtoms'] = [item[5] for item in result]"
   ]
  },
  {
   "cell_type": "code",
   "execution_count": null,
   "metadata": {},
   "outputs": [],
   "source": [
    "molData.head()"
   ]
  },
  {
   "cell_type": "code",
   "execution_count": null,
   "metadata": {},
   "outputs": [],
   "source": [
    "molData = molData.drop(columns = [('canonical_smiles', 'min')])"
   ]
  },
  {
   "cell_type": "code",
   "execution_count": null,
   "metadata": {},
   "outputs": [],
   "source": [
    "molData['activityMin'] = molData[('standard_value', 'min')]\n",
    "molData['activityMax'] = molData[('standard_value', 'max')]\n",
    "molData = molData.drop(columns = [('standard_value', 'min'), ('standard_value', 'max')])"
   ]
  },
  {
   "cell_type": "code",
   "execution_count": null,
   "metadata": {},
   "outputs": [],
   "source": [
    "molData['activityType'] = molData[('standard_type', 'min')]\n",
    "molData = molData.drop(columns = [('standard_type', 'min')])"
   ]
  },
  {
   "cell_type": "code",
   "execution_count": null,
   "metadata": {},
   "outputs": [],
   "source": [
    "molData['alogP'] = molData[('alogp', 'min')]\n",
    "molData = molData.drop(columns = [('alogp', 'min'), ('alogp', 'max')])"
   ]
  },
  {
   "cell_type": "code",
   "execution_count": null,
   "metadata": {},
   "outputs": [],
   "source": [
    "molData['molregIdx'] = molData[('molregno', 'min')]\n",
    "molData = molData.drop(columns = [('molregno', 'min')])\n",
    "molData = molData.set_index(molData['molregIdx'])\n",
    "molData = molData.drop(columns = [('molregno', '')])"
   ]
  },
  {
   "cell_type": "code",
   "execution_count": null,
   "metadata": {},
   "outputs": [],
   "source": [
    "molData['molregCount'] = molData[('molregno', 'count')]\n",
    "molData = molData.drop(columns = [('molregno', 'count')])"
   ]
  },
  {
   "cell_type": "code",
   "execution_count": null,
   "metadata": {},
   "outputs": [],
   "source": [
    "molData['HBacceptors'] = molData[('hba', 'min')]\n",
    "molData = molData.drop(columns = [('hba', 'min'), ('hba', 'max')])"
   ]
  },
  {
   "cell_type": "code",
   "execution_count": null,
   "metadata": {},
   "outputs": [],
   "source": [
    "molData['HBdonors'] = molData[('hbd', 'min')]\n",
    "molData = molData.drop(columns = [('hbd', 'min'), ('hbd', 'max')])"
   ]
  },
  {
   "cell_type": "code",
   "execution_count": null,
   "metadata": {},
   "outputs": [],
   "source": [
    "molData['polarSurface'] = molData[('psa', 'min')]\n",
    "molData = molData.drop(columns = [('psa', 'min'), ('psa', 'max')])"
   ]
  },
  {
   "cell_type": "code",
   "execution_count": null,
   "metadata": {},
   "outputs": [],
   "source": [
    "molData['rotatableBonds'] = molData[('rtb', 'min')]\n",
    "molData = molData.drop(columns = [('rtb', 'min'), ('rtb', 'max')])"
   ]
  },
  {
   "cell_type": "code",
   "execution_count": null,
   "metadata": {},
   "outputs": [],
   "source": [
    "molData['RO3pass'] = molData[('ro3_pass', 'min')]\n",
    "molData = molData.drop(columns = [('ro3_pass', 'min')])"
   ]
  },
  {
   "cell_type": "code",
   "execution_count": null,
   "metadata": {},
   "outputs": [],
   "source": [
    "molData['nRO5violations'] = molData[('num_ros_violations', 'min')]\n",
    "molData = molData.drop(columns = [('num_ros_violations', 'min')])"
   ]
  },
  {
   "cell_type": "code",
   "execution_count": null,
   "metadata": {},
   "outputs": [],
   "source": [
    "molData['acidBaseNeutral'] = molData[('molecular_species', 'min')]\n",
    "molData = molData.drop(columns = [('molecular_species', 'min')])"
   ]
  },
  {
   "cell_type": "code",
   "execution_count": null,
   "metadata": {},
   "outputs": [],
   "source": [
    "molData['fullMolecularWeight'] = molData[('full_mwt', 'min')]\n",
    "molData = molData.drop(columns = [('full_mwt', 'min'), ('full_mwt', 'max')])"
   ]
  },
  {
   "cell_type": "code",
   "execution_count": null,
   "metadata": {},
   "outputs": [],
   "source": [
    "molData['aromaticRings'] = molData[('aromatic_rings', 'min')]\n",
    "molData = molData.drop(columns = [('aromatic_rings', 'min')])"
   ]
  },
  {
   "cell_type": "code",
   "execution_count": null,
   "metadata": {},
   "outputs": [],
   "source": [
    "molData['numberOfHeavyAtoms'] = molData[('heavy_atoms', 'min')]\n",
    "molData = molData.drop(columns = [('heavy_atoms', 'min')])"
   ]
  },
  {
   "cell_type": "code",
   "execution_count": null,
   "metadata": {},
   "outputs": [],
   "source": [
    "molData['QEDweighted'] = molData[('qed_weighted', 'min')]\n",
    "molData = molData.drop(columns = [('qed_weighted', 'min'), ('qed_weighted', 'max')])"
   ]
  },
  {
   "cell_type": "code",
   "execution_count": null,
   "metadata": {},
   "outputs": [],
   "source": [
    "molData.columns = molData.columns.droplevel(1)"
   ]
  },
  {
   "cell_type": "code",
   "execution_count": null,
   "metadata": {},
   "outputs": [],
   "source": [
    "molData.head()"
   ]
  },
  {
   "cell_type": "code",
   "execution_count": null,
   "metadata": {},
   "outputs": [],
   "source": [
    "molData = molData.drop_duplicates(subset=['canonicalSmiles'], keep='first')"
   ]
  },
  {
   "cell_type": "code",
   "execution_count": null,
   "metadata": {},
   "outputs": [],
   "source": [
    "molData = molData.dropna()"
   ]
  },
  {
   "cell_type": "markdown",
   "metadata": {},
   "source": [
    "### Space for additional descriptors"
   ]
  },
  {
   "cell_type": "code",
   "execution_count": null,
   "metadata": {},
   "outputs": [],
   "source": [
    "molData['canonicalSmilesLength'] = molData['canonicalSmiles'].apply(lambda x: len(x))"
   ]
  },
  {
   "cell_type": "code",
   "execution_count": null,
   "metadata": {},
   "outputs": [],
   "source": [
    "organicChemistrySet = set(['B', 'C', 'N', 'O', 'P', 'S', 'F', 'Cl', 'Br', 'I'])\n",
    "molData['organicChemistryElementsOnly'] = molData['elementsSet'].apply(lambda x: set(x) < organicChemistrySet)"
   ]
  },
  {
   "cell_type": "code",
   "execution_count": null,
   "metadata": {},
   "outputs": [],
   "source": [
    "molData.shape"
   ]
  },
  {
   "cell_type": "code",
   "execution_count": null,
   "metadata": {},
   "outputs": [],
   "source": [
    "with open('molDataAfterAggAndClean.pickle', 'wb') as f:\n",
    "    pickle.dump(molData, f)"
   ]
  },
  {
   "cell_type": "code",
   "execution_count": 2,
   "metadata": {},
   "outputs": [],
   "source": [
    "with open('molDataAfterAggAndClean.pickle', 'rb') as f:\n",
    "    molData = pickle.load(f)"
   ]
  },
  {
   "cell_type": "markdown",
   "metadata": {},
   "source": [
    "## Predictive analytics"
   ]
  },
  {
   "cell_type": "markdown",
   "metadata": {},
   "source": [
    "### Sample the data"
   ]
  },
  {
   "cell_type": "code",
   "execution_count": 3,
   "metadata": {},
   "outputs": [
    {
     "data": {
      "text/plain": [
       "<AxesSubplot:>"
      ]
     },
     "execution_count": 3,
     "metadata": {},
     "output_type": "execute_result"
    },
    {
     "data": {
      "image/png": "[encoded data removed]",
      "text/plain": [
       "<Figure size 432x288 with 1 Axes>"
      ]
     },
     "metadata": {
      "needs_background": "light"
     },
     "output_type": "display_data"
    }
   ],
   "source": [
    "molData['canonicalSmilesLength'].hist(bins=25)"
   ]
  },
  {
   "cell_type": "code",
   "execution_count": 4,
   "metadata": {},
   "outputs": [],
   "source": [
    "criterion = (molData['positiveCharged'] == 0) & \\\n",
    "            (molData['negativeCharged'] == 0) & \\\n",
    "            (molData['canonicalSmilesLength'] <= 75) & \\\n",
    "            (molData['canonicalSmilesLength'] >= 25) & \\\n",
    "            (molData['organicChemistryElementsOnly'])\n",
    "sampleData = molData[criterion].sample(n=100000, random_state=randomState)   "
   ]
  },
  {
   "cell_type": "code",
   "execution_count": 5,
   "metadata": {},
   "outputs": [
    {
     "data": {
      "text/plain": [
       "(75, 25)"
      ]
     },
     "execution_count": 5,
     "metadata": {},
     "output_type": "execute_result"
    }
   ],
   "source": [
    "maxLen = max(sampleData['canonicalSmiles'].apply(lambda x: len(x)))\n",
    "minLen = min(sampleData['canonicalSmiles'].apply(lambda x: len(x)))\n",
    "maxLen, minLen"
   ]
  },
  {
   "cell_type": "code",
   "execution_count": 6,
   "metadata": {},
   "outputs": [
    {
     "data": {
      "text/plain": [
       "<AxesSubplot:>"
      ]
     },
     "execution_count": 6,
     "metadata": {},
     "output_type": "execute_result"
    },
    {
     "data": {
      "image/png": "[encoded data removed]",
      "text/plain": [
       "<Figure size 432x288 with 1 Axes>"
      ]
     },
     "metadata": {
      "needs_background": "light"
     },
     "output_type": "display_data"
    }
   ],
   "source": [
    "sampleData['canonicalSmilesLength'].hist(bins=25)"
   ]
  },
  {
   "cell_type": "code",
   "execution_count": 7,
   "metadata": {},
   "outputs": [
    {
     "data": {
      "text/plain": [
       "<AxesSubplot:>"
      ]
     },
     "execution_count": 7,
     "metadata": {},
     "output_type": "execute_result"
    },
    {
     "data": {
      "image/png": "[encoded data removed]",
      "text/plain": [
       "<Figure size 432x288 with 1 Axes>"
      ]
     },
     "metadata": {
      "needs_background": "light"
     },
     "output_type": "display_data"
    }
   ],
   "source": [
    "sampleData['numberOfAtoms'].hist(bins=25)"
   ]
  },
  {
   "cell_type": "code",
   "execution_count": 8,
   "metadata": {},
   "outputs": [
    {
     "data": {
      "text/plain": [
       "{'Br', 'C', 'Cl', 'F', 'I', 'N', 'O', 'P', 'S'}"
      ]
     },
     "execution_count": 8,
     "metadata": {},
     "output_type": "execute_result"
    }
   ],
   "source": [
    "tmp = set()\n",
    "for ele in sampleData['elementsSet']:\n",
    "    tmp = tmp | set(ele)\n",
    "tmp"
   ]
  },
  {
   "cell_type": "markdown",
   "metadata": {},
   "source": [
    "### Remove the rows where square brackets are involved in other than N-H groups (just pretty few...)"
   ]
  },
  {
   "cell_type": "code",
   "execution_count": 9,
   "metadata": {},
   "outputs": [
    {
     "name": "stdout",
     "output_type": "stream",
     "text": [
      "CCC(NC(CC(C)C)C(=O)NC(Cc1ccc(OC)cc1)C(=O)NC)[PH](=O)O\n",
      "Nc1nc(O)cc(OCCOC[PH](=O)O)n1\n",
      "NCC(C[PH](=O)O)c1ccc(F)cc1\n",
      "NCCCCN(Cc1nccc2c3ccccc3n(CC(=O)[IH2]=O)c12)C1CCCc2cccnc21\n"
     ]
    }
   ],
   "source": [
    "mask = sampleData['canonicalSmiles'].apply(lambda x: set(x) > set('[') or set(x) > set(']'))\n",
    "mask2 = sampleData[mask]['canonicalSmiles'].apply(lambda x: x.find('[nH]') < 0)\n",
    "rowsToBeRemoved = sampleData[mask][mask2].index\n",
    "for item in sampleData.loc[rowsToBeRemoved, 'canonicalSmiles']:\n",
    "    print(item)"
   ]
  },
  {
   "cell_type": "code",
   "execution_count": 10,
   "metadata": {},
   "outputs": [],
   "source": [
    "sampleData = sampleData.drop(rowsToBeRemoved)"
   ]
  },
  {
   "cell_type": "markdown",
   "metadata": {},
   "source": [
    "### Replacing multi-character entities"
   ]
  },
  {
   "cell_type": "code",
   "execution_count": 11,
   "metadata": {},
   "outputs": [],
   "source": [
    "def postprocesSmiles(smiles):\n",
    "    replacementDict = {'Br': 'G', 'Cl': 'U', '[nH]': 'W'}\n",
    "    for key in replacementDict.keys():\n",
    "        smiles = smiles.replace(key, replacementDict[key])\n",
    "    return smiles"
   ]
  },
  {
   "cell_type": "code",
   "execution_count": 12,
   "metadata": {},
   "outputs": [],
   "source": [
    "def pad_smile(string, max_len, padding='right'):\n",
    "    if len(string) <= max_len:\n",
    "        if padding == 'right':\n",
    "            return string + \" \" * (max_len - len(string))\n",
    "        elif padding == 'left':\n",
    "            return \" \" * (max_len - len(string)) + string\n",
    "        elif padding == 'none':\n",
    "            return string"
   ]
  },
  {
   "cell_type": "code",
   "execution_count": 13,
   "metadata": {},
   "outputs": [],
   "source": [
    "sampleData['canonicalSmilesPadded'] = sampleData['canonicalSmiles'].apply(postprocesSmiles).apply(lambda x: pad_smile(x, max_len=maxLen, padding='right'))"
   ]
  },
  {
   "cell_type": "markdown",
   "metadata": {},
   "source": [
    "### Coding the smiles into vectors"
   ]
  },
  {
   "cell_type": "code",
   "execution_count": 14,
   "metadata": {},
   "outputs": [
    {
     "name": "stdout",
     "output_type": "stream",
     "text": [
      "total chars: 30\n",
      "[' ', '#', '(', ')', '-', '.', '1', '2', '3', '4', '5', '6', '7', '8', '9', '=', 'C', 'F', 'G', 'I', 'N', 'O', 'P', 'S', 'U', 'W', 'c', 'n', 'o', 's']\n",
      "(99996, 75, 30)\n"
     ]
    }
   ],
   "source": [
    "chars = sorted(list(set(sampleData['canonicalSmilesPadded'].str.cat(sep=''))))\n",
    "print('total chars:', len(chars))\n",
    "print(chars)\n",
    "char2indices = dict((c, i) for i, c in enumerate(chars))\n",
    "indices2char = dict((i, c) for i, c in enumerate(chars))\n",
    "\n",
    "dynamicFeatures = np.zeros((sampleData.shape[0], maxLen, len(chars)), dtype=np.float)\n",
    "print(dynamicFeatures.shape)\n",
    "\n",
    "for codeidx, code in enumerate(sampleData['canonicalSmilesPadded'].tolist()):\n",
    "    for charidx, char in enumerate(code):\n",
    "        dynamicFeatures[codeidx, charidx, char2indices[char]] = 1"
   ]
  },
  {
   "cell_type": "code",
   "execution_count": 15,
   "metadata": {},
   "outputs": [
    {
     "data": {
      "text/plain": [
       "(99996, 75, 30)"
      ]
     },
     "execution_count": 15,
     "metadata": {},
     "output_type": "execute_result"
    }
   ],
   "source": [
    "dynamicFeatures.shape"
   ]
  },
  {
   "cell_type": "markdown",
   "metadata": {},
   "source": [
    "### Architecture preparation"
   ]
  },
  {
   "cell_type": "code",
   "execution_count": 39,
   "metadata": {},
   "outputs": [],
   "source": [
    "from tensorflow.keras.layers import Bidirectional, LSTM, TimeDistributed, concatenate, Input, Dense, RepeatVector, Lambda,  Convolution1D, Flatten, GRU, BatchNormalization, Dropout\n",
    "from tensorflow.keras.models import Model\n",
    "from tensorflow.keras.activations import relu, sigmoid, tanh\n",
    "from tensorflow.keras.callbacks import EarlyStopping, ModelCheckpoint\n",
    "from tensorflow.keras.optimizers import Adam, RMSprop\n",
    "import tensorflow.keras.backend as K\n",
    "from tensorflow.keras.utils import plot_model\n",
    "from tensorflow.keras import losses\n",
    "from tensorflow.keras.losses import binary_crossentropy\n",
    "import tensorflow\n",
    "tensorflow.compat.v1.disable_eager_execution()\n",
    "#from tensorflow.keras import objectives\n",
    "\n",
    "from trainHistory import trainHistory\n",
    "import datetime\n",
    "\n",
    "import numpy.random as rnd"
   ]
  },
  {
   "cell_type": "code",
   "execution_count": 40,
   "metadata": {},
   "outputs": [],
   "source": [
    "def sampling(args):\n",
    "    z_mean, z_log_var = args\n",
    "    batch = K.shape(z_mean)[0]\n",
    "    dim = K.int_shape(z_mean)[1]\n",
    "    # by default, random_normal has mean=0 and std=1.0\n",
    "    epsilon = K.random_normal(shape=(batch, dim))\n",
    "    return z_mean + K.exp(0.5 * z_log_var) * epsilon"
   ]
  },
  {
   "cell_type": "code",
   "execution_count": 41,
   "metadata": {},
   "outputs": [],
   "source": [
    "def prepareEncoderCNNDynamic(nCharInSmiles, nCharSet, k, lr, variational, showArch):\n",
    "\n",
    "    convDefinition = k[0]\n",
    "    input_dynamic = Input(shape=(nCharInSmiles, nCharSet), name=\"inputDynamic\")\n",
    "    h = Convolution1D(convDefinition['initialDimWidth'], convDefinition['initialDimDepth'], activation = 'relu', name='conv_0')(input_dynamic)\n",
    "\n",
    "    for iLayer in range(convDefinition['nCNNlayers'] - 1):\n",
    "        iWidth = int(convDefinition['initialDimDepth'] * convDefinition['expansionCoeff'] ** iLayer)\n",
    "        iDepth = int(convDefinition['initialDimDepth'] * convDefinition['expansionCoeff'] ** iLayer)\n",
    "        h = Convolution1D(iWidth, iDepth, activation = 'relu', name='conv_'+str(iLayer+1))(h)\n",
    "        #h = Dropout(0.1)(h)\n",
    "        h = BatchNormalization()(h)\n",
    "\n",
    "    h = Flatten(name='flatten_1')(h)\n",
    "    output = Dense(k[1], activation = 'relu', name='dense_1')(h)\n",
    "\n",
    "    # autoencoder\n",
    "    if (variational):\n",
    "        #z_mean = Dense(x, name='z_mean')(encoder)\n",
    "        #z_log_var = Dense(x, name='z_log_var')(encoder)\n",
    "        z_mean = Dense(k[1], name='z_mean')(output)\n",
    "        z_log_var = Dense(k[1], name='z_log_var')(output)\n",
    "        z = Lambda(sampling, output_shape=(k[1],), name='encoderOutput')([z_mean, z_log_var])\n",
    "        def vae_loss(x, x_decoded_mean):\n",
    "            x = K.flatten(x)\n",
    "            x_decoded_mean = K.flatten(x_decoded_mean)\n",
    "            xent_loss = nCharInSmiles * binary_crossentropy(x, x_decoded_mean)\n",
    "            kl_loss = - 0.5 * K.mean(1 + z_log_var - K.square(z_mean) - K.exp(z_log_var), axis = -1)\n",
    "            return xent_loss + kl_loss\n",
    "    else:\n",
    "        z = Dense(k[1], activation=\"relu\", name='encoderOutput')(output)\n",
    "        vae_loss = None\n",
    "\n",
    "\n",
    "    model = Model(inputs=[input_dynamic], outputs=[z])\n",
    "    if (showArch):\n",
    "        print(model.summary())\n",
    "\n",
    "    return model, vae_loss\n",
    "\n",
    "def prepareDecoderCNNDynamic(nCharInSmiles, nCharSet, k, lr, showArch):\n",
    "    decoderInput = Input(shape=(k[0],), name=\"decoderInput\")\n",
    "\n",
    "    h = Dense(k[0], name='latent_input', activation = 'relu')(decoderInput)\n",
    "    h = RepeatVector(nCharInSmiles, name='repeat_vector')(h)\n",
    "    for idx, iLayer in enumerate(k[1:]):\n",
    "        h = Bidirectional(LSTM(iLayer, return_sequences = True, name='gru_'+str(idx)))(h)\n",
    "        #h = GRU(iLayer, return_sequences = True, name='gru_'+str(idx))(h)\n",
    "        #h = Dropout(0.1)(h)\n",
    "\n",
    "    resultDynamic = TimeDistributed(Dense(nCharSet, activation='softmax'), name='decoded_mean')(h)\n",
    "\n",
    "    model = Model(inputs=[decoderInput], outputs=[resultDynamic])\n",
    "    if (showArch):\n",
    "        print(model.summary())\n",
    "\n",
    "    return model"
   ]
  },
  {
   "cell_type": "code",
   "execution_count": 42,
   "metadata": {},
   "outputs": [],
   "source": [
    "def fitOnlyDynamic(dynamicFeatures, model, modelFilePath, nEpoch, nBatch, iniLR):\n",
    "    dtime = datetime.datetime.now().strftime(\"%Y-%m-%d_%H_%M_%S\")\n",
    "    order = rnd.permutation(dynamicFeatures.shape[0])\n",
    "\n",
    "    early_stopping = EarlyStopping(monitor='val_loss', patience=10)\n",
    "    checkpoint = ModelCheckpoint(modelFilePath, save_best_only=True, save_weights_only=False, monitor='val_loss')\n",
    "\n",
    "    size = int(dynamicFeatures.shape[0] * 0.9)\n",
    "    training_dynamic = dynamicFeatures[order[:size]]\n",
    "    testing_dynamic = dynamicFeatures[order[size:]]\n",
    "    print(training_dynamic.shape)\n",
    "    print(testing_dynamic.shape)\n",
    "\n",
    "    optimizationEvolution = trainHistory(iniLR, 0.5, 20, dtime)\n",
    "\n",
    "    history = model.fit(training_dynamic,\n",
    "              training_dynamic,\n",
    "                   epochs=nEpoch,\n",
    "                   batch_size=nBatch,\n",
    "                   #callbacks=[early_stopping, checkpoint, optimizationEvolution],\n",
    "                   callbacks=[early_stopping, checkpoint],\n",
    "                   validation_data=(testing_dynamic,\n",
    "                                    testing_dynamic))\n",
    "    return model, history"
   ]
  },
  {
   "cell_type": "code",
   "execution_count": 43,
   "metadata": {},
   "outputs": [],
   "source": [
    "def trainModelDynamic(dynamicFeatures, encoderDimensions, decoderDimensions, modelFile, nEpoch, nBatch, lr):\n",
    "    nCharInSmiles = dynamicFeatures.shape[1]\n",
    "    nCharSet = dynamicFeatures.shape[2]\n",
    "    decoderChoice = 0\n",
    "    variational = True\n",
    "    encoder, vae_loss = prepareEncoderCNNDynamic(nCharInSmiles, nCharSet, encoderDimensions, lr, True, True)\n",
    "    if decoderChoice == 0:\n",
    "        decoder = prepareDecoderCNNDynamic(nCharInSmiles, nCharSet, decoderDimensions, lr, True)\n",
    "    elif decoderChoice == 1:\n",
    "        decoder = prepareDecoderCNN_LSTMDynamic(nCharInSmiles, nCharSet, decoderDimensions, lr, True)\n",
    "    encoderOutput = encoder.get_layer('encoderOutput').output\n",
    "    decoderOutput = decoder(encoderOutput)\n",
    "    autoencoder = Model(inputs=encoder.input, outputs=decoderOutput)\n",
    "\n",
    "    #optimizer = RMSprop(lr=lr)\n",
    "    optimizer = Adam(lr)\n",
    "    if variational:\n",
    "        lossF = vae_loss\n",
    "    else:\n",
    "        loddF = 'categorical_crossentropy'\n",
    "\n",
    "    autoencoder.compile(optimizer=optimizer, loss=lossF, metrics=['categorical_crossentropy', 'mean_absolute_error', 'accuracy'])\n",
    "\n",
    "    print(autoencoder.summary())\n",
    "    #model = prepareModelDynamicStatic(dynamicFeatures.shape, staticFeatures.shape, [64,64,64,32], lr, ['binary_crossentropy', 'mean_absolute_error'], True)\n",
    "    model, history = fitOnlyDynamic(dynamicFeatures, autoencoder, modelFile, nEpoch, nBatch, lr)\n",
    "    return model, history"
   ]
  },
  {
   "cell_type": "code",
   "execution_count": 46,
   "metadata": {},
   "outputs": [],
   "source": [
    "lr = 0.00038\n",
    "latentDim = 256\n",
    "convDefinition = {}\n",
    "convDefinition['initialDimWidth'] = 7\n",
    "convDefinition['initialDimDepth'] = 7\n",
    "convDefinition['nCNNlayers'] = 6\n",
    "convDefinition['expansionCoeff'] = 1.2\n",
    "encoderDimensions = [convDefinition, latentDim]\n",
    "decoderDimensions = [latentDim, 512, 128, 128]\n",
    "\n",
    "hyperParameters = {}\n",
    "hyperParameters['latentDim'] = latentDim\n",
    "hyperParameters['convDefinition'] = convDefinition\n",
    "hyperParameters['encoderDimensions'] = encoderDimensions\n",
    "hyperParameters['decoderDimensions'] = decoderDimensions\n",
    "hyperParameters['lr'] = lr\n",
    "\n",
    "modelWeightsFile = 'model_20200413.h5'\n",
    "nEpoch = 50\n",
    "nBatch = 196"
   ]
  },
  {
   "cell_type": "code",
   "execution_count": null,
   "metadata": {},
   "outputs": [
    {
     "name": "stdout",
     "output_type": "stream",
     "text": [
      "Model: \"model_12\"\n",
      "__________________________________________________________________________________________________\n",
      "Layer (type)                    Output Shape         Param #     Connected to                     \n",
      "==================================================================================================\n",
      "inputDynamic (InputLayer)       [(None, 75, 30)]     0                                            \n",
      "__________________________________________________________________________________________________\n",
      "conv_0 (Conv1D)                 (None, 69, 7)        1477        inputDynamic[0][0]               \n",
      "__________________________________________________________________________________________________\n",
      "conv_1 (Conv1D)                 (None, 63, 7)        350         conv_0[0][0]                     \n",
      "__________________________________________________________________________________________________\n",
      "batch_normalization_20 (BatchNo (None, 63, 7)        28          conv_1[0][0]                     \n",
      "__________________________________________________________________________________________________\n",
      "conv_2 (Conv1D)                 (None, 56, 8)        456         batch_normalization_20[0][0]     \n",
      "__________________________________________________________________________________________________\n",
      "batch_normalization_21 (BatchNo (None, 56, 8)        32          conv_2[0][0]                     \n",
      "__________________________________________________________________________________________________\n",
      "conv_3 (Conv1D)                 (None, 47, 10)       810         batch_normalization_21[0][0]     \n",
      "__________________________________________________________________________________________________\n",
      "batch_normalization_22 (BatchNo (None, 47, 10)       40          conv_3[0][0]                     \n",
      "__________________________________________________________________________________________________\n",
      "conv_4 (Conv1D)                 (None, 36, 12)       1452        batch_normalization_22[0][0]     \n",
      "__________________________________________________________________________________________________\n",
      "batch_normalization_23 (BatchNo (None, 36, 12)       48          conv_4[0][0]                     \n",
      "__________________________________________________________________________________________________\n",
      "conv_5 (Conv1D)                 (None, 23, 14)       2366        batch_normalization_23[0][0]     \n",
      "__________________________________________________________________________________________________\n",
      "batch_normalization_24 (BatchNo (None, 23, 14)       56          conv_5[0][0]                     \n",
      "__________________________________________________________________________________________________\n",
      "flatten_1 (Flatten)             (None, 322)          0           batch_normalization_24[0][0]     \n",
      "__________________________________________________________________________________________________\n",
      "dense_1 (Dense)                 (None, 256)          82688       flatten_1[0][0]                  \n",
      "__________________________________________________________________________________________________\n",
      "z_mean (Dense)                  (None, 256)          65792       dense_1[0][0]                    \n",
      "__________________________________________________________________________________________________\n",
      "z_log_var (Dense)               (None, 256)          65792       dense_1[0][0]                    \n",
      "__________________________________________________________________________________________________\n",
      "encoderOutput (Lambda)          (None, 256)          0           z_mean[0][0]                     \n",
      "                                                                 z_log_var[0][0]                  \n",
      "==================================================================================================\n",
      "Total params: 221,387\n",
      "Trainable params: 221,285\n",
      "Non-trainable params: 102\n",
      "__________________________________________________________________________________________________\n",
      "None\n",
      "Model: \"model_13\"\n",
      "_________________________________________________________________\n",
      "Layer (type)                 Output Shape              Param #   \n",
      "=================================================================\n",
      "decoderInput (InputLayer)    [(None, 256)]             0         \n",
      "_________________________________________________________________\n",
      "latent_input (Dense)         (None, 256)               65792     \n",
      "_________________________________________________________________\n",
      "repeat_vector (RepeatVector) (None, 75, 256)           0         \n",
      "_________________________________________________________________\n",
      "bidirectional_3 (Bidirection (None, 75, 1024)          3149824   \n",
      "_________________________________________________________________\n",
      "bidirectional_4 (Bidirection (None, 75, 256)           1180672   \n",
      "_________________________________________________________________\n",
      "bidirectional_5 (Bidirection (None, 75, 256)           394240    \n",
      "_________________________________________________________________\n",
      "decoded_mean (TimeDistribute (None, 75, 30)            7710      \n",
      "=================================================================\n",
      "Total params: 4,798,238\n",
      "Trainable params: 4,798,238\n",
      "Non-trainable params: 0\n",
      "_________________________________________________________________\n",
      "None\n",
      "Model: \"model_14\"\n",
      "__________________________________________________________________________________________________\n",
      "Layer (type)                    Output Shape         Param #     Connected to                     \n",
      "==================================================================================================\n",
      "inputDynamic (InputLayer)       [(None, 75, 30)]     0                                            \n",
      "__________________________________________________________________________________________________\n",
      "conv_0 (Conv1D)                 (None, 69, 7)        1477        inputDynamic[0][0]               \n",
      "__________________________________________________________________________________________________\n",
      "conv_1 (Conv1D)                 (None, 63, 7)        350         conv_0[0][0]                     \n",
      "__________________________________________________________________________________________________\n",
      "batch_normalization_20 (BatchNo (None, 63, 7)        28          conv_1[0][0]                     \n",
      "__________________________________________________________________________________________________\n",
      "conv_2 (Conv1D)                 (None, 56, 8)        456         batch_normalization_20[0][0]     \n",
      "__________________________________________________________________________________________________\n",
      "batch_normalization_21 (BatchNo (None, 56, 8)        32          conv_2[0][0]                     \n",
      "__________________________________________________________________________________________________\n",
      "conv_3 (Conv1D)                 (None, 47, 10)       810         batch_normalization_21[0][0]     \n",
      "__________________________________________________________________________________________________\n",
      "batch_normalization_22 (BatchNo (None, 47, 10)       40          conv_3[0][0]                     \n",
      "__________________________________________________________________________________________________\n",
      "conv_4 (Conv1D)                 (None, 36, 12)       1452        batch_normalization_22[0][0]     \n",
      "__________________________________________________________________________________________________\n",
      "batch_normalization_23 (BatchNo (None, 36, 12)       48          conv_4[0][0]                     \n",
      "__________________________________________________________________________________________________\n",
      "conv_5 (Conv1D)                 (None, 23, 14)       2366        batch_normalization_23[0][0]     \n",
      "__________________________________________________________________________________________________\n",
      "batch_normalization_24 (BatchNo (None, 23, 14)       56          conv_5[0][0]                     \n",
      "__________________________________________________________________________________________________\n",
      "flatten_1 (Flatten)             (None, 322)          0           batch_normalization_24[0][0]     \n",
      "__________________________________________________________________________________________________\n",
      "dense_1 (Dense)                 (None, 256)          82688       flatten_1[0][0]                  \n",
      "__________________________________________________________________________________________________\n",
      "z_mean (Dense)                  (None, 256)          65792       dense_1[0][0]                    \n",
      "__________________________________________________________________________________________________\n",
      "z_log_var (Dense)               (None, 256)          65792       dense_1[0][0]                    \n",
      "__________________________________________________________________________________________________\n",
      "encoderOutput (Lambda)          (None, 256)          0           z_mean[0][0]                     \n",
      "                                                                 z_log_var[0][0]                  \n",
      "__________________________________________________________________________________________________\n",
      "model_13 (Model)                (None, 75, 30)       4798238     encoderOutput[0][0]              \n",
      "==================================================================================================\n",
      "Total params: 5,019,625\n",
      "Trainable params: 5,019,523\n",
      "Non-trainable params: 102\n",
      "__________________________________________________________________________________________________\n",
      "None\n"
     ]
    },
    {
     "name": "stdout",
     "output_type": "stream",
     "text": [
      "(89996, 75, 30)\n",
      "(10000, 75, 30)\n",
      "Train on 89996 samples, validate on 10000 samples\n",
      "Epoch 1/50\n",
      "89996/89996 [==============================] - 119s 1ms/sample - loss: 5.4108 - categorical_crossentropy: 1.5051 - mean_absolute_error: 0.0375 - accuracy: 0.5384 - val_loss: 5.0965 - val_categorical_crossentropy: 1.4231 - val_mean_absolute_error: 0.0359 - val_accuracy: 0.5529\n",
      "Epoch 2/50\n",
      "89996/89996 [==============================] - 110s 1ms/sample - loss: 5.0817 - categorical_crossentropy: 1.4172 - mean_absolute_error: 0.0358 - accuracy: 0.5530 - val_loss: 5.0192 - val_categorical_crossentropy: 1.3984 - val_mean_absolute_error: 0.0357 - val_accuracy: 0.5571\n",
      "Epoch 3/50\n",
      "89996/89996 [==============================] - 110s 1ms/sample - loss: 5.0228 - categorical_crossentropy: 1.4000 - mean_absolute_error: 0.0355 - accuracy: 0.5559 - val_loss: 4.9653 - val_categorical_crossentropy: 1.3847 - val_mean_absolute_error: 0.0352 - val_accuracy: 0.5597\n",
      "Epoch 4/50\n",
      "89996/89996 [==============================] - 111s 1ms/sample - loss: 4.9791 - categorical_crossentropy: 1.3881 - mean_absolute_error: 0.0352 - accuracy: 0.5586 - val_loss: 4.9503 - val_categorical_crossentropy: 1.3800 - val_mean_absolute_error: 0.0351 - val_accuracy: 0.5605\n",
      "Epoch 5/50\n",
      "89996/89996 [==============================] - 110s 1ms/sample - loss: 4.9686 - categorical_crossentropy: 1.3839 - mean_absolute_error: 0.0352 - accuracy: 0.5596 - val_loss: 5.0877 - val_categorical_crossentropy: 1.3877 - val_mean_absolute_error: 0.0352 - val_accuracy: 0.5560\n",
      "Epoch 6/50\n",
      "89996/89996 [==============================] - 111s 1ms/sample - loss: 4.9583 - categorical_crossentropy: 1.3803 - mean_absolute_error: 0.0351 - accuracy: 0.5601 - val_loss: 4.9304 - val_categorical_crossentropy: 1.3733 - val_mean_absolute_error: 0.0349 - val_accuracy: 0.5624\n",
      "Epoch 7/50\n",
      "89996/89996 [==============================] - 110s 1ms/sample - loss: 4.9585 - categorical_crossentropy: 1.3802 - mean_absolute_error: 0.0351 - accuracy: 0.5604 - val_loss: 4.9645 - val_categorical_crossentropy: 1.3848 - val_mean_absolute_error: 0.0349 - val_accuracy: 0.5589\n",
      "Epoch 8/50\n",
      "89996/89996 [==============================] - 111s 1ms/sample - loss: 4.9339 - categorical_crossentropy: 1.3721 - mean_absolute_error: 0.0349 - accuracy: 0.5627 - val_loss: 4.9258 - val_categorical_crossentropy: 1.3729 - val_mean_absolute_error: 0.0351 - val_accuracy: 0.5621\n",
      "Epoch 9/50\n",
      "89996/89996 [==============================] - 110s 1ms/sample - loss: 4.9235 - categorical_crossentropy: 1.3706 - mean_absolute_error: 0.0349 - accuracy: 0.5637 - val_loss: 4.9018 - val_categorical_crossentropy: 1.3663 - val_mean_absolute_error: 0.0349 - val_accuracy: 0.5649\n",
      "Epoch 10/50\n",
      "89996/89996 [==============================] - 111s 1ms/sample - loss: 4.9010 - categorical_crossentropy: 1.3648 - mean_absolute_error: 0.0348 - accuracy: 0.5652 - val_loss: 4.8803 - val_categorical_crossentropy: 1.3618 - val_mean_absolute_error: 0.0348 - val_accuracy: 0.5660\n",
      "Epoch 11/50\n",
      "89996/89996 [==============================] - 111s 1ms/sample - loss: 4.9158 - categorical_crossentropy: 1.3664 - mean_absolute_error: 0.0348 - accuracy: 0.5649 - val_loss: 4.8923 - val_categorical_crossentropy: 1.3601 - val_mean_absolute_error: 0.0347 - val_accuracy: 0.5675\n",
      "Epoch 12/50\n",
      "89996/89996 [==============================] - 110s 1ms/sample - loss: 4.8818 - categorical_crossentropy: 1.3605 - mean_absolute_error: 0.0347 - accuracy: 0.5666 - val_loss: 4.8858 - val_categorical_crossentropy: 1.3630 - val_mean_absolute_error: 0.0346 - val_accuracy: 0.5653\n",
      "Epoch 13/50\n",
      "89996/89996 [==============================] - 111s 1ms/sample - loss: 4.8912 - categorical_crossentropy: 1.3600 - mean_absolute_error: 0.0347 - accuracy: 0.5667 - val_loss: 4.8739 - val_categorical_crossentropy: 1.3578 - val_mean_absolute_error: 0.0347 - val_accuracy: 0.5671\n",
      "Epoch 14/50\n",
      "89996/89996 [==============================] - 110s 1ms/sample - loss: 4.8621 - categorical_crossentropy: 1.3554 - mean_absolute_error: 0.0346 - accuracy: 0.5685 - val_loss: 4.8436 - val_categorical_crossentropy: 1.3523 - val_mean_absolute_error: 0.0344 - val_accuracy: 0.5691\n",
      "Epoch 15/50\n",
      "89996/89996 [==============================] - 111s 1ms/sample - loss: 4.8524 - categorical_crossentropy: 1.3526 - mean_absolute_error: 0.0345 - accuracy: 0.5695 - val_loss: 4.8473 - val_categorical_crossentropy: 1.3514 - val_mean_absolute_error: 0.0346 - val_accuracy: 0.5696\n",
      "Epoch 16/50\n",
      "89996/89996 [==============================] - 111s 1ms/sample - loss: 4.8482 - categorical_crossentropy: 1.3516 - mean_absolute_error: 0.0345 - accuracy: 0.5698 - val_loss: 4.8561 - val_categorical_crossentropy: 1.3556 - val_mean_absolute_error: 0.0346 - val_accuracy: 0.5680\n",
      "Epoch 17/50\n",
      "89996/89996 [==============================] - 110s 1ms/sample - loss: 4.8413 - categorical_crossentropy: 1.3504 - mean_absolute_error: 0.0344 - accuracy: 0.5702 - val_loss: 4.8749 - val_categorical_crossentropy: 1.3580 - val_mean_absolute_error: 0.0345 - val_accuracy: 0.5675\n",
      "Epoch 18/50\n",
      "89996/89996 [==============================] - 111s 1ms/sample - loss: 4.8333 - categorical_crossentropy: 1.3483 - mean_absolute_error: 0.0344 - accuracy: 0.5706 - val_loss: 4.8237 - val_categorical_crossentropy: 1.3472 - val_mean_absolute_error: 0.0343 - val_accuracy: 0.5706\n",
      "Epoch 19/50\n",
      "89996/89996 [==============================] - 111s 1ms/sample - loss: 4.8264 - categorical_crossentropy: 1.3433 - mean_absolute_error: 0.0343 - accuracy: 0.5721 - val_loss: 4.8213 - val_categorical_crossentropy: 1.3415 - val_mean_absolute_error: 0.0344 - val_accuracy: 0.5728\n",
      "Epoch 20/50\n",
      "89996/89996 [==============================] - 111s 1ms/sample - loss: 4.7731 - categorical_crossentropy: 1.3259 - mean_absolute_error: 0.0339 - accuracy: 0.5787 - val_loss: 4.7608 - val_categorical_crossentropy: 1.3192 - val_mean_absolute_error: 0.0338 - val_accuracy: 0.5810\n",
      "Epoch 21/50\n",
      "89996/89996 [==============================] - 111s 1ms/sample - loss: 4.7437 - categorical_crossentropy: 1.3166 - mean_absolute_error: 0.0337 - accuracy: 0.5819 - val_loss: 4.7396 - val_categorical_crossentropy: 1.3140 - val_mean_absolute_error: 0.0336 - val_accuracy: 0.5829\n",
      "Epoch 22/50\n",
      "89996/89996 [==============================] - 111s 1ms/sample - loss: 4.7073 - categorical_crossentropy: 1.3030 - mean_absolute_error: 0.0335 - accuracy: 0.5869 - val_loss: 4.7407 - val_categorical_crossentropy: 1.3074 - val_mean_absolute_error: 0.0334 - val_accuracy: 0.5864\n",
      "Epoch 23/50\n",
      "61544/89996 [===================>..........] - ETA: 33s - loss: 4.6754 - categorical_crossentropy: 1.2902 - mean_absolute_error: 0.0332 - accuracy: 0.5913"
     ]
    }
   ],
   "source": [
    "model, history = trainModelDynamic(dynamicFeatures, encoderDimensions, decoderDimensions, modelWeightsFile, nEpoch, nBatch, lr)"
   ]
  },
  {
   "cell_type": "markdown",
   "metadata": {},
   "source": [
    "## The end"
   ]
  },
  {
   "cell_type": "code",
   "execution_count": null,
   "metadata": {},
   "outputs": [],
   "source": [
    "from SmilesEnumerator import SmilesEnumerator"
   ]
  },
  {
   "cell_type": "code",
   "execution_count": null,
   "metadata": {},
   "outputs": [],
   "source": [
    "sme = SmilesEnumerator()\n",
    "sme.rand"
   ]
  },
  {
   "cell_type": "code",
   "execution_count": null,
   "metadata": {},
   "outputs": [],
   "source": [
    "smiles = molData.loc[:24,'canonicalSmiles']"
   ]
  },
  {
   "cell_type": "code",
   "execution_count": null,
   "metadata": {},
   "outputs": [],
   "source": [
    "#smiles = np.array([ \"CCC(=O)O[C@@]1(CC[NH+](C[C@H]1CC=C)C)c2ccccc2\",\n",
    "#                    \"CCC[S@@](=O)c1ccc2c(c1)[nH]/c(=N/C(=O)OC)/[nH]2\"]*10\n",
    "#                        )\n",
    "#Test canonical SMILES vectorization\n",
    "sm_en = SmilesEnumerator(canonical=True, enum=False)\n",
    "sm_en.fit(smiles, extra_chars=[\"\\\\\"])\n",
    "v = sm_en.transform(smiles)\n",
    "transformed = sm_en.reverse_transform(v)\n",
    "if len(set(transformed)) > 2: print(\"Too many different canonical SMILES generated\")"
   ]
  },
  {
   "cell_type": "code",
   "execution_count": null,
   "metadata": {},
   "outputs": [],
   "source": [
    "transformed"
   ]
  },
  {
   "cell_type": "code",
   "execution_count": null,
   "metadata": {},
   "outputs": [],
   "source": [
    "v.shape"
   ]
  },
  {
   "cell_type": "code",
   "execution_count": null,
   "metadata": {},
   "outputs": [],
   "source": [
    "smiles = molData[('canonical_smiles', 'min')]"
   ]
  },
  {
   "cell_type": "code",
   "execution_count": null,
   "metadata": {},
   "outputs": [],
   "source": [
    "charges = []\n",
    "canSmiles = []\n",
    "for idx, smile in enumerate(smiles):\n",
    "    try:\n",
    "        mol = Chem.MolFromSmiles(smile)\n",
    "        charge = Chem.GetFormalCharge(mol)\n",
    "        canonicalSmiles = Chem.MolToSmiles(mol, isomericSmiles = True, canonical = True)\n",
    "    except:\n",
    "        charge = None\n",
    "        canonicalSmiles = None\n",
    "    finally:\n",
    "        charges.append(charge)\n",
    "        canSmiles.append(canonicalSmiles)\n",
    "    if (idx % 50000 == 0):\n",
    "        print(idx)"
   ]
  },
  {
   "cell_type": "code",
   "execution_count": null,
   "metadata": {},
   "outputs": [],
   "source": [
    "canonicalSmilesMap = {}\n",
    "duplicates = []\n",
    "for smiles in canSmiles:\n",
    "    if smiles in canonicalSmilesMap:\n",
    "        duplicates.append(smiles)\n",
    "    else:\n",
    "        canonicalSmilesMap[smiles] = smiles"
   ]
  },
  {
   "cell_type": "code",
   "execution_count": null,
   "metadata": {},
   "outputs": [],
   "source": [
    "len(duplicates)"
   ]
  },
  {
   "cell_type": "code",
   "execution_count": null,
   "metadata": {},
   "outputs": [],
   "source": [
    "molData = pd.concat([molData, pd.DataFrame(charges, columns=['charge'])], axis=1)"
   ]
  },
  {
   "cell_type": "code",
   "execution_count": null,
   "metadata": {},
   "outputs": [],
   "source": [
    "molData = molData[molData['charge'] == 0]"
   ]
  },
  {
   "cell_type": "code",
   "execution_count": null,
   "metadata": {},
   "outputs": [],
   "source": [
    "pd.DataFrame(charges).hist(bins=10)"
   ]
  },
  {
   "cell_type": "code",
   "execution_count": null,
   "metadata": {},
   "outputs": [],
   "source": [
    "mol = Chem.MolFromSmiles(molData[('canonical_smiles', 'min')][0])\n",
    "\n",
    "\n",
    "Chem.GetSSSR(mol)\n",
    "print(Chem.GetFormalCharge(mol))"
   ]
  },
  {
   "cell_type": "code",
   "execution_count": null,
   "metadata": {},
   "outputs": [],
   "source": [
    "os.chdir('/home/rafalb/work/molecules/chemicalSmilesSpace/src')\n",
    "picklesDir = 'pickles/'\n",
    "DBread = False\n",
    "if DBread:\n",
    "    connection = connect2DB()\n",
    "    molData = getSmilesWithActivity(connection)\n",
    "    connection.close()\n",
    "    molData.to_pickle(picklesDir+'molDataRaw.pkl')"
   ]
  }
 ],
 "metadata": {
  "kernelspec": {
   "display_name": "Python 3",
   "language": "python",
   "name": "python3"
  },
  "language_info": {
   "codemirror_mode": {
    "name": "ipython",
    "version": 3
   },
   "file_extension": ".py",
   "mimetype": "text/x-python",
   "name": "python",
   "nbconvert_exporter": "python",
   "pygments_lexer": "ipython3",
   "version": "3.8.6"
  }
 },
 "nbformat": 4,
 "nbformat_minor": 2
}
