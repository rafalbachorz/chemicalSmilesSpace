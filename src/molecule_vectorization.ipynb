{
 "cells": [
  {
   "cell_type": "markdown",
   "metadata": {},
   "source": [
    "# General libraries"
   ]
  },
  {
   "cell_type": "code",
   "execution_count": 1,
   "metadata": {},
   "outputs": [],
   "source": [
    "import os\n",
    "import sys\n",
    "from pathlib import Path\n",
    "\n",
    "import pandas as pd\n",
    "import numpy as np\n",
    "import matplotlib.pyplot as plt\n",
    "%matplotlib inline\n",
    "\n",
    "from rdkit import Chem\n",
    "from rdkit.Chem.Draw import IPythonConsole\n",
    "from rdkit.Chem import QED\n",
    "\n",
    "#For debugging, reimport modules when executing cells\n",
    "%load_ext autoreload\n",
    "%autoreload 2\n",
    "\n",
    "molvecgen_path = Path(\"/home/rafalb/work/molecules/molvecgen/molvecgen\")\n",
    "sys.path.append(molvecgen_path.absolute().as_posix())\n",
    "\n",
    "from vectorizers import SmilesVectorizer\n",
    "from generators import HetSmilesGenerator, SmilesSequence, SmilesGenerator, CodeGenerator, SmilesGenerator2"
   ]
  },
  {
   "cell_type": "code",
   "execution_count": null,
   "metadata": {},
   "outputs": [],
   "source": []
  },
  {
   "cell_type": "code",
   "execution_count": null,
   "metadata": {},
   "outputs": [],
   "source": [
    "smiles = [ \"CCC(=O)O[C@@]1(CC[NH+](C[C@H]1CC=C)C)c2ccccc2\",\n",
    "            \"CCC[S@@](=O)c1ccc2c(c1)[nH]/c(=N/C(=O)OC)/[nH]2\"]*10\n",
    "          \n",
    "mols =   [Chem.MolFromSmiles(smile) for smile in smiles]"
   ]
  },
  {
   "cell_type": "code",
   "execution_count": null,
   "metadata": {},
   "outputs": [],
   "source": [
    "sm_en = SmilesVectorizer(canonical=True, augment=False)\n",
    "\n",
    "print(\"Default Charset %s\"%sm_en.charset)\n",
    "print(\"Default Maximum allowed SMILES length %s\"%sm_en.maxlength)\n",
    "\n",
    "sm_en.fit(mols, extra_chars=[\"\\\\\"])\n",
    "print()\n",
    "print(\"After fitting\")\n",
    "print(\"Charset after fit %s\"%sm_en.charset)\n",
    "print(\"Length of charset %s\"%len(sm_en.charset))\n",
    "print(\"Maximum allowed SMILES length %s\"%sm_en.maxlength)"
   ]
  },
  {
   "cell_type": "code",
   "execution_count": null,
   "metadata": {},
   "outputs": [],
   "source": [
    "mol_vects = sm_en.transform(mols)\n",
    "plt.matshow(mol_vects[0].T)"
   ]
  },
  {
   "cell_type": "code",
   "execution_count": null,
   "metadata": {},
   "outputs": [],
   "source": [
    "mol_vects.shape"
   ]
  },
  {
   "cell_type": "code",
   "execution_count": null,
   "metadata": {},
   "outputs": [],
   "source": [
    "#We make up some labels\n",
    "y = range(len(mols))\n",
    "smi_seq = SmilesSequence(mols, y, sm_en, batch_size=3)\n",
    "print(len(smi_seq))"
   ]
  },
  {
   "cell_type": "code",
   "execution_count": null,
   "metadata": {},
   "outputs": [],
   "source": [
    "batch_x, batch_y = smi_seq[0]\n",
    "print(batch_y)"
   ]
  },
  {
   "cell_type": "code",
   "execution_count": null,
   "metadata": {},
   "outputs": [],
   "source": [
    "y=[1,2]*10\n",
    "#Set data augmentation on\n",
    "sm_en.augment=True\n",
    "sm_en.canonical=False\n",
    "\n",
    "sm_gn = SmilesGenerator(mols, y, sm_en, batch_size=4, shuffle=True)\n",
    "\n",
    "batch_x, batch_y = sm_gn.next()\n",
    "print(batch_x.shape)\n",
    "print(batch_y.shape)"
   ]
  },
  {
   "cell_type": "code",
   "execution_count": null,
   "metadata": {},
   "outputs": [],
   "source": [
    "#If settings on generator is the same, it can be reused, otherwise recreate\n",
    "import copy\n",
    "vect1 = sm_en\n",
    "vect2 = copy.deepcopy(sm_en)\n",
    "vect2.augment = False # Set the augment to be false for testing purposes\n",
    "vect2.leftpad = False # Set the order of the SMILES to be from left to right\n",
    "\n",
    "print(vect1.augment)\n",
    "print(vect2.augment) "
   ]
  },
  {
   "cell_type": "code",
   "execution_count": null,
   "metadata": {},
   "outputs": [],
   "source": [
    "batchgen = HetSmilesGenerator(mols, None, vect1, vect2, batch_size=3) #Y is None\n",
    "_input, _output = batchgen.next()"
   ]
  },
  {
   "cell_type": "code",
   "execution_count": null,
   "metadata": {},
   "outputs": [],
   "source": [
    "plt.matshow(_input[0][0].T)\n",
    "plt.matshow(_input[1][0].T)\n",
    "plt.matshow(_output[0].T)"
   ]
  },
  {
   "cell_type": "code",
   "execution_count": null,
   "metadata": {},
   "outputs": [],
   "source": [
    "zinc20_path = Path(\"/storage2/zinc20\")"
   ]
  },
  {
   "cell_type": "code",
   "execution_count": null,
   "metadata": {},
   "outputs": [],
   "source": [
    "def read_smiles_file(smiles_file, delimiter=' ', smiles_column=0,\n",
    "                     name_column=1, header=False, requires_length=False):\n",
    "    \"\"\"Read a SMILES file.\n",
    "\n",
    "    Parameters\n",
    "    ----------\n",
    "    smiles_file: path to a SMILES file\n",
    "    requires_length: If True returns an enumerated Mol\n",
    "        supplier, i.e. when monitoring progress\n",
    "\n",
    "    Returns\n",
    "    -------\n",
    "    either a MolSupplier or an EnumeratedSupplier\n",
    "    depending on whether a length is required\n",
    "    \"\"\"\n",
    "\n",
    "    if requires_length is False:\n",
    "        return MolSupplier(\n",
    "            SmilesMolSupplier(\n",
    "                smiles_file,\n",
    "                delimiter,\n",
    "                smiles_column,\n",
    "                name_column,\n",
    "                header,\n",
    "                True))\n",
    "\n",
    "    count = smiles_count(smiles_file)\n",
    "    if header is True:\n",
    "        count -= 1\n",
    "\n",
    "    supplier = SmilesMolSupplier(smiles_file, delimiter, smiles_column, name_column, header, True)\n",
    "\n",
    "    return EnumeratedMolSupplier(supplier, count) "
   ]
  },
  {
   "cell_type": "code",
   "execution_count": null,
   "metadata": {},
   "outputs": [],
   "source": [
    "def read_smiles(path):\n",
    "    result = []\n",
    "    suppl = Chem.SmilesMolSupplier(path)\n",
    "    for mol in suppl: result.append(mol)\n",
    "    return result "
   ]
  },
  {
   "cell_type": "code",
   "execution_count": null,
   "metadata": {},
   "outputs": [],
   "source": [
    "zinc_file = \"AA/AAAD.smi\"\n",
    "path = (zinc20_path/zinc_file).absolute().as_posix()\n",
    "mols = read_smiles(path)\n",
    "\n",
    "smiles = [Chem.MolToSmiles(mol) for mol in mols]\n",
    "smiles_lens = [len(smi) for smi in smiles]\n",
    "smiles_df = pd.DataFrame({\"smiles\": smiles, \"lengths\": smiles_lens})"
   ]
  },
  {
   "cell_type": "code",
   "execution_count": null,
   "metadata": {},
   "outputs": [],
   "source": [
    "smiles_df[\"lengths\"].hist()"
   ]
  },
  {
   "cell_type": "code",
   "execution_count": null,
   "metadata": {},
   "outputs": [],
   "source": [
    "sm_en = SmilesVectorizer(canonical=True, augment=False)\n",
    "\n",
    "print(\"Default Charset %s\"%sm_en.charset)\n",
    "print(\"Default Maximum allowed SMILES length %s\"%sm_en.maxlength)\n",
    "\n",
    "sm_en.fit(mols, extra_chars=[\"\\\\\"])\n",
    "print()\n",
    "print(\"After fitting\")\n",
    "print(\"Charset after fit %s\"%sm_en.charset)\n",
    "print(\"Length of charset %s\"%len(sm_en.charset))\n",
    "print(\"Maximum allowed SMILES length %s\"%sm_en.maxlength)"
   ]
  },
  {
   "cell_type": "code",
   "execution_count": null,
   "metadata": {},
   "outputs": [],
   "source": [
    "vect1 = sm_en\n",
    "vect2 = copy.deepcopy(sm_en)\n",
    "vect2.augment = False # Set the augment to be false for testing purposes\n",
    "vect2.leftpad = False # Set the order of the SMILES to be from left to right\n",
    "\n",
    "print(vect1.augment)\n",
    "print(vect2.augment) "
   ]
  },
  {
   "cell_type": "code",
   "execution_count": null,
   "metadata": {},
   "outputs": [],
   "source": [
    "batchgen = HetSmilesGenerator(mols, None, vect1, vect2, batch_size=3) #Y is None\n",
    "_input, _output = batchgen.next()"
   ]
  },
  {
   "cell_type": "code",
   "execution_count": null,
   "metadata": {},
   "outputs": [],
   "source": [
    "plt.matshow(_input[0][0].T)\n",
    "plt.matshow(_input[1][0].T)\n",
    "plt.matshow(_output[0].T)"
   ]
  },
  {
   "cell_type": "code",
   "execution_count": null,
   "metadata": {},
   "outputs": [],
   "source": [
    "data_path = Path(\"/home/rafalb/work/molecules/moleculeAE/moleculeae/data/processed\")\n",
    "qedDF = pd.read_csv((data_path/\"qed_1000000_reference.csv\"), index_col=0)\n",
    "qedDF"
   ]
  },
  {
   "cell_type": "code",
   "execution_count": null,
   "metadata": {},
   "outputs": [],
   "source": [
    "smilesCodes = qedDF['smiles']\n",
    "descs = qedDF[['ALOGP', 'AROM', 'HBA', 'HBD', 'PSA', 'ROTB', 'MW']].values\n",
    "descs = descs.astype(float)\n",
    "\n",
    "from sklearn.preprocessing import StandardScaler\n",
    "ss = StandardScaler()\n",
    "descs = ss.fit_transform(descs)\n",
    "\n",
    "from sklearn.decomposition import PCA\n",
    "pca = PCA(n_components=descs.shape[1])\n",
    "descs = pca.fit_transform(descs)\n",
    "\n",
    "mols = [Chem.MolFromSmiles(smiles) for smiles in smilesCodes]\n",
    "mols_bin = [Chem.rdchem.Mol.ToBinary(Chem.MolFromSmiles(smiles)) for smiles in smilesCodes]"
   ]
  },
  {
   "cell_type": "code",
   "execution_count": null,
   "metadata": {},
   "outputs": [],
   "source": [
    "vectmp = SmilesVectorizer(canonical=False, augment=True, binary=True)\n",
    "vectmp.fit(mols)\n",
    "maxlength = vectmp.maxlength\n",
    "charset = vectmp.charset"
   ]
  },
  {
   "cell_type": "code",
   "execution_count": null,
   "metadata": {},
   "outputs": [],
   "source": [
    "smilesvec1 = SmilesVectorizer(canonical=False, augment=True, binary=True, maxlength=maxlength, \n",
    "                              charset=charset, pad=30)\n",
    "smilesvec2 = SmilesVectorizer(canonical=False, augment=True, binary=True, leftpad=False, maxlength=maxlength, \n",
    "                              charset=charset, pad=30)"
   ]
  },
  {
   "cell_type": "code",
   "execution_count": null,
   "metadata": {},
   "outputs": [],
   "source": [
    "batch_size = 256\n",
    "trainCutOff = 180000\n",
    "x_train = descs[:trainCutOff]\n",
    "x_valid = descs[trainCutOff:]\n",
    "y_train = mols_bin[:trainCutOff]\n",
    "y_valid = mols_bin[trainCutOff:]\n",
    "\n",
    "\n",
    "steps_per_epoch = trainCutOff // batch_size\n",
    "steps_per_validataion = (len(mols) - trainCutOff) // batch_size\n",
    "cg_train = CodeGenerator(x_train, y_train, smilesvec1, smilesvec2, \n",
    "                         batch_size=batch_size, shuffle=True)\n",
    "cg_val = CodeGenerator(x_valid, y_valid, smilesvec1, smilesvec2, \n",
    "                       batch_size=batch_size, shuffle=True)"
   ]
  },
  {
   "cell_type": "markdown",
   "metadata": {},
   "source": [
    "# Conditional recurrent"
   ]
  },
  {
   "cell_type": "markdown",
   "metadata": {},
   "source": [
    "## Libraries"
   ]
  },
  {
   "cell_type": "code",
   "execution_count": null,
   "metadata": {},
   "outputs": [],
   "source": [
    "from tensorflow.compat.v1.keras.layers import (\n",
    "    CuDNNLSTM as LSTM,\n",
    ")\n",
    "from tensorflow.keras.layers import TimeDistributed, concatenate, Input, Dense, RepeatVector, \\\n",
    "Lambda,  Convolution1D, Flatten, GRU, BatchNormalization, Dropout, Bidirectional\n",
    "from tensorflow.keras.optimizers import Adam\n",
    "from tensorflow.keras.models import Model\n",
    "from tensorflow.keras.callbacks import ReduceLROnPlateau, ModelCheckpoint, EarlyStopping, LearningRateScheduler\n",
    "from tensorflow.keras.utils import plot_model\n",
    "from tensorflow.keras.losses import binary_crossentropy\n",
    "from tensorflow.keras import initializers\n",
    "\n",
    "from tensorflow_addons.layers import WeightNormalization\n",
    "\n",
    "import tensorflow.keras.backend as K\n",
    "import tensorflow as tf"
   ]
  },
  {
   "cell_type": "code",
   "execution_count": null,
   "metadata": {},
   "outputs": [],
   "source": [
    "tf.__version__"
   ]
  },
  {
   "cell_type": "code",
   "execution_count": null,
   "metadata": {},
   "outputs": [],
   "source": [
    "def getFClatent(stateArch, inputLayer, label, batchNorm=True, dropoutRatio=0.3, activation='elu'):\n",
    "    x = inputLayer\n",
    "    for idx, iLayerDim in enumerate(stateArch):\n",
    "        x = Dense(iLayerDim, activation=activation, name=label+'_Dense_'+str(idx))(x)\n",
    "        if batchNorm[0]: x = BatchNormalization(momentum=batchNorm[1], name=label+'_Dense_BN_'+str(idx))(x)\n",
    "        if dropoutRatio > 0:\n",
    "            x = Dropout(dropoutRatio, name=label+'_Dense_DR_'+str(idx))(x)\n",
    "        \n",
    "    return x"
   ]
  },
  {
   "cell_type": "code",
   "execution_count": null,
   "metadata": {},
   "outputs": [],
   "source": [
    "stateArch = [32, 32]\n",
    "inputDim = cg_train.input_dims\n",
    "batchNorm = (True, 0.9)\n",
    "inputLayer = Input(shape=(inputDim), name = 'molecularDescriptorInput')\n",
    "\n",
    "x = getFClatent(stateArch, inputLayer, 'state1', batchNorm=batchNorm, dropoutRatio=0.3, activation='relu')"
   ]
  },
  {
   "cell_type": "code",
   "execution_count": null,
   "metadata": {},
   "outputs": [],
   "source": [
    "def getInitialStates(inputDim, nRecurrentUnits, nStatesEntities, stateLabels, FCArch, \n",
    "                     batchNorm=True, dropoutRatio=0.35, activation='elu'):\n",
    "    \n",
    "    whereAmI = 'StaticToStates'\n",
    "    \n",
    "    architecturalComponent = '_StaticInput_'\n",
    "    label = whereAmI+architecturalComponent\n",
    "    decoderStates = []\n",
    "    staticInput = Input(shape=(inputDim), name=label)\n",
    "    \n",
    "    architecturalComponent = '_StaticFCtransformation_'\n",
    "    for iLayer in range(nRecurrentUnits):\n",
    "        for iState, iStateLabel in zip(range(nStatesEntities), statesLabels):\n",
    "            label = whereAmI+architecturalComponent+'_'+str(iLayer)+'_'+str(iState)\n",
    "            stateX = getFClatent(FCArch, staticInput, label, batchNorm=batchNorm, \n",
    "                                 dropoutRatio=dropoutRatio, activation=activation)\n",
    "            decoderStates.append(stateX)\n",
    "    \n",
    "    model = Model(staticInput, decoderStates)\n",
    "    model._name = 'StaticToStatesModel'\n",
    "    return staticInput, model"
   ]
  },
  {
   "cell_type": "code",
   "execution_count": null,
   "metadata": {},
   "outputs": [],
   "source": [
    "inputDim = cg_train.input_dims\n",
    "nRecurrentUnits = 3\n",
    "nStatesEntities = 2\n",
    "statesLabels = ['h', 'c']\n",
    "FCArch = [256]\n",
    "dropoutRatio = 0.0\n",
    "activation = 'relu'\n",
    "batchNorm = (True, 0.9)\n",
    "staticInput, recStates = getInitialStates(inputDim, nRecurrentUnits, nStatesEntities, statesLabels, FCArch, \n",
    "                             batchNorm=batchNorm, dropoutRatio=dropoutRatio, activation=activation)"
   ]
  },
  {
   "cell_type": "code",
   "execution_count": null,
   "metadata": {},
   "outputs": [],
   "source": [
    "plot_model(recStates)"
   ]
  },
  {
   "cell_type": "code",
   "execution_count": null,
   "metadata": {},
   "outputs": [],
   "source": [
    "recStates.summary()"
   ]
  },
  {
   "cell_type": "code",
   "execution_count": null,
   "metadata": {},
   "outputs": [],
   "source": [
    "def getConditionedRecurrentUnits(seqTensorDim, DecoderRecurrentLayers, nStatesEntities, nStateInputDim, statesLabels,\n",
    "                                 doBN, doSqueeze, nOutputDim):\n",
    "    '''\n",
    "    This\n",
    "    '''\n",
    "    whereAmI = 'DecoderCond'\n",
    "    \n",
    "    allInputs = []\n",
    "    \n",
    "    architecturalComponent = '_DynamicInput_'\n",
    "    label = whereAmI+architecturalComponent\n",
    "    sequentialInput = Input(shape=seqTensorDim, name=label)\n",
    "    allInputs.append(sequentialInput)\n",
    "        \n",
    "    # create an input dictionary with initial states of recurrent units\n",
    "    statesInputs = {}\n",
    "    architecturalComponent = '_StaticInput_'\n",
    "    for iLayer, recDim in enumerate(DecoderRecurrentLayers):\n",
    "        for iState, iStateLabel in zip(range(nStatesEntities), statesLabels):\n",
    "            label = whereAmI+architecturalComponent+iStateLabel+'_'+str(iLayer)\n",
    "            print(label)\n",
    "            stateX = Input(shape=[nStateInputDim], name=label)\n",
    "            allInputs.append(stateX)\n",
    "            key = iStateLabel+'_'+str(iLayer)\n",
    "            statesInputs[key] = stateX\n",
    "    \n",
    "    x = sequentialInput\n",
    "    for iLayer, recDim in enumerate(DecoderRecurrentLayers):\n",
    "        print(iLayer, recDim)\n",
    "        states = []\n",
    "        for iState, iStateLabel in zip(range(nStatesEntities), statesLabels):\n",
    "            key = iStateLabel+'_'+str(iLayer)\n",
    "            states.append(statesInputs[key])\n",
    "\n",
    "\n",
    "        architecturalComponent = '_InternalRecurrent_'\n",
    "        label = whereAmI+architecturalComponent+str(iLayer)\n",
    "        decoderRNN = LSTM(recDim, return_sequences=True, name=label)\n",
    "        x = decoderRNN(x, initial_state=states)\n",
    "\n",
    "        if doBN[0]:\n",
    "            architecturalComponent = '_InternalRecurrent_BN_'\n",
    "            label = whereAmI+architecturalComponent+str(iLayer)+'_'+str(iLayer)\n",
    "            x = BatchNormalization(momentum=doBN[1], name=label)(x)\n",
    "\n",
    "    if doSqueeze[0]:\n",
    "        architecturalComponent = '_InternalRecurrent_Squeeze_'\n",
    "        label = whereAmI+architecturalComponent+str(iLayer)\n",
    "        x = TimeDistributed(Dense(doSqueeze[1]), name=label)(x)\n",
    "    \n",
    "    architecturalComponent = '_FinalLayer_'\n",
    "    label = whereAmI+architecturalComponent\n",
    "    outputLayer = Dense(nOutputDim, activation='softmax', name=label)(x)\n",
    "    \n",
    "    model = Model(inputs=allInputs, outputs=[outputLayer])\n",
    "    model._name = 'conditionedRecurrent'\n",
    "    #return allInputs, outputLayer\n",
    "    return sequentialInput, model"
   ]
  },
  {
   "cell_type": "code",
   "execution_count": null,
   "metadata": {},
   "outputs": [],
   "source": [
    "seqTensorDim = cg_train.dec_dims\n",
    "nDecoderInputLayers = 1\n",
    "DecoderRecurrentLayers = [FCArch[-1], FCArch[-1], FCArch[-1]]\n",
    "nStatesEntities = 2\n",
    "nStateInputDim = FCArch[-1]\n",
    "statesLabels = ['h', 'c']\n",
    "nOutputDim = cg_train.dec_dims[-1]\n",
    "doBN = (True, 0.9)\n",
    "doSqueeze = (False, 32)\n",
    "\n",
    "#dropoutRatio = 0.35\n",
    "#activation = 'elu'\n",
    "sequentialInput, conditionRecurrent = getConditionedRecurrentUnits(seqTensorDim, DecoderRecurrentLayers, \n",
    "                                                  nStatesEntities, nStateInputDim, statesLabels, doBN, doSqueeze, nOutputDim)"
   ]
  },
  {
   "cell_type": "code",
   "execution_count": null,
   "metadata": {},
   "outputs": [],
   "source": [
    "plot_model(conditionRecurrent)"
   ]
  },
  {
   "cell_type": "code",
   "execution_count": null,
   "metadata": {},
   "outputs": [],
   "source": [
    "conditionRecurrent.summary()"
   ]
  },
  {
   "cell_type": "code",
   "execution_count": null,
   "metadata": {},
   "outputs": [],
   "source": [
    "conditionRecurrent.input"
   ]
  },
  {
   "cell_type": "code",
   "execution_count": null,
   "metadata": {},
   "outputs": [],
   "source": [
    "completeOutput = conditionRecurrent([sequentialInput]+recStates.output)\n",
    "finalModel = Model(inputs=[staticInput, sequentialInput], outputs=[completeOutput])"
   ]
  },
  {
   "cell_type": "code",
   "execution_count": null,
   "metadata": {},
   "outputs": [],
   "source": [
    "finalModel.input"
   ]
  },
  {
   "cell_type": "code",
   "execution_count": null,
   "metadata": {},
   "outputs": [],
   "source": [
    "plot_model(finalModel, expand_nested=True, show_layer_names=True, show_shapes=True, to_file='finalModel.png')"
   ]
  },
  {
   "cell_type": "code",
   "execution_count": null,
   "metadata": {},
   "outputs": [],
   "source": [
    "finalModel.summary()"
   ]
  },
  {
   "cell_type": "code",
   "execution_count": null,
   "metadata": {},
   "outputs": [],
   "source": [
    "lr = 0.001\n",
    "opt = Adam(lr=lr)\n",
    "loss=\"categorical_crossentropy\""
   ]
  },
  {
   "cell_type": "code",
   "execution_count": null,
   "metadata": {},
   "outputs": [],
   "source": [
    "finalModel.compile(optimizer=opt, loss=loss)"
   ]
  },
  {
   "cell_type": "code",
   "execution_count": null,
   "metadata": {},
   "outputs": [],
   "source": [
    "class LearningRateSchedule:\n",
    "    \"\"\"\n",
    "    Class for custom learning rate schedules.\n",
    "    \"\"\"\n",
    "\n",
    "    def __init__(self, epoch_to_start=500, last_epoch=999, lr_init=1e-3, lr_final=1e-6):\n",
    "        self.epoch_to_start = epoch_to_start\n",
    "        self.last_epoch = last_epoch\n",
    "        self.lr_init = lr_init\n",
    "        self.lr_final = lr_final\n",
    "\n",
    "    def exp_decay(self, epoch, lr):\n",
    "        \"\"\"\n",
    "        Exponential decay.\n",
    "        \"\"\"\n",
    "\n",
    "        decay_duration = self.last_epoch - self.epoch_to_start\n",
    "        if epoch < self.epoch_to_start:\n",
    "            return lr\n",
    "        else:\n",
    "            # Slope of the decay\n",
    "            k = -(1 / decay_duration) * np.log(self.lr_final / self.lr_init)\n",
    "\n",
    "            lr = self.lr_init * np.exp(-k * (epoch - self.epoch_to_start))\n",
    "            return lr"
   ]
  },
  {
   "cell_type": "code",
   "execution_count": null,
   "metadata": {},
   "outputs": [],
   "source": [
    "lr_schedule = LearningRateSchedule(\n",
    "    epoch_to_start=5,\n",
    "    last_epoch=15,\n",
    "    lr_init=0.001,\n",
    "    lr_final=0.0001,\n",
    ")\n",
    "\n",
    "lr_scheduler = LearningRateScheduler(\n",
    "    schedule=lr_schedule.exp_decay, verbose=1\n",
    ")\n",
    "\n",
    "callbacks = [lr_scheduler]"
   ]
  },
  {
   "cell_type": "code",
   "execution_count": null,
   "metadata": {},
   "outputs": [],
   "source": [
    "rlr = ReduceLROnPlateau(\n",
    "    monitor=\"val_loss\",\n",
    "    factor=0.5,\n",
    "    patience=3,\n",
    "    min_lr=1e-6,\n",
    "    verbose=1,\n",
    "    min_delta=1e-4,\n",
    ")\n",
    "callbacks = [rlr]"
   ]
  },
  {
   "cell_type": "code",
   "execution_count": null,
   "metadata": {},
   "outputs": [],
   "source": [
    "finalModel.fit(cg_train, epochs=25, validation_data=cg_val, \n",
    "                        steps_per_epoch=steps_per_epoch, validation_steps=steps_per_validataion, callbacks=callbacks,\n",
    "                        max_queue_size=10)"
   ]
  },
  {
   "cell_type": "code",
   "execution_count": null,
   "metadata": {},
   "outputs": [],
   "source": [
    "def getRecurrentLayerNames(model):\n",
    "    config = model.get_config()\n",
    "    names = []\n",
    "    for layer in config['layers']:\n",
    "        if 'LSTM' in layer['class_name'] or layer['class_name'] == 'GRU':\n",
    "            names.append(layer['name'])\n",
    "    return names\n",
    "\n",
    "def prepareSampleModel(conditionRecurrent):\n",
    "    conditionRecurrentConfig = conditionRecurrent.get_config()\n",
    "    conditionRecurrentConfig['layers'][0]['config']['batch_input_shape'] = (1, 1, cg_train.dec_dims[-1])\n",
    "    removeIdx = []\n",
    "    for idx, layer in enumerate(conditionRecurrentConfig['layers']):\n",
    "        if 'DecoderCond_StaticInput_' in layer['name']:\n",
    "            print(layer['name'])\n",
    "            \n",
    "            removeIdx.append(idx)\n",
    "    for idx in sorted(removeIdx, reverse=True):\n",
    "        conditionRecurrentConfig[\"layers\"].pop(idx)\n",
    "        \n",
    "    # Remove inbound_nodes dependencies of remaining layers on deleted ones\n",
    "    for layer in conditionRecurrentConfig[\"layers\"]:\n",
    "        idx_list = []\n",
    "\n",
    "        try:\n",
    "            for idx, inbound_node in enumerate(layer[\"inbound_nodes\"][0]):\n",
    "                if 'DecoderCond_StaticInput_' in inbound_node[0]:\n",
    "                    print(layer['name'])\n",
    "                    idx_list.append(idx)\n",
    "        # Catch the exception for first layer (Decoder_Inputs) that has empty list of inbound_nodes[0]\n",
    "        except:\n",
    "            pass\n",
    "        print(idx_list)\n",
    "        # Pop the inbound_nodes from the list\n",
    "        # Revert indices to avoid re-arranging\n",
    "        for idx in sorted(idx_list, reverse=True):\n",
    "            layer[\"inbound_nodes\"][0].pop(idx)\n",
    "    recurrentLayers = getRecurrentLayerNames(conditionRecurrent)\n",
    "    \n",
    "    for idx, layer in enumerate(conditionRecurrentConfig['layers']):\n",
    "        if layer['name'] in recurrentLayers:\n",
    "            print(layer['name'])\n",
    "            conditionRecurrentConfig['layers'][idx]['config']['stateful'] = True\n",
    "            \n",
    "    conditionRecurrentConfig[\"input_layers\"] = [conditionRecurrentConfig[\"input_layers\"][0]]\n",
    "    sampleModel = Model.from_config(conditionRecurrentConfig)\n",
    "    \n",
    "    for layer in sampleModel.layers:\n",
    "        # Get weights from the batch_model\n",
    "        weights = conditionRecurrent.get_layer(layer.name).get_weights()\n",
    "        # Set the weights to the sample_model\n",
    "        sampleModel.get_layer(layer.name).set_weights(weights)\n",
    "        \n",
    "    return sampleModel"
   ]
  },
  {
   "cell_type": "code",
   "execution_count": null,
   "metadata": {},
   "outputs": [],
   "source": [
    "sampleModel = prepareSampleModel(conditionRecurrent)"
   ]
  },
  {
   "cell_type": "code",
   "execution_count": null,
   "metadata": {},
   "outputs": [],
   "source": [
    "def conditionRNNstates(model, DecoderRecurrentLayers, states):\n",
    "    for iLayer, _ in enumerate(DecoderRecurrentLayers):\n",
    "        layerName = \"DecoderCond_InternalRecurrent_\"+str(iLayer)\n",
    "        print(layerName)\n",
    "        model.get_layer(layerName).reset_states(states=[states[2*iLayer], states[2*iLayer+1]])\n",
    "        #model.get_layer(layerName).reset_states()\n",
    "    return model\n",
    "\n",
    "def calculateNextCharLogits(model, currentChar, char_to_int):\n",
    "    samplevec = np.zeros((1, 1, cg_train.dec_dims[-1]))\n",
    "    charidx = char_to_int[currentChar]\n",
    "    samplevec[0, 0, charidx] = 1\n",
    "    predictedCarLogits = model.predict([samplevec])\n",
    "    return predictedCarLogits\n",
    "\n",
    "def calculateQED(smiles):\n",
    "    props = QED.properties(Chem.MolFromSmiles(smiles))\n",
    "    props = [props.ALOGP, props.AROM, props.HBA, props.HBD, props.PSA, props.ROTB, props.MW]\n",
    "    return np.array(props)"
   ]
  },
  {
   "cell_type": "code",
   "execution_count": null,
   "metadata": {},
   "outputs": [],
   "source": [
    "#latent = descs[8:9, :]\n",
    "randomSmiles = \"C1CC2(C)C(CCC3C4(C)C(CCC32)C(C(=O)Nc2ccccc2)OC4)CO1\"\n",
    "latent = calculateQED(randomSmiles)\n",
    "\n",
    "if ss: latent = ss.transform(latent.reshape(1, -1))\n",
    "if pca: latent = pca.transform(latent)\n",
    "states = recStates.predict(latent)\n",
    "sampleModel = conditionRNNstates(sampleModel, DecoderRecurrentLayers, states)"
   ]
  },
  {
   "cell_type": "code",
   "execution_count": null,
   "metadata": {},
   "outputs": [],
   "source": [
    "smiles = ''\n",
    "#logits = calculateNextCharLogits(sampleModel, smilesvec1.startchar, smilesvec1._char_to_int)\n",
    "#sampleidx = np.argmax(logits)\n",
    "currentChar = smilesvec1.startchar\n",
    "print(currentChar)\n",
    "for idx in range(200):\n",
    "    logits = calculateNextCharLogits(sampleModel, currentChar, smilesvec1._char_to_int)\n",
    "    #print(logits)\n",
    "    sampleidx = np.argmax(logits)\n",
    "    currentChar = smilesvec1._int_to_char[sampleidx]\n",
    "    if currentChar != smilesvec1.endchar:\n",
    "        smiles += currentChar\n",
    "    else:\n",
    "        break"
   ]
  },
  {
   "cell_type": "code",
   "execution_count": null,
   "metadata": {},
   "outputs": [],
   "source": [
    "Chem.MolFromSmiles(smiles)"
   ]
  },
  {
   "cell_type": "code",
   "execution_count": null,
   "metadata": {},
   "outputs": [],
   "source": [
    "import tensorflow as tf\n",
    "tf.__version__"
   ]
  },
  {
   "cell_type": "code",
   "execution_count": null,
   "metadata": {},
   "outputs": [],
   "source": [
    "tf.test.is_gpu_available()"
   ]
  },
  {
   "cell_type": "code",
   "execution_count": null,
   "metadata": {},
   "outputs": [],
   "source": [
    "tf.__version__"
   ]
  },
  {
   "cell_type": "code",
   "execution_count": null,
   "metadata": {},
   "outputs": [],
   "source": [
    "tf.test.is_gpu_available(cuda_only=True)"
   ]
  },
  {
   "cell_type": "markdown",
   "metadata": {},
   "source": [
    "# VAE - own approach"
   ]
  },
  {
   "cell_type": "markdown",
   "metadata": {},
   "source": [
    "## Libraries"
   ]
  },
  {
   "cell_type": "code",
   "execution_count": 2,
   "metadata": {},
   "outputs": [],
   "source": [
    "#from tensorflow.compat.v1.keras.layers import (\n",
    "#    CuDNNLSTM as LSTM,\n",
    "#)\n",
    "from tensorflow.keras.layers import TimeDistributed, concatenate, Input, Dense, RepeatVector, \\\n",
    "Lambda,  Convolution1D, Flatten, GRU, BatchNormalization, Dropout, Bidirectional, LSTM, Concatenate\n",
    "from tensorflow.keras.optimizers import Adam\n",
    "from tensorflow.keras.models import Model\n",
    "from tensorflow.keras.callbacks import ReduceLROnPlateau, ModelCheckpoint, EarlyStopping, LearningRateScheduler\n",
    "from tensorflow.keras.utils import plot_model\n",
    "from tensorflow.keras.losses import binary_crossentropy\n",
    "from tensorflow.keras import initializers\n",
    "\n",
    "from tensorflow_addons.layers import WeightNormalization\n",
    "\n",
    "import tensorflow.keras.backend as K\n",
    "import tensorflow as tf\n",
    "\n",
    "from trainHistory import trainHistory\n",
    "import datetime"
   ]
  },
  {
   "cell_type": "code",
   "execution_count": null,
   "metadata": {},
   "outputs": [],
   "source": [
    "from tensorflow.keras import backend as K\n",
    "from tensorflow.keras.regularizers import Regularizer\n",
    "\n",
    "class GaussianKL(Regularizer):\n",
    "    \"\"\" KL-divergence between two gaussians.\n",
    "    Useful for Variational AutoEncoders.\n",
    "    Use this as an activation regularizer\n",
    "    Parameters:\n",
    "    -----------\n",
    "    mean, logsigma: parameters of the input distributions\n",
    "    prior_mean, prior_logsigma: paramaters of the desired distribution (note the\n",
    "    log on logsigma)\n",
    "    regularizer_scale: Rescales the regularization cost. Keep this 1 for most cases.\n",
    "    Notes:\n",
    "    ------\n",
    "    See seya.layers.variational.VariationalDense for usage example\n",
    "    \"\"\"\n",
    "    def __init__(self, mean, logsigma, prior_mean=0, prior_logsigma=0,\n",
    "                 regularizer_scale=1):\n",
    "        self.regularizer_scale = regularizer_scale\n",
    "        self.mean = mean\n",
    "        self.logsigma = logsigma\n",
    "        self.prior_mean = prior_mean\n",
    "        self.prior_logsigma = prior_logsigma\n",
    "        super(GaussianKL, self).__init__()\n",
    "\n",
    "    def __call__(self, loss):\n",
    "        # See Variational Auto-Encoding Bayes by Kingma and Welling.\n",
    "        mean, logsigma = self.mean, self.logsigma\n",
    "        kl = (self.prior_logsigma - logsigma +\n",
    "              0.5 * (-1 + K.exp(2 * logsigma) + (mean - self.prior_mean) ** 2) /\n",
    "              K.exp(2 * self.prior_logsigma))\n",
    "        loss += K.mean(kl) * self.regularizer_scale\n",
    "        return loss\n",
    "\n",
    "    def get_config(self):\n",
    "        return {\"name\": self.__class__.__name__}"
   ]
  },
  {
   "cell_type": "code",
   "execution_count": null,
   "metadata": {},
   "outputs": [],
   "source": [
    "from tensorflow.keras import backend as K\n",
    "from tensorflow.keras.layers import Layer\n",
    "from tensorflow.keras import initializers, activations\n",
    "\n",
    "#from seya.regularizers import GaussianKL\n",
    "\n",
    "\n",
    "class VariationalDense(Layer):\n",
    "    \"\"\"VariationalDense\n",
    "        Hidden layer for Variational Autoencoding Bayes method [1].\n",
    "        This layer projects the input twice to calculate the mean and variance\n",
    "        of a Gaussian distribution. During training, the output is sampled from\n",
    "        that distribution as mean + random_noise * variance, during testing the\n",
    "        output is the mean, i.e the expected value of the encoded distribution.\n",
    "        Parameters:\n",
    "        -----------\n",
    "        batch_size: Both Keras backends need the batch_size to be defined before\n",
    "            hand for sampling random numbers. Make sure your batch size is kept\n",
    "            fixed during training. You can use any batch size for testing.\n",
    "        regularizer_scale: By default the regularization is already properly\n",
    "            scaled if you use binary or categorical crossentropy cost functions.\n",
    "            In most cases this regularizers should be kept fixed at one.\n",
    "    \"\"\"\n",
    "    def __init__(self, output_dim, batch_size, init='glorot_uniform',\n",
    "                 activation='tanh',\n",
    "                 weights=None, input_dim=None, regularizer_scale=1,\n",
    "                 prior_mean=0, prior_logsigma=0, output_sample=False,\n",
    "                 output_var=False,\n",
    "                 **kwargs):\n",
    "        self.prior_mean = prior_mean\n",
    "        self.prior_logsigma = prior_logsigma\n",
    "        self.regularizer_scale = K.variable(regularizer_scale)\n",
    "        self.batch_size = batch_size\n",
    "        self.init = initializers.get(init)\n",
    "        self.activation = activations.get(activation)\n",
    "        self.output_dim = output_dim\n",
    "        self.initial_weights = weights\n",
    "        self.input_dim = input_dim\n",
    "        self.output_sample = output_sample\n",
    "        self.output_var = output_var\n",
    "        if self.input_dim:\n",
    "            kwargs['input_shape'] = (self.input_dim,)\n",
    "        self.input_ = K.placeholder(ndim=2)\n",
    "        super(VariationalDense, self).__init__(**kwargs)\n",
    "\n",
    "    def build(self):\n",
    "        input_dim = self.input_shape[-1]\n",
    "\n",
    "        self.W_mean = self.init((input_dim, self.output_dim))\n",
    "        self.b_mean = K.zeros((self.output_dim,))\n",
    "        self.W_logsigma = self.init((input_dim, self.output_dim))\n",
    "        self.b_logsigma = K.zeros((self.output_dim,))\n",
    "\n",
    "        self.trainable_weights = [self.W_mean, self.b_mean, self.W_logsigma,\n",
    "                                  self.b_logsigma]\n",
    "\n",
    "        self.regularizers = []\n",
    "        reg = self.get_variational_regularization(self.get_input())\n",
    "        self.regularizers.append(reg)\n",
    "\n",
    "    def get_variational_regularization(self, X):\n",
    "        mean = self.activation(K.dot(X, self.W_mean) + self.b_mean)\n",
    "        logsigma = self.activation(K.dot(X, self.W_logsigma) + self.b_logsigma)\n",
    "        return GaussianKL(mean, logsigma,\n",
    "                          regularizer_scale=self.regularizer_scale,\n",
    "                          prior_mean=self.prior_mean,\n",
    "                          prior_logsigma=self.prior_logsigma)\n",
    "\n",
    "    def get_mean_logsigma(self, X):\n",
    "        mean = self.activation(K.dot(X, self.W_mean) + self.b_mean)\n",
    "        logsigma = self.activation(K.dot(X, self.W_logsigma) + self.b_logsigma)\n",
    "        return mean, logsigma\n",
    "\n",
    "    def _get_output(self, X, train=False):\n",
    "        mean, logsigma = self.get_mean_logsigma(X)\n",
    "        if train or self.output_sample:\n",
    "            # Temporary change, scale down size of noise\n",
    "            if K._BACKEND == 'theano':\n",
    "                eps = K.random_normal((X.shape[0], self.output_dim), std=self.regularizer_scale)\n",
    "            else:\n",
    "                eps = K.random_normal((self.batch_size, self.output_dim))\n",
    "            # Temporary change, multiply by regularizer_scale\n",
    "            return mean + self.regularizer_scale * K.exp(logsigma) * eps\n",
    "        else:\n",
    "            if self.output_var:\n",
    "                return mean, logsigma\n",
    "            else:\n",
    "                return mean\n",
    "\n",
    "    def get_output(self, train=False):\n",
    "        X = self.get_input()\n",
    "        return self._get_output(X, train)\n",
    "\n",
    "    @property\n",
    "    def output_shape(self):\n",
    "        return (self.input_shape[0], self.output_dim)"
   ]
  },
  {
   "cell_type": "markdown",
   "metadata": {},
   "source": [
    "## Data preparation"
   ]
  },
  {
   "cell_type": "markdown",
   "metadata": {},
   "source": [
    "### QED chembl"
   ]
  },
  {
   "cell_type": "code",
   "execution_count": null,
   "metadata": {},
   "outputs": [],
   "source": [
    "data_path = Path(\"/home/rafalb/work/molecules/moleculeAE/moleculeae/data/processed\")\n",
    "qedDF = pd.read_csv((data_path/\"qed_1000000_reference.csv\"), index_col=0)\n",
    "qedDF"
   ]
  },
  {
   "cell_type": "code",
   "execution_count": null,
   "metadata": {},
   "outputs": [],
   "source": [
    "smilesCodes = qedDF['smiles']\n",
    "descs = qedDF[['ALOGP', 'AROM', 'HBA', 'HBD', 'PSA', 'ROTB', 'MW']].values\n",
    "descs = descs.astype(float)\n",
    "\n",
    "from sklearn.preprocessing import StandardScaler\n",
    "ss = StandardScaler()\n",
    "descs = ss.fit_transform(descs)\n",
    "\n",
    "from sklearn.decomposition import PCA\n",
    "pca = PCA(n_components=descs.shape[1])\n",
    "descs = pca.fit_transform(descs)\n",
    "\n",
    "mols = [Chem.MolFromSmiles(smiles) for smiles in smilesCodes]\n",
    "mols_bin = [Chem.rdchem.Mol.ToBinary(Chem.MolFromSmiles(smiles)) for smiles in smilesCodes]"
   ]
  },
  {
   "cell_type": "markdown",
   "metadata": {},
   "source": [
    "### Zinc250k"
   ]
  },
  {
   "cell_type": "code",
   "execution_count": 3,
   "metadata": {},
   "outputs": [],
   "source": [
    "data_path = Path(\"/home/rafalb/work/molecules/chemicalSmilesSpace/data/processed\")\n",
    "qedDF = pd.read_csv((data_path/\"zinc250k.csv\"), index_col=0, sep=\",\")"
   ]
  },
  {
   "cell_type": "code",
   "execution_count": 4,
   "metadata": {},
   "outputs": [],
   "source": [
    "smilesCodes = qedDF['smiles']\n",
    "mols = [Chem.MolFromSmiles(smiles) for smiles in smilesCodes]\n",
    "mols_bin = [Chem.rdchem.Mol.ToBinary(Chem.MolFromSmiles(smiles)) for smiles in smilesCodes]"
   ]
  },
  {
   "cell_type": "code",
   "execution_count": 5,
   "metadata": {},
   "outputs": [
    {
     "name": "stdout",
     "output_type": "stream",
     "text": [
      "249455\n"
     ]
    }
   ],
   "source": [
    "print(len(mols))"
   ]
  },
  {
   "cell_type": "code",
   "execution_count": 6,
   "metadata": {},
   "outputs": [],
   "source": [
    "vectmp = SmilesVectorizer(canonical=False, augment=True, binary=False)\n",
    "vectmp.fit(mols)\n",
    "maxlength = vectmp.maxlength\n",
    "charset = vectmp.charset"
   ]
  },
  {
   "cell_type": "code",
   "execution_count": 7,
   "metadata": {},
   "outputs": [
    {
     "data": {
      "text/plain": [
       "109"
      ]
     },
     "execution_count": 7,
     "metadata": {},
     "output_type": "execute_result"
    }
   ],
   "source": [
    "maxlength"
   ]
  },
  {
   "cell_type": "code",
   "execution_count": 8,
   "metadata": {},
   "outputs": [],
   "source": [
    "smilesvec1 = SmilesVectorizer(canonical=False, augment=True, binary=True, maxlength=maxlength, \n",
    "                              charset=charset, pad=15)\n",
    "smilesvec2 = SmilesVectorizer(canonical=False, augment=True, binary=True, leftpad=False, maxlength=maxlength, \n",
    "                              charset=charset, pad=15)"
   ]
  },
  {
   "cell_type": "markdown",
   "metadata": {},
   "source": [
    "## Architecture"
   ]
  },
  {
   "cell_type": "code",
   "execution_count": 9,
   "metadata": {},
   "outputs": [],
   "source": [
    "#from tensorflow.python.framework.ops import disable_eager_execution\n",
    "#disable_eager_execution()\n",
    "#tf.compat.v1.experimental.output_all_intermediates(False)\n",
    "\n",
    "def sampling(args):\n",
    "    z_mean, z_log_var = args\n",
    "    batch = K.shape(z_mean)[0]\n",
    "    dim = K.int_shape(z_mean)[1]\n",
    "    # by default, random_normal has mean=0 and std=1.0\n",
    "    epsilon = K.random_normal(shape=(batch, dim))\n",
    "    return z_mean + K.exp(0.5 * z_log_var) * epsilon\n",
    "\n",
    "\n",
    "def prepareEncoderCNNDynamic(nCharInSmiles, nCharSet, k, lr, variational, batchSize, showArch):\n",
    "                             #nCharInSmiles, nCharSet, decoderDimensions, lr, batch_size, True    \n",
    "    convDefinition = k[0]\n",
    "    input_dynamic = Input(shape=(nCharInSmiles, nCharSet), name=\"inputDynamic\")\n",
    "    h = Convolution1D(convDefinition['initialDimWidth'], convDefinition['initialDimDepth'], \n",
    "                      activation = 'tanh', name='conv_0')(input_dynamic)\n",
    "    h = BatchNormalization()(h)\n",
    "    \n",
    "    for iLayer in range(convDefinition['nCNNlayers'] - 1):\n",
    "        iWidth = int(convDefinition['initialDimDepth'] * convDefinition['expansionCoeff'] ** iLayer)\n",
    "        iDepth = int(convDefinition['initialDimDepth'] * convDefinition['expansionCoeff'] ** iLayer)\n",
    "        h = Convolution1D(iWidth, iDepth, activation = 'tanh', name='conv_'+str(iLayer+1))(h)\n",
    "        #h = Dropout(0.1)(h)\n",
    "        h = BatchNormalization()(h)\n",
    "\n",
    "    h = Flatten(name='flatten_1')(h)\n",
    "    h = Dense(k[1], activation = 'tanh', name='dense_1')(h)\n",
    "    output = BatchNormalization()(h)\n",
    "\n",
    "    #model.add(VAE(parameters['hidden_dim'], batch_size=batchSize,\n",
    "    #                activation=parameters['vae_activation'],\n",
    "    #                prior_logsigma=0))\n",
    "\n",
    "    # autoencoder\n",
    "    if (variational):\n",
    "        #z = VariationalDense(k[1], batch_size=batchSize, activation=\"tanh\", prior_logsigma=0)(output)\n",
    "\n",
    "        z_mean = Dense(k[1], name='z_mean')(output)\n",
    "        z_log_var = Dense(k[1], activation='tanh', name='z_log_var')(output)\n",
    "        z = Lambda(sampling, output_shape=(k[1],), name='encoderOutput')([z_mean, z_log_var])\n",
    "        def vae_loss(x, x_decoded_mean):\n",
    "            x = K.flatten(x)\n",
    "            x_decoded_mean = K.flatten(x_decoded_mean)\n",
    "            xent_loss = nCharInSmiles * binary_crossentropy(x, x_decoded_mean)\n",
    "            kl_loss = - 0.5 * K.mean(1 + z_log_var - K.square(z_mean) - K.exp(z_log_var), axis = -1)\n",
    "            return xent_loss + kl_loss\n",
    "        \n",
    "    else:\n",
    "        z = Dense(k[1], activation=\"relu\", name='encoderOutput')(output)\n",
    "        vae_loss = None\n",
    "\n",
    "\n",
    "    model = Model(inputs=[input_dynamic], outputs=[z])\n",
    "    if (showArch):\n",
    "        print(model.summary())\n",
    "\n",
    "    return model, vae_loss\n",
    "\n",
    "\n",
    "def prepareEncoder(nCharInSmiles, nCharSet, k, lr, variational, batchSize, showArch):\n",
    "                             #nCharInSmiles, nCharSet, decoderDimensions, lr, batch_size, True    \n",
    "    convDefinition = k[0]\n",
    "    input_dynamic = Input(shape=(nCharInSmiles, nCharSet), name=\"inputDynamic\")\n",
    "    h = Convolution1D(convDefinition['initialDimWidth'], convDefinition['initialDimDepth'], \n",
    "                      activation = 'tanh', name='conv_0')(input_dynamic)\n",
    "    h = BatchNormalization()(h)\n",
    "    \n",
    "    for iLayer in range(convDefinition['nCNNlayers'] - 1):\n",
    "        iWidth = int(convDefinition['initialDimDepth'] * convDefinition['expansionCoeff'] ** iLayer)\n",
    "        iDepth = int(convDefinition['initialDimDepth'] * convDefinition['expansionCoeff'] ** iLayer)\n",
    "        h = Convolution1D(iWidth, iDepth, activation = 'tanh', name='conv_'+str(iLayer+1))(h)\n",
    "        #h = Dropout(0.1)(h)\n",
    "        h = BatchNormalization()(h)\n",
    "\n",
    "    h = Flatten(name='flatten_1')(h)\n",
    "    h = Dense(k[1], activation = 'tanh', name='dense_1')(h)\n",
    "    output = BatchNormalization()(h)\n",
    "\n",
    "    if variational:\n",
    "        z_mean = Dense(k[1], name='z_mean')(output)\n",
    "        z_log_var = Dense(k[1], name='z_log_var')(output)\n",
    "        model = Model(inputs=[input_dynamic], outputs=[z_mean, z_log_var, output])\n",
    "    else:\n",
    "        model = Model(inputs=input_dynamic, outputs=output)\n",
    "        \n",
    "    if (showArch):\n",
    "        print(model.summary())\n",
    "\n",
    "    return model\n",
    "\n",
    "class Sampling(tf.keras.layers.Layer):\n",
    "    \"\"\"Uses (z_mean, z_log_var) to sample z, the vector encoding a digit.\"\"\"\n",
    "    def __init__(self, n_dim, name, **kwargs):\n",
    "        self.n_dim = n_dim\n",
    "        kwargs['input_shape'] = (self.n_dim,)\n",
    "        super(Sampling, self).__init__(name=name, **kwargs)\n",
    "    \n",
    "    def _sample(self, inputs):\n",
    "        z_mean, z_log_var = inputs\n",
    "        batch = tf.shape(z_mean)[0]\n",
    "        dim = tf.shape(z_mean)[1]\n",
    "        epsilon = K.random_normal(shape=(batch, dim))\n",
    "        kl_sample = z_mean + tf.exp(0.5 * z_log_var) * epsilon\n",
    "        return kl_sample   \n",
    "        \n",
    "    def call(self, inputs):\n",
    "        z_mean = inputs[0]\n",
    "        z_log_var = inputs[1]\n",
    "        \n",
    "        #z_log_var_layer = Dense(self.n_dim, name='z_log_var_sample')\n",
    "        #z_log_var = z_log_var_layer(inputs)\n",
    "\n",
    "        z_mean_log_var_output = Concatenate(\n",
    "        name='z_mean_log_var')([z_mean, z_log_var])\n",
    "\n",
    "        z_samp = self._sample([z_mean, z_log_var])\n",
    "        z_samp = BatchNormalization(axis=-1)(z_samp)\n",
    "    \n",
    "        return z_samp, z_mean_log_var_output\n",
    "\n",
    "\n",
    "\n",
    "class VariationalLayer(tf.keras.layers.Layer):\n",
    "    def __init__(self, name, **kwargs):\n",
    "        \n",
    "        super(VariationalLayer, self).__init__(name=name, **kwargs)\n",
    "        pass\n",
    "    \n",
    "    def build(self, input_shape):\n",
    "        pass\n",
    "    \n",
    "    def call(self, inputs):\n",
    "        pass\n",
    "    \n",
    "    def _sampling(self, args):\n",
    "        z_mean, z_log_var = args\n",
    "        batch = K.shape(z_mean)[0]\n",
    "        dim = K.int_shape(z_mean)[1]\n",
    "        # by default, random_normal has mean=0 and std=1.0\n",
    "        epsilon = K.random_normal_variable(shape=(batch, dim), mean=0., scale=1.)\n",
    "        z_rand = z_mean + K.exp(0.5 * z_log_var) * epsilon * kl_loss_var\n",
    "        return z_rand\n",
    "    \n",
    "\n",
    "\n",
    "def variational_layers(z_mean, enc, hidden_dim, kl_loss_var):\n",
    "    \n",
    "    def sampling(args):\n",
    "        z_mean, z_log_var = args\n",
    "        batch = K.shape(z_mean)[0]\n",
    "        dim = K.int_shape(z_mean)[1]\n",
    "        # by default, random_normal has mean=0 and std=1.0\n",
    "        epsilon = K.random_normal_variable(shape=(batch, dim), mean=0., scale=1.)\n",
    "        z_rand = z_mean + K.exp(0.5 * z_log_var) * epsilon * kl_loss_var\n",
    "        return z_rand\n",
    "    \n",
    "        # variational encoding\n",
    "    z_log_var_layer = Dense(hidden_dim, name='z_log_var_sample')\n",
    "    z_log_var = z_log_var_layer(enc)\n",
    "\n",
    "    z_mean_log_var_output = Concatenate(\n",
    "        name='z_mean_log_var')([z_mean, z_log_var])\n",
    "\n",
    "    z_samp = Lambda(sampling)([z_mean, z_log_var])\n",
    "    z_samp = BatchNormalization(axis=-1)(z_samp)\n",
    "    \n",
    "    return z_samp, z_mean_log_var_output\n",
    "\n",
    "def prepareDecoderCNNDynamic(nCharInSmiles, nCharSet, k, lr, showArch):\n",
    "    decoderInput = Input(shape=(k[0],), name=\"decoderInput\")\n",
    "\n",
    "    h = Dense(k[0], name='latent_input', activation = 'relu')(decoderInput)\n",
    "    h = RepeatVector(nCharInSmiles, name='repeat_vector')(h)\n",
    "    for idx, iLayer in enumerate(k[1:]):\n",
    "        h = GRU(iLayer, return_sequences = True, name='gru_'+str(idx))(h)\n",
    "        #h = Dropout(0.1)(h)\n",
    " \n",
    "    resultDynamic = TimeDistributed(Dense(nCharSet, activation='softmax'), name='decoded_mean')(h)\n",
    "    \n",
    "    model = Model(inputs=[decoderInput], outputs=[resultDynamic])\n",
    "    if (showArch):\n",
    "        print(model.summary())\n",
    "\n",
    "    return model\n",
    "\n",
    "def prepareDecoderCNN_LSTMDynamic(nCharInSmiles, nCharSet, k, lr, showArch):\n",
    "    decoderInput = Input(shape=(k[0],), name=\"decoderInput\")\n",
    "\n",
    "    h = Dense(k[0], name='latent_input', activation = 'relu')(decoderInput)\n",
    "    h = Dropout(0.05)(h)\n",
    "    h = BatchNormalization()(h)\n",
    "    h = RepeatVector(nCharInSmiles, name='repeat_vector')(h)\n",
    "    for idx, iLayer in enumerate(k[1:]):\n",
    "        h = LSTM(iLayer, return_sequences=True, name='lstm_'+str(idx))(h)\n",
    " \n",
    "    #h = Dense(nCharSet, activation='softmax', name='dense_softmax')(h) \n",
    "    resultDynamic = LSTM(nCharSet, return_sequences=True, name='final_recurrent', activation='softmax')(h)\n",
    "    #resultDynamic = TimeDistributed(h, name='decoded_mean')(h)\n",
    "    \n",
    "    model = Model(inputs=decoderInput, outputs=resultDynamic)\n",
    "    if (showArch):\n",
    "        print(model.summary())\n",
    "\n",
    "    return model\n",
    "\n",
    "def fitOnlyDynamic(dynamicFeatures, model, modelFilePath, nEpoch, nBatch, iniLR):\n",
    "    dtime = datetime.datetime.now().strftime(\"%Y-%m-%d_%H_%M_%S\")\n",
    "    order = rnd.permutation(len(staticFeatures))\n",
    "\n",
    "    early_stopping = EarlyStopping(monitor='val_loss', patience=10)\n",
    "    checkpoint = ModelCheckpoint(modelFilePath, save_best_only=True, save_weights_only=False, monitor='val_loss')\n",
    "\n",
    "    size = int(dynamicFeatures.shape[0] * 0.9)\n",
    "    training_dynamic = dynamicFeatures[order[:size]]\n",
    "    testing_dynamic = dynamicFeatures[order[size:]]\n",
    "    print(training_dynamic.shape)\n",
    "    print(testing_dynamic.shape)\n",
    "\n",
    "    optimizationEvolution = trainHistory(iniLR, 0.5, 20, dtime)\n",
    "\n",
    "    history = model.fit(training_dynamic,\n",
    "              training_dynamic,\n",
    "                   epochs=nEpoch,\n",
    "                   batch_size=nBatch,\n",
    "                   #callbacks=[early_stopping, checkpoint, optimizationEvolution],\n",
    "                   callbacks=[early_stopping, checkpoint],\n",
    "                   validation_data=(testing_dynamic, \n",
    "                                    testing_dynamic))\n",
    "    return model, history\n",
    "\n",
    "def kl_loss(truth_dummy, x_mean_log_var_output):\n",
    "    x_mean, x_log_var = tf.split(x_mean_log_var_output, 2, axis=1)\n",
    "    print('x_mean shape in kl_loss: ', x_mean.get_shape())\n",
    "    kl_loss = - 0.5 * K.mean(1 + x_log_var - K.square(x_mean) - K.exp(x_log_var), axis=-1)\n",
    "    return kl_loss\n",
    "\n",
    "def wrapped_vae_loss(z_log_var):\n",
    "    \n",
    "    def vae_loss(x, x_decoded_mean):\n",
    "        x = K.flatten(x)\n",
    "        x_decoded_mean = K.flatten(x_decoded_mean)\n",
    "        xent_loss = tf.keras.losses.binary_crossentropy(x, x_decoded_mean)\n",
    "        kl_loss = - 0.5 * K.mean(1 + z_log_var - K.square(z_mean) - K.exp(z_log_var), axis = -1)\n",
    "        #return xent_loss + kl_loss\n",
    "        return kl_loss + xent_loss\n",
    "    \n",
    "    return vae_loss\n"
   ]
  },
  {
   "cell_type": "code",
   "execution_count": 10,
   "metadata": {},
   "outputs": [],
   "source": [
    "batch_size = 128\n",
    "trainCutOff = 200000\n",
    "#x_train = descs[:trainCutOff]\n",
    "#x_valid = descs[trainCutOff:]\n",
    "y_train = mols_bin[:trainCutOff]\n",
    "y_valid = mols_bin[trainCutOff:]\n",
    "\n",
    "\n",
    "steps_per_epoch = trainCutOff // batch_size\n",
    "steps_per_validataion = (len(mols) - trainCutOff) // batch_size\n",
    "#cg_train = CodeGenerator(x_train, y_train, smilesvec1, smilesvec2, \n",
    "#                         batch_size=batch_size, shuffle=True)\n",
    "#cg_val = CodeGenerator(x_valid, y_valid, smilesvec1, smilesvec2, \n",
    "#                       batch_size=batch_size, shuffle=True)\n",
    "\n",
    "cg_train = SmilesGenerator2(y_train, None, smilesvec1, smilesvec2, \n",
    "                         batch_size=batch_size, shuffle=True)\n",
    "cg_val = SmilesGenerator2(y_valid, None, smilesvec1, smilesvec2, \n",
    "                       batch_size=batch_size, shuffle=True)"
   ]
  },
  {
   "cell_type": "code",
   "execution_count": 37,
   "metadata": {},
   "outputs": [],
   "source": [
    "batch = cg_train.next()"
   ]
  },
  {
   "cell_type": "code",
   "execution_count": 38,
   "metadata": {},
   "outputs": [
    {
     "data": {
      "text/plain": [
       "(128, 123, 37)"
      ]
     },
     "execution_count": 38,
     "metadata": {},
     "output_type": "execute_result"
    }
   ],
   "source": [
    "batch[0].shape"
   ]
  },
  {
   "cell_type": "code",
   "execution_count": 39,
   "metadata": {},
   "outputs": [
    {
     "data": {
      "text/plain": [
       "(128, 123, 37)"
      ]
     },
     "execution_count": 39,
     "metadata": {},
     "output_type": "execute_result"
    }
   ],
   "source": [
    "batch[1].shape"
   ]
  },
  {
   "cell_type": "code",
   "execution_count": 40,
   "metadata": {},
   "outputs": [
    {
     "data": {
      "text/plain": [
       "array(['^c1cc2[nH]c3c(c2cc1)CN(C(=O)c1nn2c(n1)nc(C)cc2C)CC3$$$$$$$$$$$$$$$$$$$$$$$$$$$$$$$$$$$$$$$$$$$$$$$$$$$$$$$$$$$$$$$$$$$$$$$$'],\n",
       "      dtype='<U123')"
      ]
     },
     "execution_count": 40,
     "metadata": {},
     "output_type": "execute_result"
    }
   ],
   "source": [
    "smilesvec1.reverse_transform(batch[0][:1], strip=False)"
   ]
  },
  {
   "cell_type": "code",
   "execution_count": 41,
   "metadata": {},
   "outputs": [
    {
     "data": {
      "text/plain": [
       "array(['c1cc2[nH]c3c(c2cc1)CN(C(=O)c1nn2c(n1)nc(C)cc2C)CC3$$$$$$$$$$$$$$$$$$$$$$$$$$$$$$$$$$$$$$$$$$$$$$$$$$$$$$$$$$$$$$$$$$$$$$$$$'],\n",
       "      dtype='<U123')"
      ]
     },
     "execution_count": 41,
     "metadata": {},
     "output_type": "execute_result"
    }
   ],
   "source": [
    "smilesvec1.reverse_transform(batch[1][:1], strip=False)"
   ]
  },
  {
   "cell_type": "code",
   "execution_count": 42,
   "metadata": {},
   "outputs": [
    {
     "data": {
      "text/plain": [
       "124"
      ]
     },
     "execution_count": 42,
     "metadata": {},
     "output_type": "execute_result"
    }
   ],
   "source": [
    "smilesvec1.dims[0]"
   ]
  },
  {
   "cell_type": "code",
   "execution_count": 14,
   "metadata": {},
   "outputs": [],
   "source": [
    "nCharInSmiles = smilesvec1.dims[0] - 1\n",
    "nCharSet = smilesvec1.dims[1]\n",
    "decoderChoice = 1\n",
    "variational = True\n",
    "\n",
    "lr = 0.00038\n",
    "latentDim = 256\n",
    "convDefinition = {}\n",
    "convDefinition['initialDimWidth'] = 7\n",
    "convDefinition['initialDimDepth'] = 7\n",
    "convDefinition['nCNNlayers'] = 5\n",
    "convDefinition['expansionCoeff'] = 1.2\n",
    "encoderDimensions = [convDefinition, latentDim]\n",
    "decoderDimensions = [latentDim, 256, 256, 256]\n",
    "\n",
    "hyperParameters = {}\n",
    "hyperParameters['latentDim'] = latentDim\n",
    "hyperParameters['convDefinition'] = convDefinition\n",
    "hyperParameters['encoderDimensions'] = encoderDimensions\n",
    "hyperParameters['decoderDimensions'] = decoderDimensions\n",
    "hyperParameters['lr'] = lr\n",
    "\n",
    "variational = True\n",
    "encoder = prepareEncoder(nCharInSmiles, nCharSet, encoderDimensions, lr, variational, batch_size, False)\n",
    "decoder = prepareDecoderCNN_LSTMDynamic(nCharInSmiles, nCharSet, decoderDimensions, lr, False)\n",
    "\n",
    "encoder_input = encoder.inputs\n",
    "\n",
    "if variational:\n",
    "    z_mean, z_log_var, enc_output = encoder(encoder_input)\n",
    "    sampling_inputs = [z_mean, z_log_var]\n",
    "    z_samp, z_mean_log_var_output = Sampling(n_dim=latentDim, name=\"sampling_layer\")(sampling_inputs)\n",
    "    decoder_output = decoder(z_samp)\n",
    "    loss_function = wrapped_vae_loss(z_log_var)\n",
    "else:\n",
    "    enc_output = encoder(encoder_input)\n",
    "    decoder_output = decoder(enc_output)\n",
    "    loss_function = 'binary_crossentropy'\n",
    "    \n",
    "#encoderOutput = encoder.get_layer('encoderOutput').output\n",
    "#decoderOutput = decoder(encoderOutput)\n",
    "autoencoder = Model(inputs=encoder_input[0], outputs=decoder_output)\n",
    "\n",
    "#optimizer = RMSprop(lr=lr)\n",
    "optimizer = Adam()\n",
    "#model_losses = {'x_pred': 'binary_crossentropy', 'z_mean_log_var': kl_loss}\n",
    "#if variational:\n",
    "#    lossF = vae_loss\n",
    "#else:\n",
    "#    loddF = 'categorical_crossentropy'\n",
    "\n",
    "autoencoder.compile(optimizer=optimizer, loss=loss_function,\n",
    "                    metrics=['binary_crossentropy', 'mean_absolute_error', 'accuracy'])"
   ]
  },
  {
   "cell_type": "code",
   "execution_count": null,
   "metadata": {},
   "outputs": [],
   "source": [
    "type(encoder_input[0])"
   ]
  },
  {
   "cell_type": "code",
   "execution_count": null,
   "metadata": {},
   "outputs": [],
   "source": [
    "type(decoder_output)"
   ]
  },
  {
   "cell_type": "code",
   "execution_count": null,
   "metadata": {},
   "outputs": [],
   "source": [
    "encoder(batch[0][0][:2])"
   ]
  },
  {
   "cell_type": "code",
   "execution_count": 15,
   "metadata": {},
   "outputs": [
    {
     "data": {
      "image/png": "[encoded data removed]",
      "text/plain": [
       "<IPython.core.display.Image object>"
      ]
     },
     "execution_count": 15,
     "metadata": {},
     "output_type": "execute_result"
    }
   ],
   "source": [
    "plot_model(autoencoder, expand_nested=True, show_layer_names=True, show_shapes=True)"
   ]
  },
  {
   "cell_type": "code",
   "execution_count": 34,
   "metadata": {},
   "outputs": [
    {
     "data": {
      "text/plain": [
       "(512, 123, 37)"
      ]
     },
     "execution_count": 34,
     "metadata": {},
     "output_type": "execute_result"
    }
   ],
   "source": [
    "batch[0].shape"
   ]
  },
  {
   "cell_type": "code",
   "execution_count": 44,
   "metadata": {},
   "outputs": [
    {
     "data": {
      "text/plain": [
       "<tf.Tensor 'model_14/model_13/final_recurrent/transpose_1:0' shape=(128, 123, 37) dtype=float32>"
      ]
     },
     "execution_count": 44,
     "metadata": {},
     "output_type": "execute_result"
    }
   ],
   "source": [
    "autoencoder(batch[0])"
   ]
  },
  {
   "cell_type": "code",
   "execution_count": 29,
   "metadata": {},
   "outputs": [
    {
     "data": {
      "text/plain": [
       "390"
      ]
     },
     "execution_count": 29,
     "metadata": {},
     "output_type": "execute_result"
    }
   ],
   "source": [
    "steps_per_epoch"
   ]
  },
  {
   "cell_type": "code",
   "execution_count": 16,
   "metadata": {},
   "outputs": [
    {
     "name": "stdout",
     "output_type": "stream",
     "text": [
      "Epoch 1/5\n"
     ]
    },
    {
     "ename": "TypeError",
     "evalue": "in user code:\n\n    File \"/home/rafalb/miniconda3/envs/tf_chem/lib/python3.8/site-packages/keras/engine/training.py\", line 878, in train_function  *\n        return step_function(self, iterator)\n    File \"/home/rafalb/miniconda3/envs/tf_chem/lib/python3.8/site-packages/keras/engine/training.py\", line 867, in step_function  **\n        outputs = model.distribute_strategy.run(run_step, args=(data,))\n    File \"/home/rafalb/miniconda3/envs/tf_chem/lib/python3.8/site-packages/keras/engine/training.py\", line 860, in run_step  **\n        outputs = model.train_step(data)\n    File \"/home/rafalb/miniconda3/envs/tf_chem/lib/python3.8/site-packages/keras/engine/training.py\", line 809, in train_step\n        loss = self.compiled_loss(\n    File \"/home/rafalb/miniconda3/envs/tf_chem/lib/python3.8/site-packages/keras/engine/compile_utils.py\", line 239, in __call__\n        self._loss_metric.update_state(\n    File \"/home/rafalb/miniconda3/envs/tf_chem/lib/python3.8/site-packages/keras/utils/metrics_utils.py\", line 73, in decorated\n        update_op = update_state_fn(*args, **kwargs)\n    File \"/home/rafalb/miniconda3/envs/tf_chem/lib/python3.8/site-packages/keras/metrics.py\", line 177, in update_state_fn\n        return ag_update_state(*args, **kwargs)\n    File \"/home/rafalb/miniconda3/envs/tf_chem/lib/python3.8/site-packages/keras/metrics.py\", line 451, in update_state  **\n        sample_weight = tf.__internal__.ops.broadcast_weights(\n    File \"/home/rafalb/miniconda3/envs/tf_chem/lib/python3.8/site-packages/keras/engine/keras_tensor.py\", line 255, in __array__\n        raise TypeError(\n\n    TypeError: You are passing KerasTensor(type_spec=TensorSpec(shape=(), dtype=tf.float32, name=None), name='Placeholder:0', description=\"created by layer 'tf.cast_4'\"), an intermediate Keras symbolic input/output, to a TF API that does not allow registering custom dispatchers, such as `tf.cond`, `tf.function`, gradient tapes, or `tf.map_fn`. Keras Functional model construction only supports TF API calls that *do* support dispatching, such as `tf.math.add` or `tf.reshape`. Other APIs cannot be called directly on symbolic Kerasinputs/outputs. You can work around this limitation by putting the operation in a custom Keras layer `call` and calling that layer on this symbolic input/output.\n",
     "output_type": "error",
     "traceback": [
      "\u001b[0;31m---------------------------------------------------------------------------\u001b[0m",
      "\u001b[0;31mTypeError\u001b[0m                                 Traceback (most recent call last)",
      "Input \u001b[0;32mIn [16]\u001b[0m, in \u001b[0;36m<module>\u001b[0;34m\u001b[0m\n\u001b[1;32m     11\u001b[0m \u001b[38;5;66;03m#callbacks = [earlyStopping, checkpoint, optimizationEvolution]\u001b[39;00m\n\u001b[1;32m     12\u001b[0m callbacks \u001b[38;5;241m=\u001b[39m [checkpoint]\n\u001b[0;32m---> 13\u001b[0m \u001b[43mautoencoder\u001b[49m\u001b[38;5;241;43m.\u001b[39;49m\u001b[43mfit\u001b[49m\u001b[43m(\u001b[49m\u001b[43mcg_train\u001b[49m\u001b[43m,\u001b[49m\u001b[43m \u001b[49m\u001b[43mepochs\u001b[49m\u001b[38;5;241;43m=\u001b[39;49m\u001b[38;5;241;43m5\u001b[39;49m\u001b[43m,\u001b[49m\u001b[43m \u001b[49m\u001b[43msteps_per_epoch\u001b[49m\u001b[38;5;241;43m=\u001b[39;49m\u001b[38;5;241;43m128\u001b[39;49m\u001b[43m)\u001b[49m\n",
      "File \u001b[0;32m~/miniconda3/envs/tf_chem/lib/python3.8/site-packages/keras/utils/traceback_utils.py:67\u001b[0m, in \u001b[0;36mfilter_traceback.<locals>.error_handler\u001b[0;34m(*args, **kwargs)\u001b[0m\n\u001b[1;32m     65\u001b[0m \u001b[38;5;28;01mexcept\u001b[39;00m \u001b[38;5;167;01mException\u001b[39;00m \u001b[38;5;28;01mas\u001b[39;00m e:  \u001b[38;5;66;03m# pylint: disable=broad-except\u001b[39;00m\n\u001b[1;32m     66\u001b[0m   filtered_tb \u001b[38;5;241m=\u001b[39m _process_traceback_frames(e\u001b[38;5;241m.\u001b[39m__traceback__)\n\u001b[0;32m---> 67\u001b[0m   \u001b[38;5;28;01mraise\u001b[39;00m e\u001b[38;5;241m.\u001b[39mwith_traceback(filtered_tb) \u001b[38;5;28;01mfrom\u001b[39;00m \u001b[38;5;28mNone\u001b[39m\n\u001b[1;32m     68\u001b[0m \u001b[38;5;28;01mfinally\u001b[39;00m:\n\u001b[1;32m     69\u001b[0m   \u001b[38;5;28;01mdel\u001b[39;00m filtered_tb\n",
      "File \u001b[0;32m~/miniconda3/envs/tf_chem/lib/python3.8/site-packages/tensorflow/python/framework/func_graph.py:1129\u001b[0m, in \u001b[0;36mfunc_graph_from_py_func.<locals>.autograph_handler\u001b[0;34m(*args, **kwargs)\u001b[0m\n\u001b[1;32m   1127\u001b[0m \u001b[38;5;28;01mexcept\u001b[39;00m \u001b[38;5;167;01mException\u001b[39;00m \u001b[38;5;28;01mas\u001b[39;00m e:  \u001b[38;5;66;03m# pylint:disable=broad-except\u001b[39;00m\n\u001b[1;32m   1128\u001b[0m   \u001b[38;5;28;01mif\u001b[39;00m \u001b[38;5;28mhasattr\u001b[39m(e, \u001b[38;5;124m\"\u001b[39m\u001b[38;5;124mag_error_metadata\u001b[39m\u001b[38;5;124m\"\u001b[39m):\n\u001b[0;32m-> 1129\u001b[0m     \u001b[38;5;28;01mraise\u001b[39;00m e\u001b[38;5;241m.\u001b[39mag_error_metadata\u001b[38;5;241m.\u001b[39mto_exception(e)\n\u001b[1;32m   1130\u001b[0m   \u001b[38;5;28;01melse\u001b[39;00m:\n\u001b[1;32m   1131\u001b[0m     \u001b[38;5;28;01mraise\u001b[39;00m\n",
      "\u001b[0;31mTypeError\u001b[0m: in user code:\n\n    File \"/home/rafalb/miniconda3/envs/tf_chem/lib/python3.8/site-packages/keras/engine/training.py\", line 878, in train_function  *\n        return step_function(self, iterator)\n    File \"/home/rafalb/miniconda3/envs/tf_chem/lib/python3.8/site-packages/keras/engine/training.py\", line 867, in step_function  **\n        outputs = model.distribute_strategy.run(run_step, args=(data,))\n    File \"/home/rafalb/miniconda3/envs/tf_chem/lib/python3.8/site-packages/keras/engine/training.py\", line 860, in run_step  **\n        outputs = model.train_step(data)\n    File \"/home/rafalb/miniconda3/envs/tf_chem/lib/python3.8/site-packages/keras/engine/training.py\", line 809, in train_step\n        loss = self.compiled_loss(\n    File \"/home/rafalb/miniconda3/envs/tf_chem/lib/python3.8/site-packages/keras/engine/compile_utils.py\", line 239, in __call__\n        self._loss_metric.update_state(\n    File \"/home/rafalb/miniconda3/envs/tf_chem/lib/python3.8/site-packages/keras/utils/metrics_utils.py\", line 73, in decorated\n        update_op = update_state_fn(*args, **kwargs)\n    File \"/home/rafalb/miniconda3/envs/tf_chem/lib/python3.8/site-packages/keras/metrics.py\", line 177, in update_state_fn\n        return ag_update_state(*args, **kwargs)\n    File \"/home/rafalb/miniconda3/envs/tf_chem/lib/python3.8/site-packages/keras/metrics.py\", line 451, in update_state  **\n        sample_weight = tf.__internal__.ops.broadcast_weights(\n    File \"/home/rafalb/miniconda3/envs/tf_chem/lib/python3.8/site-packages/keras/engine/keras_tensor.py\", line 255, in __array__\n        raise TypeError(\n\n    TypeError: You are passing KerasTensor(type_spec=TensorSpec(shape=(), dtype=tf.float32, name=None), name='Placeholder:0', description=\"created by layer 'tf.cast_4'\"), an intermediate Keras symbolic input/output, to a TF API that does not allow registering custom dispatchers, such as `tf.cond`, `tf.function`, gradient tapes, or `tf.map_fn`. Keras Functional model construction only supports TF API calls that *do* support dispatching, such as `tf.math.add` or `tf.reshape`. Other APIs cannot be called directly on symbolic Kerasinputs/outputs. You can work around this limitation by putting the operation in a custom Keras layer `call` and calling that layer on this symbolic input/output.\n"
     ]
    }
   ],
   "source": [
    "tf.compat.v1.experimental.output_all_intermediates(True)\n",
    "modelFilePath = Path(\"model_1.model\")\n",
    "checkpoint = ModelCheckpoint(modelFilePath.absolute().as_posix(), save_best_only=True, \n",
    "                             save_weights_only=False, monitor='val_loss')\n",
    "earlyStopping = EarlyStopping(monitor='val_loss', patience=10)\n",
    "\n",
    "dtime = datetime.datetime.now().strftime(\"%Y-%m-%d_%H_%M_%S\")\n",
    "iniLR = 0.01\n",
    "optimizationEvolution = trainHistory(iniLR, 0.5, 5, dtime)\n",
    "\n",
    "#callbacks = [earlyStopping, checkpoint, optimizationEvolution]\n",
    "callbacks = [checkpoint]\n",
    "autoencoder.fit(cg_train, epochs=5, steps_per_epoch=128) \n",
    "#autoencoder.fit(cg_train, epochs=5, validation_data=cg_val, callbacks=callbacks,\n",
    "#                steps_per_epoch=steps_per_epoch, validation_steps=steps_per_validataion, max_queue_size=10)"
   ]
  },
  {
   "cell_type": "code",
   "execution_count": 20,
   "metadata": {},
   "outputs": [
    {
     "name": "stdout",
     "output_type": "stream",
     "text": [
      "Model: \"model_3\"\n",
      "__________________________________________________________________________________________________\n",
      " Layer (type)                   Output Shape         Param #     Connected to                     \n",
      "==================================================================================================\n",
      " inputDynamic (InputLayer)      [(None, 123, 37)]    0           []                               \n",
      "                                                                                                  \n",
      " conv_0 (Conv1D)                (None, 117, 7)       1820        ['inputDynamic[0][0]']           \n",
      "                                                                                                  \n",
      " batch_normalization_7 (BatchNo  (None, 117, 7)      28          ['conv_0[0][0]']                 \n",
      " rmalization)                                                                                     \n",
      "                                                                                                  \n",
      " conv_1 (Conv1D)                (None, 111, 7)       350         ['batch_normalization_7[0][0]']  \n",
      "                                                                                                  \n",
      " batch_normalization_8 (BatchNo  (None, 111, 7)      28          ['conv_1[0][0]']                 \n",
      " rmalization)                                                                                     \n",
      "                                                                                                  \n",
      " conv_2 (Conv1D)                (None, 104, 8)       456         ['batch_normalization_8[0][0]']  \n",
      "                                                                                                  \n",
      " batch_normalization_9 (BatchNo  (None, 104, 8)      32          ['conv_2[0][0]']                 \n",
      " rmalization)                                                                                     \n",
      "                                                                                                  \n",
      " conv_3 (Conv1D)                (None, 95, 10)       810         ['batch_normalization_9[0][0]']  \n",
      "                                                                                                  \n",
      " batch_normalization_10 (BatchN  (None, 95, 10)      40          ['conv_3[0][0]']                 \n",
      " ormalization)                                                                                    \n",
      "                                                                                                  \n",
      " conv_4 (Conv1D)                (None, 84, 12)       1452        ['batch_normalization_10[0][0]'] \n",
      "                                                                                                  \n",
      " batch_normalization_11 (BatchN  (None, 84, 12)      48          ['conv_4[0][0]']                 \n",
      " ormalization)                                                                                    \n",
      "                                                                                                  \n",
      " flatten_1 (Flatten)            (None, 1008)         0           ['batch_normalization_11[0][0]'] \n",
      "                                                                                                  \n",
      " dense_1 (Dense)                (None, 256)          258304      ['flatten_1[0][0]']              \n",
      "                                                                                                  \n",
      " batch_normalization_12 (BatchN  (None, 256)         1024        ['dense_1[0][0]']                \n",
      " ormalization)                                                                                    \n",
      "                                                                                                  \n",
      " z_mean (Dense)                 (None, 256)          65792       ['batch_normalization_12[0][0]'] \n",
      "                                                                                                  \n",
      " z_log_var (Dense)              (None, 256)          65792       ['batch_normalization_12[0][0]'] \n",
      "                                                                                                  \n",
      " encoderOutput (Lambda)         (None, 256)          0           ['z_mean[0][0]',                 \n",
      "                                                                  'z_log_var[0][0]']              \n",
      "                                                                                                  \n",
      "==================================================================================================\n",
      "Total params: 395,976\n",
      "Trainable params: 395,376\n",
      "Non-trainable params: 600\n",
      "__________________________________________________________________________________________________\n",
      "None\n",
      "Model: \"model_4\"\n",
      "_________________________________________________________________\n",
      " Layer (type)                Output Shape              Param #   \n",
      "=================================================================\n",
      " decoderInput (InputLayer)   [(None, 256)]             0         \n",
      "                                                                 \n",
      " latent_input (Dense)        (None, 256)               65792     \n",
      "                                                                 \n",
      " dropout_1 (Dropout)         (None, 256)               0         \n",
      "                                                                 \n",
      " batch_normalization_13 (Bat  (None, 256)              1024      \n",
      " chNormalization)                                                \n",
      "                                                                 \n",
      " repeat_vector (RepeatVector  (None, 123, 256)         0         \n",
      " )                                                               \n",
      "                                                                 \n",
      " lstm_0 (LSTM)               (None, 123, 256)          525312    \n",
      "                                                                 \n",
      " lstm_1 (LSTM)               (None, 123, 256)          525312    \n",
      "                                                                 \n",
      " lstm_2 (LSTM)               (None, 123, 256)          525312    \n",
      "                                                                 \n",
      " final_recurrent (LSTM)      (None, 123, 37)           43512     \n",
      "                                                                 \n",
      "=================================================================\n",
      "Total params: 1,686,264\n",
      "Trainable params: 1,685,752\n",
      "Non-trainable params: 512\n",
      "_________________________________________________________________\n",
      "None\n"
     ]
    }
   ],
   "source": [
    "nCharInSmiles = smilesvec1.dims[0] - 1\n",
    "nCharSet = smilesvec1.dims[1]\n",
    "decoderChoice = 1\n",
    "variational = True\n",
    "\n",
    "lr = 0.00038\n",
    "latentDim = 256\n",
    "convDefinition = {}\n",
    "convDefinition['initialDimWidth'] = 7\n",
    "convDefinition['initialDimDepth'] = 7\n",
    "convDefinition['nCNNlayers'] = 5\n",
    "convDefinition['expansionCoeff'] = 1.2\n",
    "encoderDimensions = [convDefinition, latentDim]\n",
    "decoderDimensions = [latentDim, 256, 256, 256]\n",
    "\n",
    "hyperParameters = {}\n",
    "hyperParameters['latentDim'] = latentDim\n",
    "hyperParameters['convDefinition'] = convDefinition\n",
    "hyperParameters['encoderDimensions'] = encoderDimensions\n",
    "hyperParameters['decoderDimensions'] = decoderDimensions\n",
    "hyperParameters['lr'] = lr\n",
    "\n",
    "encoder, vae_loss = prepareEncoderCNNDynamic(nCharInSmiles, nCharSet, encoderDimensions, lr, True, batch_size, True)\n",
    "if decoderChoice == 0:\n",
    "    decoder = prepareDecoderCNNDynamic(nCharInSmiles, nCharSet, decoderDimensions, lr, True)\n",
    "elif decoderChoice == 1:\n",
    "    decoder = prepareDecoderCNN_LSTMDynamic(nCharInSmiles, nCharSet, decoderDimensions, lr, True)\n",
    "\n",
    "\n",
    "encoderOutput = encoder.get_layer('encoderOutput').output\n",
    "decoderOutput = decoder(encoderOutput)\n",
    "autoencoder = Model(inputs=encoder.input, outputs=decoderOutput)\n",
    "\n",
    "#optimizer = RMSprop(lr=lr)\n",
    "optimizer = Adam(lr)\n",
    "if variational:\n",
    "    lossF = vae_loss\n",
    "else:\n",
    "    loddF = 'categorical_crossentropy'\n",
    "\n",
    "autoencoder.compile(optimizer=optimizer, loss=lossF, metrics=['categorical_crossentropy', 'mean_absolute_error', 'accuracy'])"
   ]
  },
  {
   "cell_type": "code",
   "execution_count": null,
   "metadata": {},
   "outputs": [],
   "source": [
    "plot_model(autoencoder, show_shapes=True, expand_nested=True)"
   ]
  },
  {
   "cell_type": "code",
   "execution_count": null,
   "metadata": {},
   "outputs": [],
   "source": [
    "import tensorflow as tf\n",
    "tf.compat.v1.experimental.output_all_intermediates(True)"
   ]
  },
  {
   "cell_type": "code",
   "execution_count": null,
   "metadata": {},
   "outputs": [],
   "source": [
    "\n",
    "modelFilePath = Path(\"model_1.model\")\n",
    "checkpoint = ModelCheckpoint(modelFilePath.absolute().as_posix(), save_best_only=True, \n",
    "                             save_weights_only=False, monitor='val_loss')\n",
    "earlyStopping = EarlyStopping(monitor='val_loss', patience=10)\n",
    "\n",
    "dtime = datetime.datetime.now().strftime(\"%Y-%m-%d_%H_%M_%S\")\n",
    "iniLR = 0.01\n",
    "optimizationEvolution = trainHistory(iniLR, 0.5, 5, dtime)\n",
    "\n",
    "callbacks = [earlyStopping, checkpoint, optimizationEvolution]\n",
    "callbacks = [checkpoint] \n",
    "autoencoder.fit(cg_train, epochs=5, validation_data=cg_val, callbacks=callbacks,\n",
    "                steps_per_epoch=steps_per_epoch, validation_steps=steps_per_validataion, max_queue_size=10)"
   ]
  },
  {
   "cell_type": "code",
   "execution_count": null,
   "metadata": {},
   "outputs": [],
   "source": [
    "sample = cg_val.next()"
   ]
  },
  {
   "cell_type": "code",
   "execution_count": null,
   "metadata": {},
   "outputs": [],
   "source": []
  },
  {
   "cell_type": "code",
   "execution_count": null,
   "metadata": {},
   "outputs": [],
   "source": [
    "smilesvec2.reverse_transform(sample[0][0][:1])"
   ]
  },
  {
   "cell_type": "code",
   "execution_count": null,
   "metadata": {},
   "outputs": [],
   "source": [
    "smilesvec1.reverse_transform(sample[0][0][:1])"
   ]
  },
  {
   "cell_type": "code",
   "execution_count": null,
   "metadata": {},
   "outputs": [],
   "source": [
    "print(smilesvec2.reverse_transform(sample[0][0][:1]))\n",
    "sample_smiles = smilesvec2.reverse_transform(sample[0][0][:1])\n",
    "predicted_smiles = autoencoder.predict(sample[0][0][:1])"
   ]
  },
  {
   "cell_type": "code",
   "execution_count": null,
   "metadata": {},
   "outputs": [],
   "source": [
    "np.argmax(predicted_smiles[0][0])"
   ]
  },
  {
   "cell_type": "code",
   "execution_count": null,
   "metadata": {},
   "outputs": [],
   "source": [
    "autoencoder.fit(training_dynamic, training_dynamic, epochs=nEpoch,\n",
    "                batch_size=nBatch,\n",
    "                   #callbacks=[early_stopping, checkpoint, optimizationEvolution],\n",
    "                   callbacks=[early_stopping, checkpoint],\n",
    "                   validation_data=(testing_dynamic, \n",
    "                                    testing_dynamic))"
   ]
  }
 ],
 "metadata": {
  "interpreter": {
   "hash": "9bef507373fd99f0d9311f61661075c0fd9c8607d0361cb368d50d76b631f114"
  },
  "kernelspec": {
   "display_name": "Python 3.8.12 64-bit ('cheminformatics2': conda)",
   "language": "python",
   "name": "python3"
  },
  "language_info": {
   "codemirror_mode": {
    "name": "ipython",
    "version": 3
   },
   "file_extension": ".py",
   "mimetype": "text/x-python",
   "name": "python",
   "nbconvert_exporter": "python",
   "pygments_lexer": "ipython3",
   "version": "3.8.12"
  },
  "orig_nbformat": 4
 },
 "nbformat": 4,
 "nbformat_minor": 2
}
