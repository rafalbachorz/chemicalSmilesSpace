{
 "cells": [
  {
   "cell_type": "code",
   "execution_count": 1,
   "metadata": {},
   "outputs": [],
   "source": [
    "import os\n",
    "os.chdir('/home/rafalb/work/molecules/chemicalSmilesSpace/src')"
   ]
  },
  {
   "cell_type": "code",
   "execution_count": 2,
   "metadata": {},
   "outputs": [
    {
     "name": "stderr",
     "output_type": "stream",
     "text": [
      "Using TensorFlow backend.\n"
     ]
    }
   ],
   "source": [
    "import argparse\n",
    "#from tabulate import tabulate\n",
    "from pathlib import Path\n",
    "import predictiveModel\n",
    "import loadDecoder\n",
    "import trainSmiles\n",
    "import numpy as np\n",
    "import random\n",
    "from rdkit import Chem"
   ]
  },
  {
   "cell_type": "code",
   "execution_count": 3,
   "metadata": {},
   "outputs": [],
   "source": [
    "predictiveModel = predictiveModel.unpicklePredictiveModel('./results/20191108/1/predictiveModel_CNN-LSTM_300000_LD256_0.00045_1024_512_256.pckl')"
   ]
  },
  {
   "cell_type": "code",
   "execution_count": 4,
   "metadata": {},
   "outputs": [
    {
     "data": {
      "text/plain": [
       "{'model': 'staticDynmic_CNN-LSTM_300000_LD256_0.00045_1024_512_256.h5',\n",
       " 'nCharSmiles': 100,\n",
       " 'nCharSet': 27,\n",
       " 'nStatic': 3,\n",
       " 'scaler': StandardScaler(copy=True, with_mean=True, with_std=True),\n",
       " 'nLatent': 256,\n",
       " 'char2indices': {' ': 0,\n",
       "  '#': 1,\n",
       "  '(': 2,\n",
       "  ')': 3,\n",
       "  '-': 4,\n",
       "  '.': 5,\n",
       "  '1': 6,\n",
       "  '2': 7,\n",
       "  '3': 8,\n",
       "  '4': 9,\n",
       "  '5': 10,\n",
       "  '=': 11,\n",
       "  'C': 12,\n",
       "  'F': 13,\n",
       "  'G': 14,\n",
       "  'I': 15,\n",
       "  'N': 16,\n",
       "  'O': 17,\n",
       "  'P': 18,\n",
       "  'S': 19,\n",
       "  'U': 20,\n",
       "  'W': 21,\n",
       "  '[': 22,\n",
       "  ']': 23,\n",
       "  'c': 24,\n",
       "  'o': 25,\n",
       "  's': 26},\n",
       " 'indices2char': {0: ' ',\n",
       "  1: '#',\n",
       "  2: '(',\n",
       "  3: ')',\n",
       "  4: '-',\n",
       "  5: '.',\n",
       "  6: '1',\n",
       "  7: '2',\n",
       "  8: '3',\n",
       "  9: '4',\n",
       "  10: '5',\n",
       "  11: '=',\n",
       "  12: 'C',\n",
       "  13: 'F',\n",
       "  14: 'G',\n",
       "  15: 'I',\n",
       "  16: 'N',\n",
       "  17: 'O',\n",
       "  18: 'P',\n",
       "  19: 'S',\n",
       "  20: 'U',\n",
       "  21: 'W',\n",
       "  22: '[',\n",
       "  23: ']',\n",
       "  24: 'c',\n",
       "  25: 'o',\n",
       "  26: 's'}}"
      ]
     },
     "execution_count": 4,
     "metadata": {},
     "output_type": "execute_result"
    }
   ],
   "source": [
    "predictiveModel"
   ]
  },
  {
   "cell_type": "code",
   "execution_count": 5,
   "metadata": {},
   "outputs": [
    {
     "name": "stdout",
     "output_type": "stream",
     "text": [
      "staticDynmic_CNN-LSTM_300000_LD256_0.00045_1024_512_256.h5\n"
     ]
    }
   ],
   "source": [
    "nCharInSmiles = predictiveModel['nCharSmiles']\n",
    "nCharSet = predictiveModel['nCharSet']\n",
    "nStatic = predictiveModel['nStatic']\n",
    "weightsFile = predictiveModel['model']\n",
    "char2indices = predictiveModel['char2indices']\n",
    "indices2char = predictiveModel['indices2char']\n",
    "nLatent = predictiveModel['nLatent']\n",
    "print(weightsFile)"
   ]
  },
  {
   "cell_type": "code",
   "execution_count": 6,
   "metadata": {},
   "outputs": [
    {
     "data": {
      "text/plain": [
       "256"
      ]
     },
     "execution_count": 6,
     "metadata": {},
     "output_type": "execute_result"
    }
   ],
   "source": [
    "nLatent"
   ]
  },
  {
   "cell_type": "code",
   "execution_count": 7,
   "metadata": {},
   "outputs": [],
   "source": [
    "convDefinition = {}\n",
    "convDefinition['initialDimWidth'] = 7\n",
    "convDefinition['initialDimDepth'] = 7\n",
    "convDefinition['nCNNlayers'] = 6\n",
    "convDefinition['expansionCoeff'] = 1.2\n",
    "encoderDimensions = [convDefinition, nLatent]\n",
    "decoderDimensions = [nLatent, 1024, 512, 256]\n",
    "\n",
    "\n",
    "lr = 0.004"
   ]
  },
  {
   "cell_type": "code",
   "execution_count": 8,
   "metadata": {},
   "outputs": [
    {
     "name": "stderr",
     "output_type": "stream",
     "text": [
      "WARNING: Logging before flag parsing goes to stderr.\n",
      "W0314 10:55:40.586178 140381342119744 deprecation_wrapper.py:119] From /home/rafalb/miniconda3/envs/tensorflow/lib/python3.7/site-packages/keras/backend/tensorflow_backend.py:517: The name tf.placeholder is deprecated. Please use tf.compat.v1.placeholder instead.\n",
      "\n",
      "W0314 10:55:40.600849 140381342119744 deprecation_wrapper.py:119] From /home/rafalb/miniconda3/envs/tensorflow/lib/python3.7/site-packages/keras/backend/tensorflow_backend.py:4138: The name tf.random_uniform is deprecated. Please use tf.random.uniform instead.\n",
      "\n",
      "W0314 10:55:40.621382 140381342119744 deprecation_wrapper.py:119] From /home/rafalb/miniconda3/envs/tensorflow/lib/python3.7/site-packages/keras/backend/tensorflow_backend.py:74: The name tf.get_default_graph is deprecated. Please use tf.compat.v1.get_default_graph instead.\n",
      "\n",
      "W0314 10:55:40.662390 140381342119744 deprecation_wrapper.py:119] From /home/rafalb/miniconda3/envs/tensorflow/lib/python3.7/site-packages/keras/backend/tensorflow_backend.py:133: The name tf.placeholder_with_default is deprecated. Please use tf.compat.v1.placeholder_with_default instead.\n",
      "\n",
      "W0314 10:55:40.981207 140381342119744 deprecation_wrapper.py:119] From /home/rafalb/miniconda3/envs/tensorflow/lib/python3.7/site-packages/keras/backend/tensorflow_backend.py:4115: The name tf.random_normal is deprecated. Please use tf.random.normal instead.\n",
      "\n"
     ]
    },
    {
     "name": "stdout",
     "output_type": "stream",
     "text": [
      "__________________________________________________________________________________________________\n",
      "Layer (type)                    Output Shape         Param #     Connected to                     \n",
      "==================================================================================================\n",
      "inputDynamic (InputLayer)       (None, 100, 27)      0                                            \n",
      "__________________________________________________________________________________________________\n",
      "conv_0 (Conv1D)                 (None, 94, 7)        1330        inputDynamic[0][0]               \n",
      "__________________________________________________________________________________________________\n",
      "conv_1 (Conv1D)                 (None, 88, 7)        350         conv_0[0][0]                     \n",
      "__________________________________________________________________________________________________\n",
      "batch_normalization_1 (BatchNor (None, 88, 7)        28          conv_1[0][0]                     \n",
      "__________________________________________________________________________________________________\n",
      "conv_2 (Conv1D)                 (None, 81, 8)        456         batch_normalization_1[0][0]      \n",
      "__________________________________________________________________________________________________\n",
      "batch_normalization_2 (BatchNor (None, 81, 8)        32          conv_2[0][0]                     \n",
      "__________________________________________________________________________________________________\n",
      "conv_3 (Conv1D)                 (None, 72, 10)       810         batch_normalization_2[0][0]      \n",
      "__________________________________________________________________________________________________\n",
      "batch_normalization_3 (BatchNor (None, 72, 10)       40          conv_3[0][0]                     \n",
      "__________________________________________________________________________________________________\n",
      "conv_4 (Conv1D)                 (None, 61, 12)       1452        batch_normalization_3[0][0]      \n",
      "__________________________________________________________________________________________________\n",
      "batch_normalization_4 (BatchNor (None, 61, 12)       48          conv_4[0][0]                     \n",
      "__________________________________________________________________________________________________\n",
      "conv_5 (Conv1D)                 (None, 48, 14)       2366        batch_normalization_4[0][0]      \n",
      "__________________________________________________________________________________________________\n",
      "batch_normalization_5 (BatchNor (None, 48, 14)       56          conv_5[0][0]                     \n",
      "__________________________________________________________________________________________________\n",
      "flatten_1 (Flatten)             (None, 672)          0           batch_normalization_5[0][0]      \n",
      "__________________________________________________________________________________________________\n",
      "dense_1 (Dense)                 (None, 256)          172288      flatten_1[0][0]                  \n",
      "__________________________________________________________________________________________________\n",
      "z_mean (Dense)                  (None, 256)          65792       dense_1[0][0]                    \n",
      "__________________________________________________________________________________________________\n",
      "z_log_var (Dense)               (None, 256)          65792       dense_1[0][0]                    \n",
      "__________________________________________________________________________________________________\n",
      "encoderOutput (Lambda)          (None, 256)          0           z_mean[0][0]                     \n",
      "                                                                 z_log_var[0][0]                  \n",
      "==================================================================================================\n",
      "Total params: 310,840\n",
      "Trainable params: 310,738\n",
      "Non-trainable params: 102\n",
      "__________________________________________________________________________________________________\n",
      "None\n",
      "_________________________________________________________________\n",
      "Layer (type)                 Output Shape              Param #   \n",
      "=================================================================\n",
      "decoderInput (InputLayer)    (None, 256)               0         \n",
      "_________________________________________________________________\n",
      "latent_input (Dense)         (None, 256)               65792     \n",
      "_________________________________________________________________\n",
      "repeat_vector (RepeatVector) (None, 100, 256)          0         \n",
      "_________________________________________________________________\n",
      "gru_0 (GRU)                  (None, 100, 1024)         3935232   \n",
      "_________________________________________________________________\n",
      "gru_1 (GRU)                  (None, 100, 512)          2360832   \n",
      "_________________________________________________________________\n",
      "gru_2 (GRU)                  (None, 100, 256)          590592    \n",
      "_________________________________________________________________\n",
      "decoded_mean (TimeDistribute (None, 100, 27)           6939      \n",
      "=================================================================\n",
      "Total params: 6,959,387\n",
      "Trainable params: 6,959,387\n",
      "Non-trainable params: 0\n",
      "_________________________________________________________________\n",
      "None\n"
     ]
    }
   ],
   "source": [
    "prePath = './results/20191108/1/'\n",
    "encoder, decoder, autoencoder = loadDecoder.loadCNNdecoder(nCharInSmiles, nCharSet, nStatic, encoderDimensions, decoderDimensions, lr, prePath+weightsFile)"
   ]
  },
  {
   "cell_type": "code",
   "execution_count": 9,
   "metadata": {},
   "outputs": [],
   "source": [
    "replacementDict = {'Br': 'G', 'Cl': 'U', '[nH]': 'W'}\n",
    "replacementDictInv = {v: k for k, v in replacementDict.items()}"
   ]
  },
  {
   "cell_type": "code",
   "execution_count": 10,
   "metadata": {},
   "outputs": [],
   "source": [
    "def createLatentVector(nLatent):\n",
    "    latentVector = [random.random() for iii in range(nLatent)]\n",
    "    latentVector = np.array(latentVector).reshape(-1, nLatent)\n",
    "    return latentVector\n",
    "    \n",
    "def createPrediction(latentVector, nCharInSmiles, nCharSet, decoder):\n",
    "    return decoder.predict(latentVector)[0].reshape(nCharInSmiles, nCharSet)"
   ]
  },
  {
   "cell_type": "code",
   "execution_count": 11,
   "metadata": {},
   "outputs": [],
   "source": [
    "def createSmiles(prediction, nCharInSmiles, inidices2char):\n",
    "    smiles = []\n",
    "    for iii in range(nCharInSmiles):\n",
    "        smiles.append(indices2char[np.argmax(prediction[iii, :])])\n",
    "    return str.join('', smiles).strip()\n"
   ]
  },
  {
   "cell_type": "code",
   "execution_count": 12,
   "metadata": {},
   "outputs": [],
   "source": [
    "def postprocesSmiles(smiles, replacementDict):\n",
    "    for key in replacementDict.keys():\n",
    "        smiles = smiles.replace(key, replacementDict[key])\n",
    "    return smiles"
   ]
  },
  {
   "cell_type": "code",
   "execution_count": 13,
   "metadata": {},
   "outputs": [],
   "source": [
    "def oneHotEncodeSmiles(smiles, char2indices, nCharSet):\n",
    "    nLen = len(smiles)\n",
    "    dynamicFeatures = np.zeros((1, nLen, nCharSet), dtype=np.float)\n",
    "    print(dynamicFeatures.shape)\n",
    "\n",
    "    for charidx, char in enumerate(smiles):\n",
    "            dynamicFeatures[0, charidx, char2indices[char]] = 1\n",
    "    return dynamicFeatures\n",
    "    \n"
   ]
  },
  {
   "cell_type": "code",
   "execution_count": null,
   "metadata": {},
   "outputs": [],
   "source": [
    "smilesOHE = oneHotEncodeSmiles('C1CCCCC1'.ljust(100), char2indices, nCharSet)\n",
    "aePrediction = autoencoder.predict(smilesOHE)\n",
    "enPrediction = encoder.predict(smilesOHE)\n"
   ]
  },
  {
   "cell_type": "code",
   "execution_count": 42,
   "metadata": {},
   "outputs": [
    {
     "name": "stdout",
     "output_type": "stream",
     "text": [
      "(1, 100, 27)\n"
     ]
    }
   ],
   "source": [
    "smilesOHE = oneHotEncodeSmiles('C1CCCCC1'.ljust(100), char2indices, nCharSet)\n",
    "aePrediction = autoencoder.predict(smilesOHE)\n",
    "enPrediction = encoder.predict(smilesOHE)\n"
   ]
  },
  {
   "cell_type": "code",
   "execution_count": 43,
   "metadata": {},
   "outputs": [
    {
     "data": {
      "text/plain": [
       "array([[-1.1063626 ,  0.8144736 ,  0.14468107, -3.515045  ,  0.7314535 ,\n",
       "        -3.1514494 ,  3.5240848 ,  1.8090805 , -1.4440186 ,  0.03146052,\n",
       "        -0.86594856,  0.84573895,  1.7286003 , -1.6170135 ,  3.1701772 ,\n",
       "         0.03740982, -1.0524921 , -0.48057082,  0.9857323 ,  3.4204907 ,\n",
       "         0.5226277 , -0.09111172, -2.0122318 , -5.0878725 ,  1.0248008 ,\n",
       "        -1.8046011 , -1.6505071 ,  2.1828477 ,  0.5716951 ,  3.0284111 ,\n",
       "        -1.6175008 ,  0.1873194 ,  2.232561  ,  1.0717583 , -0.24045539,\n",
       "         3.9464974 , -0.8101385 ,  1.4966774 ,  2.205061  , -1.279932  ,\n",
       "        -1.263951  , -0.28607768,  2.5346644 , -1.2767706 ,  0.15117174,\n",
       "         2.7046118 , -3.8653808 , -0.5707974 , -0.25714505,  1.8080368 ,\n",
       "        -0.8834489 ,  0.60084933, -0.38027442,  1.4088249 , -1.9101644 ,\n",
       "        -1.4622592 ,  3.706072  , -5.2130556 , -2.213954  ,  0.19655098,\n",
       "         1.1667867 , -0.68617857,  0.20594633, -0.04005382, -0.42738208,\n",
       "         0.9174513 ,  1.7499793 , -1.9076576 , -0.7629277 ,  6.033029  ,\n",
       "        -0.27366897, -0.6783836 ,  1.8701345 ,  3.4464083 , -1.0267657 ,\n",
       "        -2.2998958 , -3.3304543 ,  1.1740906 , -0.4626032 , -0.94729626,\n",
       "         0.3932578 , -1.446927  , -0.6572411 ,  0.40862936, -0.5990725 ,\n",
       "        -1.7336366 , -1.0933776 , -0.24349183,  1.3753041 , -1.2227067 ,\n",
       "         1.3104854 ,  0.44871938,  1.0065651 ,  0.61215866, -0.91309345,\n",
       "        -0.88754034,  3.3968472 ,  0.03273794, -2.1731627 ,  0.01397011,\n",
       "         1.1118318 ,  3.071125  ,  1.8078    , -1.4864458 , -0.18674004,\n",
       "        -2.0864224 , -2.5009356 , -0.5257256 , -1.2337308 , -2.2314463 ,\n",
       "        -0.994     ,  1.7645826 , -0.4146291 , -1.0119444 ,  0.35516843,\n",
       "        -1.2880452 , -0.6751445 , -0.9732712 , -0.5484605 ,  1.5576036 ,\n",
       "         6.405801  ,  3.3218274 , -2.244335  ,  0.5042214 ,  2.911213  ,\n",
       "         2.1255174 ,  0.90691686,  1.3163724 ,  1.5581758 ,  0.07843572,\n",
       "         0.6570339 , -0.63023907, -1.7799802 , -5.787978  ,  0.8884597 ,\n",
       "         0.3248409 , -2.5038862 ,  0.2743894 , -1.9112238 , -0.50094205,\n",
       "         1.7142682 , -0.55411994,  1.3772638 , -0.5067399 ,  1.8622987 ,\n",
       "        -0.42742407,  0.2885766 , -2.0546105 , -3.7884374 ,  0.9305781 ,\n",
       "         2.5314634 , -4.09339   , -2.317891  ,  0.8314251 ,  1.9839627 ,\n",
       "         0.69829345,  0.8230849 ,  1.1065898 , -3.1892946 , -5.1378207 ,\n",
       "         1.1816561 ,  0.54680604, -0.03318033, -0.08068234, -0.22637276,\n",
       "         0.11520672, -0.7157414 , -2.1562562 ,  1.3759608 , -0.8933042 ,\n",
       "        -1.2923304 , -2.044004  ,  3.7991498 , -0.12606603,  2.160976  ,\n",
       "         1.244144  , -1.7355387 , -1.4374886 , -2.0970097 , -1.770473  ,\n",
       "         0.43505615,  1.1953067 , -3.0536432 , -0.22596267, -2.360707  ,\n",
       "         0.4957534 , -1.5051243 ,  0.7516079 ,  0.12166353,  2.340558  ,\n",
       "         0.20933294,  0.6843391 , -0.29648525, -0.90318596, -0.29311028,\n",
       "         2.7322948 ,  0.29401916, -1.9382745 ,  2.5921483 ,  0.8650302 ,\n",
       "         1.0086515 , -0.20568192,  0.3208599 , -0.6062398 ,  0.77164924,\n",
       "         5.793748  ,  1.2932067 ,  0.59615314, -2.9406383 ,  0.3169441 ,\n",
       "         0.1801508 ,  1.7969211 , -1.1904867 , -0.16393621, -3.0832744 ,\n",
       "         0.9825392 , -1.506959  , -1.5754715 ,  2.0423768 ,  0.16654232,\n",
       "         4.0726776 ,  1.801354  , -0.4356265 , -0.0989039 ,  1.7578812 ,\n",
       "         0.9184769 ,  1.6073391 ,  0.4764429 , -0.23370045,  1.8910108 ,\n",
       "        -0.18961865, -6.5231833 , -1.9557042 ,  0.71751803,  2.184566  ,\n",
       "         3.0991082 ,  1.210675  ,  1.1362268 , -3.5454185 ,  2.2553773 ,\n",
       "        -0.36242333,  0.17373735,  3.0284257 , -3.705543  ,  1.5715275 ,\n",
       "         4.0624037 ,  1.8134887 , -4.21761   ,  2.9403942 ,  1.5126632 ,\n",
       "         1.3290908 , -3.9195266 , -2.3809042 , -1.5143507 ,  0.32080078,\n",
       "         1.103106  ]], dtype=float32)"
      ]
     },
     "execution_count": 43,
     "metadata": {},
     "output_type": "execute_result"
    }
   ],
   "source": [
    "enPrediction"
   ]
  },
  {
   "cell_type": "code",
   "execution_count": 45,
   "metadata": {},
   "outputs": [],
   "source": [
    "def recoverSmiles(prediction, nCharSet, indices2char, replacementDictInv):\n",
    "    smilesCode = createSmiles(prediction, nCharSet, indices2char)\n",
    "    smilesCode = postprocesSmiles(smilesCode, replacementDictInv)\n",
    "    return smilesCode"
   ]
  },
  {
   "cell_type": "code",
   "execution_count": 19,
   "metadata": {},
   "outputs": [
    {
     "data": {
      "text/plain": [
       "3"
      ]
     },
     "execution_count": 19,
     "metadata": {},
     "output_type": "execute_result"
    }
   ],
   "source": []
  },
  {
   "cell_type": "code",
   "execution_count": 14,
   "metadata": {},
   "outputs": [
    {
     "name": "stdout",
     "output_type": "stream",
     "text": [
      "CC(c1cccClFc(F)c(F)c1Cl)C(NC(=O)O)c2-c1cc(Cl)[nH]c2ccc(CC(=O)NCCCC3)cc12\n",
      "Cc1ccccc1c(())((F)cF2)C(1C(=O)C(F)(F)F)C11c1cccc(NS(=O)(O)CCC)cc1-\n",
      "CCCC[nH]1c(N)c(N(F)F))c(C(C)NC(=O)c))Cc1ccc(F)cc1)[nH]2CCC(C==O)O)C))[nH]c1OC\n",
      "CCc11c((S(F)(F))F)c1(C(C)C(=O)O)c1Cc1ccc(C)cc1-ccc(CCC(=O)NCC)[[nH][nH]]1\n",
      "Cc1cc(C)c(O)c(Cl)c1cc1C)Cc1c(C)cc(C)c1)cc(C)ccccc1CCS(=O)(O)CO))ccc1\n",
      "Cc1cccccc1)cc(C)c2c(C)[nH](F)c(=Oc[nH]2CCc1cccc1-c1cc(C)[nH]o1\n",
      "Ccc1ccc2c1)cc(Nc1[nH]cc(CC(NS(=O)(=O)c1ccc[nH]1)c1cccc1C)[nH]2C\n",
      "CC(c1cc(F)c(OO)c1)1c(CC(NC(=O)(F)F))ccc1(=O)[nH]1C)()CC2(=O)=O)CCccccc1\n",
      "COCCc1cc[nH]c11c(Cl)c1ccc(OC)c(C(F)(F)F)c2c(F))c[nH]c[nH][nH]3)C2C\n",
      "CCCC1c(=CN((FF)F)ccccOC)c(C=C)(F)(F)FFF)(F)cc1c1CSc(CC(=O)NC)))[[nH][nH]]1\n",
      "CO(cccc(F)ccc1Cl)c1cc(C(C))C(F)(F)F)cccc(Cl)c(F)cc(CC==))C1C\n",
      "Cc1ccccc11ccc(Cccccc(COc1C(=O)O))(c1ccc1C)[[nH]1cccc(C(=O)N2CC3)c[nH][nH]]1\n",
      "C=C([nH]1c(F)c(Cl)c(Cl)c2c1OCNC((O)((FO)c1ccc(F)cc2[nH]1)CC1\n",
      "Cc1c(Cl)ccc)ccOC)cc2c1CCN(C(=O)cc(C)[nH]cccc1)[nH]cccccc1CC(=O)NCCCCcccc1\n",
      "CC(c1cc(F)c(N)cc1c1cc(C(F)(F)F)cc(C)c1Fc(=O)[nH]1c[nH]F))(S(=O)(==C)11cccc1\n",
      "CC(Cc1c(=Cc(NF))F)ccc1C)c1C(=O)[nH]()c1cccc(Cl)c1)[nH][nH][nH](CC)[nH]2C\n",
      "CCC([nH]1[nH]c[nH]F)c(Cl)c1-c1c(OC)c(O)c(C)c(O)c1(=O)c12[nH](=O)[nH]2C\n",
      "CCCC(1cc(C)c(CO)[nH]))1c1SCNC(=O)O)c(C)c22)[nH]1-c1ccc(NSC(=O)N2CCC2c2c[nH]cc1\n",
      "CCc11cc(C)c(C)c1O))c1CCCNC(=O)OC)c[nH][nH]c1c1N)c1cccc(S(CO===O)NCC)c2[nH][nH]]1\n",
      "Cc1cccc2c1c(())()cc1cc(C)c(C#N)c12-c1ccc(Cl)cc1[nH][nH][nH](C)[nH]2C\n",
      "Cc1[nH]ccc2c1cc(C)C)c1c(OO)c(C(F)(F)CO)c1c(C))[nH]--[nH](CCC)[nH]1C\n",
      "Cc1c(F)ccc()c11-c1ccc(C(F)C((F)C(=)2)c1))1-c1cccc(NC(=O)NCCCCc2ccccc1\n",
      "CC(cc1c(F)c(N)c1))1c(SCN)(=O)=O)c(C)c1C)C1)c1ccc(NCC=O)=N)CCC2)cccccc1\n",
      "Cc1ccccc1Fc(F)c1[nH][nH][nH]c)C(C)((=O)C(F)(F)F)CC1)c1ccc(S((=O)=O)CC)c2[nH][nH][nH]]1\n",
      "Cc(c1cccc21cc1)c1ccc(OC(C)S(=O)(=O)O)cc1F)[nH]cccc[nH]c(CCC(=O)=CCCC)ccc11\n",
      "COc1ccc(Cl)c(Cl)c1)[nH]1c(SCCC)(=O)(F)OF)c2ccF)[c[nH]][nH][nH]2COCC2\n",
      "Cc1cccccc1)c1O)Nc1cc(CNN2(=O)=C(C)F)c2c12)c1cc[nH][nH]11CCC2\n",
      "CCCC[nH]1c(N)c(NOF)o)cc1SC=CC(=O)N(F))c1ccc(F)cc1)c(C)c1C\n",
      "Cc1ccc2cc1NC(==)c1ccc(C)c(CC(F)(F)F)c1)c(C)cccc[nH]c(CC(=O)=C)C)cc12\n",
      "CC(c1cc(Cl)c(CCF)F)cc1OCN1C(=O)O)c1Cc1cc(C)[[nH]1)[nH](CCC))C\n",
      "CCCC[nH]1c((F)c(CO)[[nH][nH]]1)N1C(=O)COC(=Oc1ccccc1)c[nH][nH]1)C2C\n",
      "O=C(c1c(F)c(N)c11c1cc(OCN)(C(F)(F)F)ccc1))c1ccccCCC(=O)C1CCC1)ccc1\n",
      "CCCCc1c(Cl)ccN))[nH][nH][nH]1cc(=O)c(CCO)cc1)c11c(C)[c[nH]121[nH](C(==O)OCCC)cc2\n",
      "CC(Cc1cccc1)c(N)c1ccc(OCN)((=O)cc1-c1cc(C)[nH][nH]-c1c(CC)2(=O)(O)C)ccc[nH]c1\n",
      "Ccc1cFFcccc1c1OCc1ccc(=C)c(OC)c1c(=O)1c(C)[[nH][nH]c1c1CCC(=O)NCCCCc1cccc1\n",
      "CCCC[nH]1c(N)c(N(F)F)cc(C(NNC(=O)c)c1-c1cc(C)[nH][nH]1c1c[nH](CC(=O)(O)C)[c[nH]c11\n",
      "Cc1cccc1-c1c(Cl))c2c2c(C))c(O)c(F)cF)c1c(F)ccc[nH]c(C)c2C\n",
      "COCCc1c(N)c(OO)[nH]1-c1c(C)c(CC(F)(F)F)ccc[nH]2)c1ccccc(NC(=O)N3CCCC)1cccc21\n",
      "O=C(O1c(C)c(()c11)1c1OC)c(CC)c1)c(O)c1c(C)c(F)c(SS(C)(=O)COCC)cc112\n",
      "CC(cccc(F)c(F)cc1-c1c(S(C)(=O)((F)F)ccc1Cl)c1ccc(1)C((=O=O)CCCC)c[nH][nH]c1\n",
      "CCCCc1c(F)cc(C)c1)cc1OC(NC(=O)c))CCc1cc(CC)[[nH][nH]]c1CCC(=O)NCCCCc11ccccc1\n",
      "Cc11c(C)c(C)c(N)c2c11S(NOC(=O)c1c(F)ccc(Cl)c1)[nH]1CCCCC1\n",
      "CO(cccc(Cl)c(Cl)c1Oc1c(C=F)c((=F)c(()c(F)c(F)1ccc1c(=(N)12\n",
      "C=CC[nH]1c(=)c(=O)[nH][nH]c2c(C(CCC(=O)O)c2Cc1cccc1ccc1c2[nH]2CC(==))O)CC)cccc1\n",
      "CCCc1oc(O)c(C(F)FF)F)SS(N)(=O)=O)F1Cc1c(F)cccc1Cl)CCC\n",
      "CO11ccc2c1-ccc()c1[nH]cc(S(N)(C(F)(F)F)ccc1CN)c1ccc(CC(=O)=O)C2C)ccc12\n",
      "Cc11c(C)c(C)c(OC)c1cc(O)cc(C(C)c(=C)cccCC)c11ccc(S(S(===O)C2CC2cccccc1\n",
      "Cc1cccc2c1cc[nH]1)cccccc11C(C(=O)c1c(Cl)c(F)c(F)ccc(CO)[nH]2\n",
      "COc1cccc2c1C)1-c1ccc(C(F)(F)F)c1C)Ccccccc1-[nH]2cc(Br)c[nH]1\n",
      "CCcc1cc(Cl)c(C)c1F)1c(C(C)C(=O)C(2=O)cc1ClC)c1ccc(CCC(=O)N2CCC2)cc1\n",
      "CCOc1ccc(CNC(=O)Occc1C(C)(==O)C(C=O)c1c(Cl)cccc1))2C(=O)N2CCCc1ccccc1O\n",
      "CCc1cccc2c1cc(Cl)cc1cc(O)NP((=O)(=O)c1cc((C)cc1)[nH]c2C(=O)NCCCCCccc[nH]12\n",
      "Cc11c(C)c(C)c1-c1[nH][nH]c(CC(C)C(=O)cccoc1ccc(Cl)cc1[nH]c(SCC(=O)N)CCC)cc[nH][nH][nH]11\n",
      "CCOc1oc(NCC(=O)=O)cc1)CC(N)(=O)FF)Cc1[nH]c(Cl)cc2c[nH][nH](CC=O)CC1C\n",
      "Cc1cc(cccccc(C)c(O)c(OO)c(COC)))(COF))C(=OC)c1cc(NCC(=O)=O)CC)cc1O\n",
      "CCC(c1c(F)cc(O)cc1)c(C2CNC(=O)(C)F)))1c(F)cccc1)c(C(==O)CCC))c[nH]c1\n",
      "Cc1ccc2c1F)c(Ccc[nH][nH]ccc(C(C)((OO)(F)F)ccc1))c1cc[nH]C))P(CC(=O)CCCO)ccc1\n",
      "CO1cccc1cc1c((F)cccccOC)c)C(=O)O))Cc1ccc(C)ccc1c(CC(=O)=O)CCC)ccccc1\n",
      "CCCCc1c(F)c(N)c1)c1c(C=C)c(=O)cc(CCc11cc(C)[nH]c2[nH](CO)[nH]2C\n",
      "COc1ccc[nH]1)c(C)c1ccccc(Cl))c(=O)[nH][nH]Ccc[nH]c1[nH]2C)[c[nH][nH][nH]=C)[nH]1\n",
      "CO(cccc(F)c(O)c(O)cc1O(F)F)(FF)(F)FF)FF)(=O)c1c[nH](CC(=O))O)CCCC)2ccccc11\n",
      "Cc1cccc2c1-[nH]1[nH]cc1ccc(NC(C)((O))OO)F)ccc1Fcc[nH][nH][nH][nH](C)[nH]2\n",
      "Cc1cccc2c1c1)N-c1ccc(NC(CF)=O)cc1Cc1ccc((F)c1)[nH]c(C)[nH]1C\n",
      "Cc1cccc(1F)c(=O)[nH]1cc2C(F)FF(F)F)cF))c1cc(C)c1F)(C)C2\n",
      "C=CCc1c(F)c(N)c1Oc1cc(C)c(C(C)(C(=))c2cc(F)ccc2c(C)[nH]2C\n",
      "CC(c1cc(CCc(FF)(F)F))((F)(F)FO)cc(O)c2cFC))c1cccc1SC(=O)NC2CCC222ccccc1\n",
      "CO11ccc(Cl)c(Cl)c1Oc1c(OC)c(CC)[nH]F)c12cccccc12[nH]c[nH][nH](C)[nH]2C\n",
      "O=C([nH]1c(O)ccCl)c(O)cc1Cl)Cc1F)(C)c(C)c1cc(Cl)c())1c((C(=O)NN2CCC2)c[nH][nH]cc1\n",
      "CCCc1cccc2c1c(F)c[nH]ccc(=O)1CC(O)(F)()c1c(Cl)cccc1c12SC(C)=O)CCCC)cccc1\n",
      "Cc1cc2cc1F)c(F)c1[nH]1c(CCCC(C(F)(C(=O)c(F)c))c1cc[nH]C)C(=O)(O)CC)cc1O\n",
      "CO1cccc(Cl)c(Cl)c(F)cc1S(=O)(=O)C(F)F))cc(Cl)c1-c1cc(C(==O)N2CC2)ccc[nH]cc1\n",
      "C=CC[nH]1c(N)c(NO)[nH]1-c1c(O)c(CCOO)[nH]1)o1cccc(C)c1)[nH](=O)[nH]1C\n",
      "CC(c1cccc1NC(F)F)cc1)N(C)NC(=))c)F)c1ccc(F)cc1)c2CCC(=O)NCCCC)cc[nH]]1\n",
      "Cc1cccccc11cc(F)ccccc1CN()(==O)(=O))cccc(Fcc))c1(CC(==)=O)CCCCc1ccccc1\n",
      "COCc1c(())(C)c(O)c2c1OO)cOCC(F)(F)F)c1cc(F)cccc1)CC(=O)=O)CNCc1cc[nH]c1\n",
      "Cc1ccccc1Fcc((c1c[nH][nH]12C(C(C(=O)(O))c1cccc(Cl)c1cccc1))C(=O))1CCC11cccc1\n",
      "Cc1cccc2c1c1)Cc1ccc3(c(C)c(=O)[nH](C)c122c[nH]2)c1[nH][nH][nH][nH](C)[nH]2C\n",
      "Cc1ccccc1FF)(()c1cc(C(=O)c(C(F)(F)F)cc1c(C)c1ccc1C)C(=O)(O)CCc1ccccc1\n",
      "CC1cccc1Fcc1-c1cccc(1OC(NP(=O)(F)C3)c1c(C)[c[nH]ccc1CCC(=O)NCCCCc1cc[nH]c1\n",
      "COc1ccccc1FCcC)cccccc(CCNN)(=O)(F)F)cc1F)Cc1ccccc1NC(=O)NCCCC1c[nH][nH]11\n",
      "O=CCc1c(F)ccCl)cc1c1cc(O)c(C(())O)c1)c1c1Cl)cccc2[nH]c(NCC(O)(O)CCC)ccc21\n",
      "C=1c(F)c(O)c(O)cc2ccc(O)c(C(C)C(F)F)ccc1=O)c1ccc(CC(=O)NC2CC2)cc11\n",
      "Cc11ccc(F)c(COccF)[nH]c(C(N)(CC(C)((=O)c1cc(F)ccc2c(C)c2C\n",
      "C=C(c1[nH]c(F)c(Cl)cc1cc1C=O)cF)))cc2)Cc1ccco)c1c[nH]c(C)c1C\n",
      "COc1cccccc1C(=O)c1cc(SS(C)(=O)=O)[nH]1)c1cc(Cl)c[nH]1)c(C)c2C\n",
      "C=CC11c(N)c(N)[nH]1-c1cc(C)c(C(=O)cc1C)cccc(F)cc(C)(C)[nH]2C\n",
      "CCc11sc(C)c(F))F)c1c1OC(N)(=O))cc(C)ccc11)cc2[nH](C))[nH]2\n",
      "CO1cccFF)ccc1-c1cccc11CN1C(=O)F)CC1)1[nH]c(C)[[nH][nH]cccc1CCP(=O))O)C1c1ccccc1\n",
      "CCCC[nH]1c(N)c(C(F)(F)c(C=C2C(=O)O)c(C)c211C=O)c[nH][nH][nH]c2C(=C)))CCCCCc1ccccc1\n",
      "CO11coc(CNC(=)=O)c1F(C(())C(=))O)FFF)cc(C)c(F)c1CCCCCC\n",
      "Cc1ccccc1N(C(F)(F)F)C(F)(C(FO)cc(C)[nH]1[nH]c(CC)c[nH]c[nH]c2CC(C==O))CCCc1ccccc1\n",
      "CC(c1cc(F)c(O)cc1)cc(C(CC)(=O)=O)C)(F)ccF)c1ccc(CCC(=O))N2CCCCc2ccccc12\n",
      "Cc1ccccc1)ccF)Cc1[nH]ccc(C)c2C(=O)N))Fc1ccc(F)c1cccc(C(=O)N2CC)cc12\n",
      "O=Cc11((CCC(F)F)cccc1C(C)N((=))(F)F)ccc(F)ccccc[nH]cc(C(=OO)N3CCCC)cc12\n",
      "CC(c1[nH]c(NS(=O)(FF)F)C(=O)c(C(F)(F)F)c1c(Cl)ccccc1Cl)(((=O)=O)NCc1ccccc12\n",
      "COc1ccc22c1cc1C)N-11c(O)c(C(CC))(=O)ccc1O)Nc1cc(CCC(=O)CC)cc12\n",
      "Cc1cccc(Cl)cc(Cl)c(O)c(C(CNP(=O)=O)c(F)c(F)c1-c1c[nH](CCC(=O)OC2CCC))[nH]cc1\n",
      "CC(c1cccc1)c(F)c(O)c(=O)ccC(C)c[nH]2)c1cccc(Cl)c1ccc(NCC(=O)NC2CC2)cc1Cl\n",
      "CCCc1cc(Cl)c(OC)[[nH][nH]]c1C=CNC(=O)O)c(F)ccc(C)[nH][nH][nH][nH]c1CCC2\n",
      "Cc1cccc2cc1C(=O)c1cc(O)cc(C(C)(F))O)c1c(C)c(F)c(C)c2C\n"
     ]
    }
   ],
   "source": [
    "nSmiles = 100\n",
    "correctSmiles = []\n",
    "for iii in range(nSmiles):\n",
    "    latentVector = createLatentVector(nLatent)\n",
    "    prediction = createPrediction(latentVector, nCharInSmiles, nCharSet, decoder)\n",
    "    smilesCode = createSmiles(prediction, nCharInSmiles, indices2char)\n",
    "    smilesCode = postprocesSmiles(smilesCode, replacementDictInv)\n",
    "    print(smilesCode)\n",
    "    m = Chem.MolFromSmiles(smilesCode)\n",
    "    if not(m is None):\n",
    "        correctSmiles.append(smilesCode)\n",
    "        print('!!!!!!!!!')\n",
    "\n"
   ]
  },
  {
   "cell_type": "code",
   "execution_count": 24,
   "metadata": {},
   "outputs": [
    {
     "data": {
      "text/plain": [
       "['CCCCCc1c(NC2CCCCC2)Cc(CC)c(O)c2c(N)cccc12']"
      ]
     },
     "execution_count": 24,
     "metadata": {},
     "output_type": "execute_result"
    }
   ],
   "source": [
    "correctSmiles"
   ]
  },
  {
   "cell_type": "code",
   "execution_count": 38,
   "metadata": {},
   "outputs": [
    {
     "data": {
      "text/plain": [
       "[]"
      ]
     },
     "execution_count": 38,
     "metadata": {},
     "output_type": "execute_result"
    }
   ],
   "source": [
    "    correctSmiles"
   ]
  },
  {
   "cell_type": "code",
   "execution_count": 15,
   "metadata": {},
   "outputs": [
    {
     "ename": "NameError",
     "evalue": "name 'smiles' is not defined",
     "output_type": "error",
     "traceback": [
      "\u001b[0;31m---------------------------------------------------------------------------\u001b[0m",
      "\u001b[0;31mNameError\u001b[0m                                 Traceback (most recent call last)",
      "\u001b[0;32m<ipython-input-15-c798c2bfbf08>\u001b[0m in \u001b[0;36m<module>\u001b[0;34m\u001b[0m\n\u001b[0;32m----> 1\u001b[0;31m \u001b[0mm\u001b[0m \u001b[0;34m=\u001b[0m \u001b[0mChem\u001b[0m\u001b[0;34m.\u001b[0m\u001b[0mMolFromSmiles\u001b[0m\u001b[0;34m(\u001b[0m\u001b[0msmiles\u001b[0m\u001b[0;34m)\u001b[0m\u001b[0;34m\u001b[0m\u001b[0;34m\u001b[0m\u001b[0m\n\u001b[0m",
      "\u001b[0;31mNameError\u001b[0m: name 'smiles' is not defined"
     ]
    }
   ],
   "source": [
    "m = Chem.MolFromSmiles(smiles)"
   ]
  },
  {
   "cell_type": "code",
   "execution_count": 25,
   "metadata": {},
   "outputs": [
    {
     "data": {
      "text/plain": [
       "True"
      ]
     },
     "execution_count": 25,
     "metadata": {},
     "output_type": "execute_result"
    }
   ],
   "source": [
    "m.GetNumAtoms()"
   ]
  },
  {
   "cell_type": "code",
   "execution_count": null,
   "metadata": {},
   "outputs": [],
   "source": []
  }
 ],
 "metadata": {
  "file_extension": ".py",
  "kernelspec": {
   "display_name": "Python 3",
   "language": "python",
   "name": "python3"
  },
  "language_info": {
   "codemirror_mode": {
    "name": "ipython",
    "version": 3
   },
   "file_extension": ".py",
   "mimetype": "text/x-python",
   "name": "python",
   "nbconvert_exporter": "python",
   "pygments_lexer": "ipython3",
   "version": "3.7.3"
  },
  "mimetype": "text/x-python",
  "name": "python",
  "npconvert_exporter": "python",
  "pygments_lexer": "ipython3",
  "version": 3
 },
 "nbformat": 4,
 "nbformat_minor": 2
}
