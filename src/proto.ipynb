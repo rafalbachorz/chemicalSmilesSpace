{
 "nbformat": 4,
 "nbformat_minor": 2,
 "metadata": {
  "language_info": {
   "name": "python",
   "codemirror_mode": {
    "name": "ipython",
    "version": 3
   }
  },
  "orig_nbformat": 2,
  "file_extension": ".py",
  "mimetype": "text/x-python",
  "name": "python",
  "npconvert_exporter": "python",
  "pygments_lexer": "ipython3",
  "version": 3
 },
 "cells": [
  {
   "cell_type": "code",
   "execution_count": 3,
   "metadata": {},
   "outputs": [],
   "source": [
    "import os\n",
    "os.chdir('/home/rafalb/work/molecules/chemicalSmilesSpace/src')"
   ]
  },
  {
   "cell_type": "code",
   "execution_count": 13,
   "metadata": {},
   "outputs": [],
   "source": [
    "import argparse\n",
    "#from tabulate import tabulate\n",
    "from pathlib import Path\n",
    "import predictiveModel\n",
    "import predictSmiles\n",
    "import numpy as np\n",
    "import random"
   ]
  },
  {
   "cell_type": "code",
   "execution_count": 27,
   "metadata": {},
   "outputs": [],
   "source": [
    "predictiveModel = predictiveModel.unpicklePredictiveModel('predictiveModel646432_20191027.pckl')"
   ]
  },
  {
   "cell_type": "code",
   "execution_count": 65,
   "metadata": {},
   "outputs": [
    {
     "name": "stdout",
     "output_type": "stream",
     "text": "staticDynmic_6464646432_70000_512.h5\n"
    }
   ],
   "source": [
    "nCharInSmiles = predictiveModel['nCharSmiles']\n",
    "nCharSet = predictiveModel['nCharSet']\n",
    "nStatic = predictiveModel['nStatic']\n",
    "weightsFile = predictiveModel['model']\n",
    "char2indices = predictiveModel['char2indices']\n",
    "indices2char = predictiveModel['indices2char']\n",
    "nLatent = predictiveModel['nLatent']\n",
    "print(weightsFile)"
   ]
  },
  {
   "cell_type": "code",
   "execution_count": null,
   "metadata": {},
   "outputs": [],
   "source": []
  },
  {
   "cell_type": "code",
   "execution_count": 12,
   "metadata": {},
   "outputs": [
    {
     "name": "stdout",
     "output_type": "stream",
     "text": "__________________________________________________________________________________________________\nLayer (type)                    Output Shape         Param #     Connected to                     \n==================================================================================================\ninputStatic (InputLayer)        (None, 3)            0                                            \n__________________________________________________________________________________________________\ndense_1 (Dense)                 (None, 64)           256         inputStatic[0][0]                \n__________________________________________________________________________________________________\ninputDynamic (InputLayer)       (None, 60, 27)       0                                            \n__________________________________________________________________________________________________\ndense_2 (Dense)                 (None, 64)           4160        dense_1[0][0]                    \n__________________________________________________________________________________________________\ndense_3 (Dense)                 (None, 64)           4160        dense_1[0][0]                    \n__________________________________________________________________________________________________\nlstm_1 (LSTM)                   [(None, 60, 64), (No 23552       inputDynamic[0][0]               \n                                                                 dense_2[0][0]                    \n                                                                 dense_3[0][0]                    \n__________________________________________________________________________________________________\nconcatenate_1 (Concatenate)     (None, 128)          0           dense_2[0][0]                    \n                                                                 lstm_1[0][1]                     \n__________________________________________________________________________________________________\nconcatenate_2 (Concatenate)     (None, 128)          0           dense_3[0][0]                    \n                                                                 lstm_1[0][2]                     \n__________________________________________________________________________________________________\ndense_4 (Dense)                 (None, 64)           8256        concatenate_1[0][0]              \n__________________________________________________________________________________________________\ndense_5 (Dense)                 (None, 64)           8256        concatenate_2[0][0]              \n__________________________________________________________________________________________________\nlstm_2 (LSTM)                   [(None, 60, 64), (No 33024       lstm_1[0][0]                     \n                                                                 dense_4[0][0]                    \n                                                                 dense_5[0][0]                    \n__________________________________________________________________________________________________\nconcatenate_3 (Concatenate)     (None, 128)          0           dense_4[0][0]                    \n                                                                 lstm_2[0][1]                     \n__________________________________________________________________________________________________\nconcatenate_4 (Concatenate)     (None, 128)          0           dense_5[0][0]                    \n                                                                 lstm_2[0][2]                     \n__________________________________________________________________________________________________\ndense_6 (Dense)                 (None, 64)           8256        concatenate_3[0][0]              \n__________________________________________________________________________________________________\ndense_7 (Dense)                 (None, 64)           8256        concatenate_4[0][0]              \n__________________________________________________________________________________________________\nlstm_3 (LSTM)                   [(None, 60, 64), (No 33024       lstm_2[0][0]                     \n                                                                 dense_6[0][0]                    \n                                                                 dense_7[0][0]                    \n__________________________________________________________________________________________________\nconcatenate_5 (Concatenate)     (None, 128)          0           dense_6[0][0]                    \n                                                                 lstm_3[0][1]                     \n__________________________________________________________________________________________________\nconcatenate_6 (Concatenate)     (None, 128)          0           dense_7[0][0]                    \n                                                                 lstm_3[0][2]                     \n__________________________________________________________________________________________________\ndense_8 (Dense)                 (None, 64)           8256        concatenate_5[0][0]              \n__________________________________________________________________________________________________\ndense_9 (Dense)                 (None, 64)           8256        concatenate_6[0][0]              \n__________________________________________________________________________________________________\nlstm_4 (LSTM)                   [(None, 60, 64), (No 33024       lstm_3[0][0]                     \n                                                                 dense_8[0][0]                    \n                                                                 dense_9[0][0]                    \n__________________________________________________________________________________________________\nconcatenate_7 (Concatenate)     (None, 128)          0           dense_8[0][0]                    \n                                                                 lstm_4[0][1]                     \n__________________________________________________________________________________________________\nconcatenate_8 (Concatenate)     (None, 128)          0           dense_9[0][0]                    \n                                                                 lstm_4[0][2]                     \n__________________________________________________________________________________________________\ndense_10 (Dense)                (None, 32)           4128        concatenate_7[0][0]              \n__________________________________________________________________________________________________\ndense_11 (Dense)                (None, 32)           4128        concatenate_8[0][0]              \n__________________________________________________________________________________________________\nlstm_5 (LSTM)                   [(None, 32), (None,  12416       lstm_4[0][0]                     \n                                                                 dense_10[0][0]                   \n                                                                 dense_11[0][0]                   \n__________________________________________________________________________________________________\nconcatenate_9 (Concatenate)     (None, 96)           0           lstm_5[0][0]                     \n                                                                 dense_1[0][0]                    \n__________________________________________________________________________________________________\nz_mean (Dense)                  (None, 32)           3104        concatenate_9[0][0]              \n__________________________________________________________________________________________________\nz_log_var (Dense)               (None, 32)           3104        concatenate_9[0][0]              \n__________________________________________________________________________________________________\nencoderOutput (Lambda)          (None, 32)           0           z_mean[0][0]                     \n                                                                 z_log_var[0][0]                  \n==================================================================================================\nTotal params: 207,616\nTrainable params: 207,616\nNon-trainable params: 0\n__________________________________________________________________________________________________\nNone\n__________________________________________________________________________________________________\nLayer (type)                    Output Shape         Param #     Connected to                     \n==================================================================================================\ndecoderInput (InputLayer)       (None, 32)           0                                            \n__________________________________________________________________________________________________\nrepeat (RepeatVector)           (None, 60, 32)       0           decoderInput[0][0]               \n__________________________________________________________________________________________________\nlstm_6 (LSTM)                   [(None, 60, 64), (No 24832       repeat[0][0]                     \n__________________________________________________________________________________________________\nlstm_7 (LSTM)                   [(None, 60, 64), (No 33024       lstm_6[0][0]                     \n__________________________________________________________________________________________________\nlstm_8 (LSTM)                   [(None, 60, 64), (No 33024       lstm_7[0][0]                     \n__________________________________________________________________________________________________\nlstm_9 (LSTM)                   [(None, 60, 64), (No 33024       lstm_8[0][0]                     \n__________________________________________________________________________________________________\nconcatenate_18 (Concatenate)    (None, 128)          0           lstm_9[0][1]                     \n                                                                 lstm_9[0][2]                     \n__________________________________________________________________________________________________\noutputDynamic (LSTM)            (None, 60, 27)       9936        lstm_9[0][0]                     \n__________________________________________________________________________________________________\noutputStatic (Dense)            (None, 3)            387         concatenate_18[0][0]             \n==================================================================================================\nTotal params: 134,227\nTrainable params: 134,227\nNon-trainable params: 0\n__________________________________________________________________________________________________\nNone\n"
    }
   ],
   "source": [
    "decoder = predictSmiles.loadDecoder(nCharInSmiles, nCharSet, nStatic, weightsFile)"
   ]
  },
  {
   "cell_type": "code",
   "execution_count": 75,
   "metadata": {},
   "outputs": [
    {
     "name": "stdout",
     "output_type": "stream",
     "text": "[[7.91632481 1.05000931 5.05945471 9.04675349 4.88309245 5.00058411\n  6.76805375 0.80003954 7.26793153 9.79356426 7.17791875 9.27460229\n  3.83158637 2.26007372 4.68711324 4.63721871 3.44176021 3.95207417\n  7.69285749 4.66096233 4.86081444 4.27301981 9.82128357 4.89456253\n  8.13946964 4.75840521 4.14685096 3.68789454 3.50253204 3.62568268\n  7.75007779 7.49465428]]\n"
    }
   ],
   "source": [
    "latentVector = [random.random() for iii in range(nLatent)]\n",
    "latentVector = np.array(latentVector).reshape(-1, 32)\n",
    "latentVector *= 10\n",
    "print(latentVector)\n",
    "    \n",
    "prediction = decoder.predict(latentVector)[0].reshape(nCharInSmiles, nCharSet)"
   ]
  },
  {
   "cell_type": "code",
   "execution_count": 76,
   "metadata": {},
   "outputs": [
    {
     "data": {
      "text/plain": "['C',\n 'c',\n 'c',\n 'c',\n 'c',\n 'c',\n 'c',\n 'c',\n 'c',\n 'c',\n 'c',\n 'c',\n 'c',\n 'c',\n 'c',\n 'c',\n 'c',\n 'c',\n 'c',\n 'c',\n 'c',\n 'c',\n 'c',\n 'c',\n 'c',\n 'c',\n 'c',\n 'c',\n 'c',\n 'c',\n 'c',\n 'c',\n 'c',\n 'c',\n 'c',\n 'c',\n 'c',\n 'c',\n 'c',\n 'c',\n 'c',\n 'c',\n 'c',\n ' ',\n ' ',\n ' ',\n ' ',\n ' ',\n ' ',\n ' ',\n ' ',\n ' ',\n ' ',\n ' ',\n ' ',\n ' ',\n ' ',\n ' ',\n ' ',\n ' ']"
     },
     "execution_count": 76,
     "metadata": {},
     "output_type": "execute_result"
    }
   ],
   "source": [
    "smiles = []\n",
    "for iii in range(nCharInSmiles):\n",
    "    smiles.append(indices2char[np.argmax(prediction[iii, :])])\n",
    "smiles\n"
   ]
  },
  {
   "cell_type": "code",
   "execution_count": 60,
   "metadata": {},
   "outputs": [
    {
     "data": {
      "text/plain": "['C',\n 'c',\n 'c',\n 'c',\n 'c',\n 'c',\n 'c',\n 'c',\n 'c',\n 'c',\n 'c',\n 'c',\n 'c',\n 'c',\n 'c',\n 'c',\n 'c',\n 'c',\n 'c',\n 'c',\n 'c',\n 'c',\n 'c',\n 'c',\n 'c',\n 'c',\n 'c',\n 'c',\n 'c',\n 'c',\n 'c',\n 'c',\n 'c',\n 'c',\n 'c',\n 'c',\n 'c',\n 'c',\n 'c',\n 'c',\n 'c',\n 'c',\n 'c',\n 'c',\n 'c',\n 'c',\n 'c',\n 'c',\n 'c',\n 'c',\n 'c',\n 'c',\n ' ',\n ' ',\n ' ',\n ' ',\n ' ',\n ' ',\n ' ',\n ' ']"
     },
     "execution_count": 60,
     "metadata": {},
     "output_type": "execute_result"
    }
   ],
   "source": [
    "smiles = []\n",
    "for iii in range(nCharInSmiles):\n",
    "    smiles.append(indices2char[np.argmax(prediction[iii, :])])\n",
    "smiles\n"
   ]
  },
  {
   "cell_type": "code",
   "execution_count": null,
   "metadata": {},
   "outputs": [],
   "source": []
  }
 ]
}